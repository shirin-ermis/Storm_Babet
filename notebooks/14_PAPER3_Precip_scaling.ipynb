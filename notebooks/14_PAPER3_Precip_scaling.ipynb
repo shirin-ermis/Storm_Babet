{
 "cells": [
  {
   "cell_type": "code",
   "execution_count": 1,
   "metadata": {},
   "outputs": [
    {
     "data": {
      "text/plain": [
       "<dask.config.set at 0x7f4780c34490>"
      ]
     },
     "execution_count": 1,
     "metadata": {},
     "output_type": "execute_result"
    }
   ],
   "source": [
    "import matplotlib.pyplot as plt\n",
    "import numpy as np\n",
    "import xarray as xr\n",
    "import pandas as pd\n",
    "import os\n",
    "import seaborn as sns\n",
    "import random \n",
    "import dask\n",
    "import babet as bb\n",
    "\n",
    "sns.set_theme(style=\"white\")\n",
    "sns.set_style(\"white\")\n",
    "\n",
    "random.seed(10)\n",
    "# inidates = ['2023-10-11', '2023-10-15', '2023-10-17']\n",
    "inidates = ['2023-10-11', '2023-10-13', '2023-10-15', '2023-10-17']\n",
    "experiments = ['pi', 'curr', 'incr']\n",
    "\n",
    "dask.config.set(**{'array.slicing.split_large_chunks': True})"
   ]
  },
  {
   "cell_type": "markdown",
   "metadata": {},
   "source": [
    "# Results from all methods"
   ]
  },
  {
   "cell_type": "code",
   "execution_count": null,
   "metadata": {},
   "outputs": [],
   "source": [
    "stats = [{'med': 16.8, 'q1': -17.0, 'q3': 60.3, 'whislo' : 0, 'whishi': 0},  # ERA5 analogues\n",
    "        #  {},  # RACMO analogues\n",
    "         {'med': 10.34, 'q1': 6.38, 'q3': 13.09, 'whislo' : 0, 'whishi': 0},  # PGW past\n",
    "         {'med': 10.99, 'q1': 3.85, 'q3': 21.13, 'whislo' : 0, 'whishi': 0},  # PGW FUT1\n",
    "         {'med': 9.55, 'q1': 4.63, 'q3': 16.68, 'whislo' : 0, 'whishi': 0},  # PGW FUT2\n",
    "         {'med': -25.2, 'q1': -41.6, 'q3': -8.7, 'whislo' : 0, 'whishi': 0},  # FBA IFS, past, 15\n",
    "         {'med': 46.5, 'q1': 13.3, 'q3': 84.6, 'whislo' : 0, 'whishi': 0},  # FBA IFS, fut, 15\n",
    "         {'med': 13.9, 'q1': 10.1, 'q3': 17.6, 'whislo' : 0, 'whishi': 0},  # FBA IFS, all, 17\n",
    "         {'med': 12.9, 'q1': 12.9, 'q3': 12.9, 'whislo' : 0, 'whishi': 0},  # FBA ACCESS, future\n",
    "         {'med': -8.7, 'q1': -8.7, 'q3': -8.7, 'whislo' : 0, 'whishi': 0},  # FBA ACCESS, past\n",
    "        #  {}   # Probabilistic\n",
    "]"
   ]
  },
  {
   "cell_type": "code",
   "execution_count": 28,
   "metadata": {},
   "outputs": [
    {
     "data": {
      "text/plain": [
       "Text(0, 0.5, 'Precipitation scaling (%/K)')"
      ]
     },
     "execution_count": 28,
     "metadata": {},
     "output_type": "execute_result"
    },
    {
     "data": {
      "image/png": "[encoded data removed]",
      "text/plain": [
       "<Figure size 640x480 with 1 Axes>"
      ]
     },
     "metadata": {},
     "output_type": "display_data"
    }
   ],
   "source": [
    "# https://stackoverflow.com/questions/54033076/can-i-generate-a-boxplot-without-a-dataset-and-only-having-the-relevant-values\n",
    "\n",
    "# Main plot\n",
    "_, ax = plt.subplots();\n",
    "ax.bxp(stats, showfliers=False, \n",
    "       showcaps=False, \n",
    "       whiskerprops={'linestyle': ''}, \n",
    "       medianprops={'linestyle': '-', 'color': 'black'});\n",
    "\n",
    "# Horizontal line at 7 %/K and 14 %/K and 0\n",
    "plt.axhline(y=7, color='black', linestyle='--', linewidth=0.5)\n",
    "plt.axhline(y=14, color='black', linestyle='--', linewidth=0.5)\n",
    "plt.axhline(y=0, color='red', linestyle='-', linewidth=0.5)\n",
    "\n",
    "# Plot settings\n",
    "plt.ylabel(\"Precipitation scaling (%/K)\")"
   ]
  },
  {
   "cell_type": "code",
   "execution_count": null,
   "metadata": {},
   "outputs": [],
   "source": []
  }
 ],
 "metadata": {
  "kernelspec": {
   "display_name": "babet-3-7-12_new",
   "language": "python",
   "name": "python3"
  },
  "language_info": {
   "codemirror_mode": {
    "name": "ipython",
    "version": 3
   },
   "file_extension": ".py",
   "mimetype": "text/x-python",
   "name": "python",
   "nbconvert_exporter": "python",
   "pygments_lexer": "ipython3",
   "version": "3.7.12"
  }
 },
 "nbformat": 4,
 "nbformat_minor": 2
}
