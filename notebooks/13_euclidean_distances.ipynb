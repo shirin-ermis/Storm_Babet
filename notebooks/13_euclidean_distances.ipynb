{
 "cells": [
  {
   "cell_type": "code",
   "execution_count": 1,
   "metadata": {},
   "outputs": [
    {
     "data": {
      "text/plain": [
       "<dask.config.set at 0x7fa689c4c990>"
      ]
     },
     "execution_count": 1,
     "metadata": {},
     "output_type": "execute_result"
    }
   ],
   "source": [
    "import matplotlib.pyplot as plt\n",
    "import numpy as np\n",
    "import xarray as xr\n",
    "import pandas as pd\n",
    "import os\n",
    "import seaborn as sns\n",
    "import random \n",
    "import dask\n",
    "import cartopy.crs as ccrs\n",
    "import cartopy.feature as cfeature\n",
    "from cmcrameri import cm\n",
    "import babet as bb\n",
    "import matplotlib.patches as patches\n",
    "from matplotlib.collections import PatchCollection\n",
    "import metpy.calc as mpcalc \n",
    "from metpy.units import units\n",
    "\n",
    "sns.set_theme(style=\"white\")\n",
    "sns.set_style(\"white\")\n",
    "\n",
    "random.seed(10)\n",
    "# inidates = ['2023-10-11', '2023-10-15', '2023-10-17']\n",
    "inidates = ['2023-10-11', '2023-10-13', '2023-10-15', '2023-10-17']\n",
    "experiments = ['pi', 'curr', 'incr']\n",
    "\n",
    "dask.config.set(**{'array.slicing.split_large_chunks': True})"
   ]
  },
  {
   "cell_type": "code",
   "execution_count": 2,
   "metadata": {},
   "outputs": [],
   "source": [
    "# Import forecast data \n",
    "base_dir = '/gf5/predict/AWH019_ERMIS_ATMICP/Babet/DATA/MED-R/EXP/{}/EU025/sfc/pf'\n",
    "exp = {}\n",
    "for experiment in experiments:\n",
    "    exp[experiment] = xr.open_mfdataset(os.path.join(base_dir.format(experiment), '*.nc'), preprocess=bb.Data.preproc_ds)"
   ]
  },
  {
   "cell_type": "code",
   "execution_count": 3,
   "metadata": {},
   "outputs": [],
   "source": [
    "# Import ERA5 data\n",
    "era5_dir = '/gf5/predict/AWH019_ERMIS_ATMICP/Babet/DATA/ERA5/EU025/sfc/'\n",
    "era5 = xr.open_mfdataset(os.path.join(era5_dir, '*.nc'))\n",
    "era5 = era5.sel(time=slice('2023-10-17 00', '2023-10-23 00'))"
   ]
  },
  {
   "cell_type": "code",
   "execution_count": 24,
   "metadata": {},
   "outputs": [],
   "source": [
    "# Define area, same as for analogues\n",
    "lat_min = 40\n",
    "lat_max = 65\n",
    "lon_min = -20\n",
    "lon_max = 20"
   ]
  },
  {
   "cell_type": "code",
   "execution_count": 70,
   "metadata": {},
   "outputs": [],
   "source": [
    "def get_area_weights(lat, lon):\n",
    "    '''\n",
    "    Get the area weights based on a lat/lon grid\n",
    "\n",
    "    Inputs\n",
    "    ------\n",
    "    lat : xr.DataArray\n",
    "        Latitude array\n",
    "    \n",
    "    Returns\n",
    "    -------\n",
    "    xr.DataArray\n",
    "        Area weights\n",
    "    '''\n",
    "\n",
    "    lat_rad = np.radians(lat).values  # Convert latitude to radians\n",
    "    weights = (np.cos(lat_rad))[np.newaxis, :] # Compute weights as cos(latitude)\n",
    "    # llat, llon = np.meshgrid(lat, lon) # Create meshgrid\n",
    "    weights_mesh = np.tile(weights, (len(lon), 1)).T # Tile weights to match meshgrid\n",
    "    \n",
    "    return xr.DataArray(weights_mesh, coords=[lat, lon], dims=[\"latitude\", \"longitude\"])\n"
   ]
  },
  {
   "cell_type": "code",
   "execution_count": 72,
   "metadata": {},
   "outputs": [],
   "source": [
    "# test =exp['pi'].sel(time=slice('2023-10-20 00', '2023-10-21 00'), latitude=slice(lat_max, lat_min), longitude=slice(lon_min, lon_max), inidate='2023-10-17', number=1).mean(dim='time').msl\n",
    "# get_area_weights(test.latitude, test.longitude).shape"
   ]
  },
  {
   "cell_type": "code",
   "execution_count": 116,
   "metadata": {},
   "outputs": [],
   "source": [
    "def euclidean_distance(field,event):\n",
    "    '''\n",
    "    Calculate the euclidean distance between a field and an event.\n",
    "\n",
    "    Inputs\n",
    "    -------\n",
    "      field = single cube of psi.\n",
    "      event = cube of single day of event to match.\n",
    "      BOTH MUST HAVE SAME DIMENSIONS FOR LAT/LON\n",
    "\n",
    "    Outputs\n",
    "    -------\n",
    "        D = list of euclidean distances between field and event.\n",
    "    \n",
    "    Written by Vikki Thompson and Shirin Ermis.\n",
    "    '''\n",
    "    D = []  # to be list of all euclidean distances\n",
    "    \n",
    "    # if not event.coord('latitude').has_bounds():\n",
    "    #     event.coord('latitude').guess_bounds()\n",
    "    # if not event.coord('longitude').has_bounds():\n",
    "    #     event.coord('longitude').guess_bounds()\n",
    "    \n",
    "    weights = get_area_weights(event.latitude, event.longitude)\n",
    "    event = event * weights\n",
    "    members, lats, lons = np.shape(field.data) # get dimensions of field\n",
    "    field = field * np.array([weights] * members) \n",
    "    \n",
    "    XA = event.data.reshape(lats * lons, 1)\n",
    "    XB = field.data.reshape(members,lats * lons, 1)\n",
    "    \n",
    "    for Xb in XB:\n",
    "        D.append(np.sqrt(np.sum(np.square(XA - Xb))))\n",
    "    \n",
    "    return D"
   ]
  },
  {
   "cell_type": "code",
   "execution_count": 126,
   "metadata": {},
   "outputs": [],
   "source": [
    "era5_20 = era5.sel(time=slice('2023-10-20 00', '2023-10-21 00'), latitude=slice(lat_max, lat_min), longitude=slice(lon_min, lon_max)).mean(dim='time').msl\n",
    "exp20 = {exp_key: exp[exp_key].sel(time=slice('2023-10-20 00', '2023-10-21 00'), latitude=slice(lat_max, lat_min), longitude=slice(lon_min, lon_max), inidate=slice('2023-10-15', '2023-10-17')).mean(dim='time').msl for exp_key in exp.keys()}\n",
    "distance = {}\n",
    "inidates = ['2023-10-15', '2023-10-17']\n",
    "\n",
    "for inidate in inidates:\n",
    "    distance[inidate] = {}\n",
    "    for experiment in experiments:\n",
    "            ensemble = exp20[experiment].sel(inidate=inidate)\n",
    "            distance[inidate][experiment] = euclidean_distance(ensemble, era5_20)"
   ]
  },
  {
   "cell_type": "code",
   "execution_count": 136,
   "metadata": {},
   "outputs": [],
   "source": [
    "plot_data = []\n",
    "    \n",
    "for outer_key, inner_dict in distance.items():\n",
    "    for inner_key, dask_array in inner_dict.items():\n",
    "        values = dask.compute(*dask_array)  # Convert dask array to NumPy\n",
    "        for v in values:\n",
    "                plot_data.append({'inidate': outer_key, 'experiment': inner_key, 'euclidean_distance': v})\n",
    "    \n",
    "df = pd.DataFrame(plot_data)"
   ]
  },
  {
   "cell_type": "code",
   "execution_count": 138,
   "metadata": {},
   "outputs": [
    {
     "data": {
      "image/png": "[encoded data removed]",
      "text/plain": [
       "<Figure size 1000x600 with 1 Axes>"
      ]
     },
     "metadata": {},
     "output_type": "display_data"
    }
   ],
   "source": [
    "plt.figure(figsize=(10, 6))\n",
    "sns.boxplot(x='inidate', y='euclidean_distance', hue='experiment', data=df)\n",
    "plt.title(\"Euclidean distance between ERA5 and FBA simulations\")\n",
    "plt.legend(title='experiment')\n",
    "plt.show()"
   ]
  },
  {
   "cell_type": "code",
   "execution_count": null,
   "metadata": {},
   "outputs": [],
   "source": []
  }
 ],
 "metadata": {
  "kernelspec": {
   "display_name": "babet-3-7-12_new",
   "language": "python",
   "name": "python3"
  },
  "language_info": {
   "codemirror_mode": {
    "name": "ipython",
    "version": 3
   },
   "file_extension": ".py",
   "mimetype": "text/x-python",
   "name": "python",
   "nbconvert_exporter": "python",
   "pygments_lexer": "ipython3",
   "version": "undefined.undefined.undefined"
  }
 },
 "nbformat": 4,
 "nbformat_minor": 2
}
