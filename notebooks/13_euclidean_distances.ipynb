{
 "cells": [
  {
   "cell_type": "code",
   "execution_count": 1,
   "metadata": {},
   "outputs": [
    {
     "data": {
      "text/plain": [
       "<dask.config.set at 0x7ff1851c0a90>"
      ]
     },
     "execution_count": 1,
     "metadata": {},
     "output_type": "execute_result"
    }
   ],
   "source": [
    "import matplotlib.pyplot as plt\n",
    "import numpy as np\n",
    "import xarray as xr\n",
    "import pandas as pd\n",
    "import os\n",
    "import seaborn as sns\n",
    "import random \n",
    "import dask\n",
    "import cartopy.crs as ccrs\n",
    "import cartopy.feature as cfeature\n",
    "from cmcrameri import cm\n",
    "import babet as bb\n",
    "import matplotlib.patches as patches\n",
    "from matplotlib.collections import PatchCollection\n",
    "import metpy.calc as mpcalc \n",
    "from metpy.units import units\n",
    "from moarpalettes import get_palette\n",
    "\n",
    "sns.set_theme(style=\"white\")\n",
    "sns.set_style(\"white\")\n",
    "\n",
    "random.seed(10)\n",
    "# inidates = ['2023-10-11', '2023-10-15', '2023-10-17']\n",
    "inidates = ['2023-10-11', '2023-10-13', '2023-10-15', '2023-10-17']\n",
    "experiments = ['pi', 'curr', 'incr']\n",
    "\n",
    "dask.config.set(**{'array.slicing.split_large_chunks': True})"
   ]
  },
  {
   "cell_type": "code",
   "execution_count": 2,
   "metadata": {},
   "outputs": [
    {
     "data": {
      "text/html": [
       "<svg  width=\"330\" height=\"55\"><rect x=\"0\" y=\"0\" width=\"55\" height=\"55\" style=\"fill:#5790fc;stroke-width:2;stroke:rgb(255,255,255)\"/><rect x=\"55\" y=\"0\" width=\"55\" height=\"55\" style=\"fill:#f89c20;stroke-width:2;stroke:rgb(255,255,255)\"/><rect x=\"110\" y=\"0\" width=\"55\" height=\"55\" style=\"fill:#e42536;stroke-width:2;stroke:rgb(255,255,255)\"/><rect x=\"165\" y=\"0\" width=\"55\" height=\"55\" style=\"fill:#964a8b;stroke-width:2;stroke:rgb(255,255,255)\"/><rect x=\"220\" y=\"0\" width=\"55\" height=\"55\" style=\"fill:#9c9ca1;stroke-width:2;stroke:rgb(255,255,255)\"/><rect x=\"275\" y=\"0\" width=\"55\" height=\"55\" style=\"fill:#7a21dd;stroke-width:2;stroke:rgb(255,255,255)\"/></svg>"
      ],
      "text/plain": [
       "[(0.3411764705882353, 0.5647058823529412, 0.9882352941176471),\n",
       " (0.9725490196078431, 0.611764705882353, 0.12549019607843137),\n",
       " (0.8941176470588236, 0.1450980392156863, 0.21176470588235294),\n",
       " (0.5882352941176471, 0.2901960784313726, 0.5450980392156862),\n",
       " (0.611764705882353, 0.611764705882353, 0.6313725490196078),\n",
       " (0.47843137254901963, 0.12941176470588237, 0.8666666666666667)]"
      ]
     },
     "execution_count": 2,
     "metadata": {},
     "output_type": "execute_result"
    }
   ],
   "source": [
    "color_palette = get_palette.Petroff6().to_sn_palette()\n",
    "color_palette"
   ]
  },
  {
   "cell_type": "code",
   "execution_count": 3,
   "metadata": {},
   "outputs": [],
   "source": [
    "def get_area_weights(lat, lon, latname='latitude', lonname='longitude'):\n",
    "    '''\n",
    "    Get the area weights based on a lat/lon grid\n",
    "\n",
    "    Inputs\n",
    "    ------\n",
    "    lat : xr.DataArray\n",
    "        Latitude array\n",
    "    \n",
    "    Returns\n",
    "    -------\n",
    "    xr.DataArray\n",
    "        Area weights\n",
    "    '''\n",
    "\n",
    "    lat_rad = np.radians(lat).values  # Convert latitude to radians\n",
    "    weights = (np.cos(lat_rad))[np.newaxis, :] # Compute weights as cos(latitude)\n",
    "    # llat, llon = np.meshgrid(lat, lon) # Create meshgrid\n",
    "    weights_mesh = np.tile(weights, (len(lon), 1)).T # Tile weights to match meshgrid\n",
    "    \n",
    "    return xr.DataArray(weights_mesh, coords=[lat, lon], dims=[latname, lonname])\n"
   ]
  },
  {
   "cell_type": "code",
   "execution_count": 4,
   "metadata": {},
   "outputs": [],
   "source": [
    "def euclidean_distance(field,event):\n",
    "    '''\n",
    "    Calculate the euclidean distance between a field and an event.\n",
    "\n",
    "    Inputs\n",
    "    -------\n",
    "      field = single cube of psi.\n",
    "      event = cube of single day of event to match.\n",
    "      BOTH MUST HAVE SAME DIMENSIONS FOR LAT/LON\n",
    "\n",
    "    Outputs\n",
    "    -------\n",
    "        D = list of euclidean distances between field and event.\n",
    "    \n",
    "    Written by Vikki Thompson and Shirin Ermis.\n",
    "    '''\n",
    "    D = []  # to be list of all euclidean distances\n",
    "    \n",
    "    # if not event.coord('latitude').has_bounds():\n",
    "    #     event.coord('latitude').guess_bounds()\n",
    "    # if not event.coord('longitude').has_bounds():\n",
    "    #     event.coord('longitude').guess_bounds()\n",
    "    \n",
    "    weights = get_area_weights(event.latitude, event.longitude)\n",
    "    event = event * weights\n",
    "    members, lats, lons = np.shape(field.data) # get dimensions of field\n",
    "    field = field * np.array([weights] * members) \n",
    "    \n",
    "    XA = event.data.reshape(lats * lons, 1)\n",
    "    XB = field.data.reshape(members,lats * lons, 1)\n",
    "    \n",
    "    for Xb in XB:\n",
    "        D.append(np.sqrt(np.sum(np.square(XA - Xb))))\n",
    "    \n",
    "    return D"
   ]
  },
  {
   "cell_type": "code",
   "execution_count": 5,
   "metadata": {},
   "outputs": [],
   "source": [
    "# Import ERA5 data\n",
    "era5_dir = '/gf5/predict/AWH019_ERMIS_ATMICP/Babet/DATA/ERA5/EU025/sfc/'\n",
    "era5 = xr.open_mfdataset(os.path.join(era5_dir, '*.nc'))\n",
    "era5 = era5.sel(time=slice('2023-10-17 00', '2023-10-23 00'))"
   ]
  },
  {
   "cell_type": "code",
   "execution_count": 6,
   "metadata": {},
   "outputs": [],
   "source": [
    "# Define area, same as for analogues\n",
    "lat_min = 40\n",
    "lat_max = 65\n",
    "lon_min = -20\n",
    "lon_max = 20"
   ]
  },
  {
   "cell_type": "markdown",
   "metadata": {},
   "source": [
    "# For forecast-based runs"
   ]
  },
  {
   "cell_type": "code",
   "execution_count": 96,
   "metadata": {},
   "outputs": [],
   "source": [
    "# Import forecast data \n",
    "base_dir = '/gf5/predict/AWH019_ERMIS_ATMICP/Babet/DATA/MED-R/EXP/{}/EU025/sfc/pf'\n",
    "exp = {}\n",
    "for experiment in experiments:\n",
    "    exp[experiment] = xr.open_mfdataset(os.path.join(base_dir.format(experiment), '*.nc'), preprocess=bb.Data.preproc_ds)"
   ]
  },
  {
   "cell_type": "code",
   "execution_count": 97,
   "metadata": {},
   "outputs": [],
   "source": [
    "# test =exp['pi'].sel(time=slice('2023-10-20 00', '2023-10-21 00'), latitude=slice(lat_max, lat_min), longitude=slice(lon_min, lon_max), inidate='2023-10-17', number=1).mean(dim='time').msl\n",
    "# get_area_weights(test.latitude, test.longitude).shape"
   ]
  },
  {
   "cell_type": "code",
   "execution_count": 98,
   "metadata": {},
   "outputs": [],
   "source": [
    "era5_20 = era5.sel(time=slice('2023-10-20 00', '2023-10-21 00'), latitude=slice(lat_max, lat_min), longitude=slice(lon_min, lon_max)).mean(dim='time').msl\n",
    "exp20 = {exp_key: exp[exp_key].sel(time=slice('2023-10-20 00', '2023-10-21 00'), latitude=slice(lat_max, lat_min), longitude=slice(lon_min, lon_max), inidate=slice('2023-10-15', '2023-10-17')).mean(dim='time').msl for exp_key in exp.keys()}\n",
    "distance = {}\n",
    "inidates = ['2023-10-15', '2023-10-17']\n",
    "\n",
    "for inidate in inidates:\n",
    "    distance[inidate] = {}\n",
    "    for experiment in experiments:\n",
    "            ensemble = exp20[experiment].sel(inidate=inidate)\n",
    "            distance[inidate][experiment] = euclidean_distance(ensemble, era5_20)"
   ]
  },
  {
   "cell_type": "code",
   "execution_count": 99,
   "metadata": {},
   "outputs": [],
   "source": [
    "plot_data = []\n",
    "    \n",
    "for outer_key, inner_dict in distance.items():\n",
    "    for inner_key, dask_array in inner_dict.items():\n",
    "        values = dask.compute(*dask_array)  # Convert dask array to NumPy\n",
    "        for v in values:\n",
    "                plot_data.append({'inidate': outer_key, 'experiment': inner_key, 'euclidean_distance': v})\n",
    "    \n",
    "df = pd.DataFrame(plot_data)"
   ]
  },
  {
   "cell_type": "code",
   "execution_count": 11,
   "metadata": {},
   "outputs": [],
   "source": [
    "colors = [color_palette[0], color_palette[4], color_palette[1]]"
   ]
  },
  {
   "cell_type": "code",
   "execution_count": 12,
   "metadata": {},
   "outputs": [
    {
     "data": {
      "image/png": "[encoded data removed]",
      "text/plain": [
       "<Figure size 1000x600 with 1 Axes>"
      ]
     },
     "metadata": {},
     "output_type": "display_data"
    }
   ],
   "source": [
    "plt.figure(figsize=(10, 6))\n",
    "sns.boxplot(x='inidate', y='euclidean_distance', hue='experiment', data=df, palette=colors)\n",
    "plt.ylabel('Euclidean distance')\n",
    "plt.xlabel('Initialisation date')\n",
    "plt.title(\"Euclidean distance between ERA5 and FBA simulations\")\n",
    "plt.legend(title='experiment')\n",
    "plt.show()"
   ]
  },
  {
   "cell_type": "markdown",
   "metadata": {},
   "source": [
    "# For all methods"
   ]
  },
  {
   "cell_type": "code",
   "execution_count": 64,
   "metadata": {},
   "outputs": [],
   "source": [
    "def mean_euclidean_distance(field,event, latname='latitude', lonname='longitude'):\n",
    "    '''\n",
    "    Calculate the euclidean distance between a field and an event.\n",
    "\n",
    "    Inputs\n",
    "    -------\n",
    "      field = single cube of psi.\n",
    "      event = cube of single day of event to match.\n",
    "      latname = name of latitude coordinate in field\n",
    "      lonname = name of longitude coordinate in field\n",
    "\n",
    "    Outputs\n",
    "    -------\n",
    "        D = list of euclidean distances between field and event.\n",
    "    \n",
    "    Written by Vikki Thompson and Shirin Ermis.\n",
    "    '''\n",
    "\n",
    "    event = event.interp(latitude=field[latname], longitude=field[lonname], method='linear')\n",
    "\n",
    "    weights = get_area_weights(event.latitude, event.longitude, latname=latname, lonname=lonname)\n",
    "    event = event * weights\n",
    "    members, lats, lons = np.shape(field.data) # get dimensions of field\n",
    "    field = field * np.array([weights]  * members) \n",
    "\n",
    "    XA = event.data.reshape(lats * lons, 1)\n",
    "    XB = field.data.reshape(members, lons * lats, 1)\n",
    "\n",
    "    D = []  # to be list of all euclidean distances\n",
    "\n",
    "    for Xb in XB:\n",
    "        D.append(np.sqrt(np.nanmean(np.square(XA - Xb))))\n",
    "    \n",
    "    return D"
   ]
  },
  {
   "cell_type": "markdown",
   "metadata": {},
   "source": [
    "compare the MSL mean state to that of the ERA5. This is different to what we have for the analogue definition."
   ]
  },
  {
   "cell_type": "code",
   "execution_count": 35,
   "metadata": {},
   "outputs": [],
   "source": [
    "era5_72 = era5.sel(time=slice('2023-10-19 00', '2023-10-22 00'), latitude=slice(lat_max, lat_min), longitude=slice(lon_min, lon_max)).mean(dim='time').msl/100"
   ]
  },
  {
   "cell_type": "code",
   "execution_count": 86,
   "metadata": {},
   "outputs": [
    {
     "name": "stdout",
     "output_type": "stream",
     "text": [
      "Importing data from pre-existing file\n",
      "Importing data from pre-existing file\n",
      "Importing data from pre-existing file\n",
      "Importing data from pre-existing file\n"
     ]
    }
   ],
   "source": [
    "# Data import\n",
    "\n",
    "# ERA5 analogues\n",
    "era5_analogues = bb.data.Data.get_era5_analogues()\n",
    "era5_analogues['msl'] = era5_analogues['msl'].sel(lat=slice(lat_max, lat_min), lon=slice(lon_min, lon_max))/100\n",
    "\n",
    "# RACMO analogues\n",
    "racmo_msl, racmo_tp = bb.data.Data.get_racmo_indiv_analogues()\n",
    "racmo_msl = racmo_msl.sel(lat=slice(lat_max, lat_min), lon=slice(lon_min, lon_max))/100\n",
    "\n",
    "# PGW \n",
    "pgw = bb.data.Data.get_pgw_ensemble()\n",
    "pgw['msl'] = (pgw.msl.sel(time=slice('2023-10-19 00', '2023-10-22 00'), lat=slice(lat_min, lat_max), lon=slice(lon_min, lon_max)).mean('time').squeeze())/100\n",
    "\n",
    "# FBA IFS\n",
    "ifs = bb.data.Data.get_fba_ifs()\n",
    "ifs['msl'] = ifs.msl.sel(time=slice('2023-10-19 00', '2023-10-22 00'), latitude=slice(lat_max, lat_min), longitude=slice(lon_min, lon_max)).mean(dim='time')/100\n",
    "\n",
    "# FBA MICAS -- not ready\n",
    "micas = bb.data.Data.get_fba_micas()\n",
    "micas['msl'] = micas.msl.sel(time=slice('2023-10-19 12', '2023-10-21 12'), lat=slice(lat_min, lat_max), lon=slice(lon_min, lon_max)).mean(dim='time')/100\n"
   ]
  },
  {
   "cell_type": "code",
   "execution_count": 192,
   "metadata": {},
   "outputs": [],
   "source": [
    "# ERA5 analogues\n",
    "era5_analogues_dist = np.array(dask.compute(mean_euclidean_distance(era5_analogues.sel(climate='1950').msl, era5_72, latname='lat', lonname='lon')))[0]"
   ]
  },
  {
   "cell_type": "code",
   "execution_count": 203,
   "metadata": {},
   "outputs": [],
   "source": [
    "# RACMO analogues\n",
    "racmo_analogues_dist = {}\n",
    "for clim in ['1950', 'future1', 'future2']:\n",
    "    with_members = racmo_msl.sel(climate=clim).msl\n",
    "    racmo_analogues_dist[clim] = np.array(dask.compute(mean_euclidean_distance(with_members, era5_72, latname='lat', lonname='lon')))[0]"
   ]
  },
  {
   "cell_type": "code",
   "execution_count": 204,
   "metadata": {},
   "outputs": [],
   "source": [
    "# PGW\n",
    "pgw_dist = {}\n",
    "for clim in ['1870', 'future1', 'future2']:\n",
    "    with_members = pgw.sel(climate=clim).msl\n",
    "    pgw_dist[clim] = np.array(dask.compute(mean_euclidean_distance(with_members, era5_72, latname='lat', lonname='lon')))[0]"
   ]
  },
  {
   "cell_type": "code",
   "execution_count": 205,
   "metadata": {},
   "outputs": [],
   "source": [
    "# IFS\n",
    "ifs_dist = {}\n",
    "for clim in ['1870', '1950', 'future1']:\n",
    "    ifs_dist[clim] = {}\n",
    "    for ini in ['2023-10-15', '2023-10-17']:\n",
    "        with_members = ifs.sel(climate=clim, inidate=ini).msl\n",
    "        ifs_dist[clim][ini] = np.array(dask.compute(mean_euclidean_distance(with_members, era5_72, latname='latitude', lonname='longitude')))[0]"
   ]
  },
  {
   "cell_type": "code",
   "execution_count": 206,
   "metadata": {},
   "outputs": [],
   "source": [
    "# MICAS\n",
    "micas_dist = {}\n",
    "for clim in ['1870', 'future1']:\n",
    "    with_members = micas.sel(climate=clim).msl\n",
    "    micas_dist[clim] = np.array(dask.compute(mean_euclidean_distance(with_members, era5_72, latname='lat', lonname='lon')))[0]"
   ]
  },
  {
   "cell_type": "markdown",
   "metadata": {},
   "source": [
    "# Plot for all methods"
   ]
  },
  {
   "cell_type": "code",
   "execution_count": 221,
   "metadata": {},
   "outputs": [],
   "source": [
    "methods = ['ERA5', 'RACMO', 'PGW', 'IFS', 'MICAS']\n",
    "# ERA5\n",
    "era5_df = pd.DataFrame(data=era5_analogues_dist, columns=['distance']).assign(climate=\"1950\", method=\"ERA5 analogues\")\n",
    "\n",
    "# RACMO\n",
    "racmo_df = pd.concat(\n",
    "    [pd.DataFrame({\"distance\": arr}).assign(climate=key, method=\"RACMO analogues\")\n",
    "     for key, arr in racmo_analogues_dist.items()],\n",
    "    ignore_index=True\n",
    ")\n",
    "# PGW\n",
    "pgw_df = pd.concat(\n",
    "    [pd.DataFrame({\"distance\": arr}).assign(climate=key, method=\"PGW\")\n",
    "     for key, arr in pgw_dist.items()],\n",
    "    ignore_index=True\n",
    ")\n",
    "# IFS\n",
    "nested_dfs = [[pd.DataFrame({\"distance\": arr}).assign(climate=key_clim, inidate=inidate, method=\"FBA IFS\")\n",
    "     for inidate, arr in inner_dict.items()] \n",
    "     for key_clim, inner_dict in ifs_dist.items()]\n",
    "flat_dfs = [df for sublist in nested_dfs for df in sublist]\n",
    "ifs_df = pd.concat(flat_dfs, ignore_index=True)\n",
    "# MICAS\n",
    "micas_df = pd.concat(\n",
    "    [pd.DataFrame({\"distance\": arr}).assign(climate=key, method=\"FBA ACCESS-MICAS\")\n",
    "     for key, arr in micas_dist.items()],\n",
    "    ignore_index=True\n",
    ")"
   ]
  },
  {
   "cell_type": "code",
   "execution_count": 222,
   "metadata": {},
   "outputs": [],
   "source": [
    "plot_df = pd.concat([era5_df, racmo_df, pgw_df, micas_df, ifs_df], ignore_index=True)"
   ]
  },
  {
   "cell_type": "code",
   "execution_count": 223,
   "metadata": {},
   "outputs": [
    {
     "data": {
      "text/html": [
       "<div>\n",
       "<style scoped>\n",
       "    .dataframe tbody tr th:only-of-type {\n",
       "        vertical-align: middle;\n",
       "    }\n",
       "\n",
       "    .dataframe tbody tr th {\n",
       "        vertical-align: top;\n",
       "    }\n",
       "\n",
       "    .dataframe thead th {\n",
       "        text-align: right;\n",
       "    }\n",
       "</style>\n",
       "<table border=\"1\" class=\"dataframe\">\n",
       "  <thead>\n",
       "    <tr style=\"text-align: right;\">\n",
       "      <th></th>\n",
       "      <th>distance</th>\n",
       "      <th>climate</th>\n",
       "      <th>inidate</th>\n",
       "      <th>method</th>\n",
       "    </tr>\n",
       "  </thead>\n",
       "  <tbody>\n",
       "    <tr>\n",
       "      <th>0</th>\n",
       "      <td>2.379993</td>\n",
       "      <td>1870</td>\n",
       "      <td>2023-10-15</td>\n",
       "      <td>FBA IFS</td>\n",
       "    </tr>\n",
       "    <tr>\n",
       "      <th>1</th>\n",
       "      <td>3.181348</td>\n",
       "      <td>1870</td>\n",
       "      <td>2023-10-15</td>\n",
       "      <td>FBA IFS</td>\n",
       "    </tr>\n",
       "    <tr>\n",
       "      <th>2</th>\n",
       "      <td>4.488636</td>\n",
       "      <td>1870</td>\n",
       "      <td>2023-10-15</td>\n",
       "      <td>FBA IFS</td>\n",
       "    </tr>\n",
       "    <tr>\n",
       "      <th>3</th>\n",
       "      <td>2.595101</td>\n",
       "      <td>1870</td>\n",
       "      <td>2023-10-15</td>\n",
       "      <td>FBA IFS</td>\n",
       "    </tr>\n",
       "    <tr>\n",
       "      <th>4</th>\n",
       "      <td>3.099287</td>\n",
       "      <td>1870</td>\n",
       "      <td>2023-10-15</td>\n",
       "      <td>FBA IFS</td>\n",
       "    </tr>\n",
       "    <tr>\n",
       "      <th>...</th>\n",
       "      <td>...</td>\n",
       "      <td>...</td>\n",
       "      <td>...</td>\n",
       "      <td>...</td>\n",
       "    </tr>\n",
       "    <tr>\n",
       "      <th>97</th>\n",
       "      <td>1.482216</td>\n",
       "      <td>1870</td>\n",
       "      <td>2023-10-17</td>\n",
       "      <td>FBA IFS</td>\n",
       "    </tr>\n",
       "    <tr>\n",
       "      <th>98</th>\n",
       "      <td>1.219567</td>\n",
       "      <td>1870</td>\n",
       "      <td>2023-10-17</td>\n",
       "      <td>FBA IFS</td>\n",
       "    </tr>\n",
       "    <tr>\n",
       "      <th>99</th>\n",
       "      <td>1.568576</td>\n",
       "      <td>1870</td>\n",
       "      <td>2023-10-17</td>\n",
       "      <td>FBA IFS</td>\n",
       "    </tr>\n",
       "    <tr>\n",
       "      <th>100</th>\n",
       "      <td>1.701088</td>\n",
       "      <td>1870</td>\n",
       "      <td>2023-10-17</td>\n",
       "      <td>FBA IFS</td>\n",
       "    </tr>\n",
       "    <tr>\n",
       "      <th>101</th>\n",
       "      <td>0.776786</td>\n",
       "      <td>1870</td>\n",
       "      <td>2023-10-17</td>\n",
       "      <td>FBA IFS</td>\n",
       "    </tr>\n",
       "  </tbody>\n",
       "</table>\n",
       "<p>102 rows × 4 columns</p>\n",
       "</div>"
      ],
      "text/plain": [
       "     distance climate     inidate   method\n",
       "0    2.379993    1870  2023-10-15  FBA IFS\n",
       "1    3.181348    1870  2023-10-15  FBA IFS\n",
       "2    4.488636    1870  2023-10-15  FBA IFS\n",
       "3    2.595101    1870  2023-10-15  FBA IFS\n",
       "4    3.099287    1870  2023-10-15  FBA IFS\n",
       "..        ...     ...         ...      ...\n",
       "97   1.482216    1870  2023-10-17  FBA IFS\n",
       "98   1.219567    1870  2023-10-17  FBA IFS\n",
       "99   1.568576    1870  2023-10-17  FBA IFS\n",
       "100  1.701088    1870  2023-10-17  FBA IFS\n",
       "101  0.776786    1870  2023-10-17  FBA IFS\n",
       "\n",
       "[102 rows x 4 columns]"
      ]
     },
     "execution_count": 223,
     "metadata": {},
     "output_type": "execute_result"
    }
   ],
   "source": [
    "ifs_df = pd.concat(\n",
    "    [[pd.DataFrame({\"distance\": arr}).assign(climate=key_clim, inidate=inidate, method=\"FBA IFS\")\n",
    "     for inidate, arr in inner_dict.items()] \n",
    "     for key_clim, inner_dict in ifs_dist.items()][0],\n",
    "    ignore_index=True\n",
    ")\n",
    "ifs_df"
   ]
  },
  {
   "cell_type": "code",
   "execution_count": 224,
   "metadata": {},
   "outputs": [],
   "source": [
    "colors = [color_palette[0], color_palette[4], color_palette[1], color_palette[2]]"
   ]
  },
  {
   "cell_type": "code",
   "execution_count": 225,
   "metadata": {},
   "outputs": [
    {
     "data": {
      "image/png": "[encoded data removed]",
      "text/plain": [
       "<Figure size 1000x600 with 1 Axes>"
      ]
     },
     "metadata": {},
     "output_type": "display_data"
    }
   ],
   "source": [
    "plt.figure(figsize=(10, 6))\n",
    "sns.boxplot(x='method', y='distance', hue='climate', data=plot_df, \n",
    "            palette=colors, \n",
    "            hue_order=['1870', '1950', 'future1', 'future2'],)\n",
    "plt.ylabel('Euclidean distance')\n",
    "plt.xlabel('Method')\n",
    "plt.title(\"Euclidean distance between ERA5 and all methods, 72 hour MSLP mean\")\n",
    "plt.legend(title='climate', bbox_to_anchor=(1.05, 1), loc='upper left')\n",
    "plt.xticks(rotation=45)\n",
    "plt.show()"
   ]
  },
  {
   "cell_type": "code",
   "execution_count": 173,
   "metadata": {},
   "outputs": [
    {
     "data": {
      "text/plain": [
       "array(['1870'], dtype=object)"
      ]
     },
     "execution_count": 173,
     "metadata": {},
     "output_type": "execute_result"
    }
   ],
   "source": [
    "# filter plot_df for FBA IFS\n",
    "plot_df[plot_df['method'] == 'FBA IFS'].climate.unique()"
   ]
  },
  {
   "cell_type": "code",
   "execution_count": null,
   "metadata": {},
   "outputs": [],
   "source": []
  }
 ],
 "metadata": {
  "kernelspec": {
   "display_name": "babet-3-7-12_new",
   "language": "python",
   "name": "python3"
  },
  "language_info": {
   "codemirror_mode": {
    "name": "ipython",
    "version": 3
   },
   "file_extension": ".py",
   "mimetype": "text/x-python",
   "name": "python",
   "nbconvert_exporter": "python",
   "pygments_lexer": "ipython3",
   "version": "3.7.12"
  }
 },
 "nbformat": 4,
 "nbformat_minor": 2
}
