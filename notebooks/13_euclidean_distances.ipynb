{
 "cells": [
  {
   "cell_type": "code",
   "execution_count": 1,
   "metadata": {},
   "outputs": [
    {
     "data": {
      "text/plain": [
       "<dask.config.set at 0x7ff0b271bf50>"
      ]
     },
     "execution_count": 1,
     "metadata": {},
     "output_type": "execute_result"
    }
   ],
   "source": [
    "import matplotlib.pyplot as plt\n",
    "import numpy as np\n",
    "import xarray as xr\n",
    "import pandas as pd\n",
    "import os\n",
    "import seaborn as sns\n",
    "import random \n",
    "import dask\n",
    "import cartopy.crs as ccrs\n",
    "import cartopy.feature as cfeature\n",
    "from cmcrameri import cm\n",
    "import babet as bb\n",
    "import matplotlib.patches as patches\n",
    "from matplotlib.collections import PatchCollection\n",
    "import metpy.calc as mpcalc \n",
    "from metpy.units import units\n",
    "from moarpalettes import get_palette\n",
    "\n",
    "sns.set_theme(style=\"white\")\n",
    "sns.set_style(\"white\")\n",
    "\n",
    "random.seed(10)\n",
    "# inidates = ['2023-10-11', '2023-10-15', '2023-10-17']\n",
    "inidates = ['2023-10-11', '2023-10-13', '2023-10-15', '2023-10-17']\n",
    "experiments = ['pi', 'curr', 'incr']\n",
    "\n",
    "dask.config.set(**{'array.slicing.split_large_chunks': True})"
   ]
  },
  {
   "cell_type": "code",
   "execution_count": 2,
   "metadata": {},
   "outputs": [
    {
     "data": {
      "text/html": [
       "<svg  width=\"1100\" height=\"55\"><rect x=\"0\" y=\"0\" width=\"55\" height=\"55\" style=\"fill:#1f77b4;stroke-width:2;stroke:rgb(255,255,255)\"/><rect x=\"55\" y=\"0\" width=\"55\" height=\"55\" style=\"fill:#aec7e8;stroke-width:2;stroke:rgb(255,255,255)\"/><rect x=\"110\" y=\"0\" width=\"55\" height=\"55\" style=\"fill:#ff7f0e;stroke-width:2;stroke:rgb(255,255,255)\"/><rect x=\"165\" y=\"0\" width=\"55\" height=\"55\" style=\"fill:#ffbb78;stroke-width:2;stroke:rgb(255,255,255)\"/><rect x=\"220\" y=\"0\" width=\"55\" height=\"55\" style=\"fill:#2ca02c;stroke-width:2;stroke:rgb(255,255,255)\"/><rect x=\"275\" y=\"0\" width=\"55\" height=\"55\" style=\"fill:#98df8a;stroke-width:2;stroke:rgb(255,255,255)\"/><rect x=\"330\" y=\"0\" width=\"55\" height=\"55\" style=\"fill:#d62728;stroke-width:2;stroke:rgb(255,255,255)\"/><rect x=\"385\" y=\"0\" width=\"55\" height=\"55\" style=\"fill:#ff9896;stroke-width:2;stroke:rgb(255,255,255)\"/><rect x=\"440\" y=\"0\" width=\"55\" height=\"55\" style=\"fill:#9467bd;stroke-width:2;stroke:rgb(255,255,255)\"/><rect x=\"495\" y=\"0\" width=\"55\" height=\"55\" style=\"fill:#c5b0d5;stroke-width:2;stroke:rgb(255,255,255)\"/><rect x=\"550\" y=\"0\" width=\"55\" height=\"55\" style=\"fill:#8c564b;stroke-width:2;stroke:rgb(255,255,255)\"/><rect x=\"605\" y=\"0\" width=\"55\" height=\"55\" style=\"fill:#c49c94;stroke-width:2;stroke:rgb(255,255,255)\"/><rect x=\"660\" y=\"0\" width=\"55\" height=\"55\" style=\"fill:#e377c2;stroke-width:2;stroke:rgb(255,255,255)\"/><rect x=\"715\" y=\"0\" width=\"55\" height=\"55\" style=\"fill:#f7b6d2;stroke-width:2;stroke:rgb(255,255,255)\"/><rect x=\"770\" y=\"0\" width=\"55\" height=\"55\" style=\"fill:#7f7f7f;stroke-width:2;stroke:rgb(255,255,255)\"/><rect x=\"825\" y=\"0\" width=\"55\" height=\"55\" style=\"fill:#c7c7c7;stroke-width:2;stroke:rgb(255,255,255)\"/><rect x=\"880\" y=\"0\" width=\"55\" height=\"55\" style=\"fill:#bcbd22;stroke-width:2;stroke:rgb(255,255,255)\"/><rect x=\"935\" y=\"0\" width=\"55\" height=\"55\" style=\"fill:#dbdb8d;stroke-width:2;stroke:rgb(255,255,255)\"/><rect x=\"990\" y=\"0\" width=\"55\" height=\"55\" style=\"fill:#17becf;stroke-width:2;stroke:rgb(255,255,255)\"/><rect x=\"1045\" y=\"0\" width=\"55\" height=\"55\" style=\"fill:#9edae5;stroke-width:2;stroke:rgb(255,255,255)\"/></svg>"
      ],
      "text/plain": [
       "[(0.12156862745098039, 0.4666666666666667, 0.7058823529411765),\n",
       " (0.6823529411764706, 0.7803921568627451, 0.9098039215686274),\n",
       " (1.0, 0.4980392156862745, 0.054901960784313725),\n",
       " (1.0, 0.7333333333333333, 0.47058823529411764),\n",
       " (0.17254901960784313, 0.6274509803921569, 0.17254901960784313),\n",
       " (0.596078431372549, 0.8745098039215686, 0.5411764705882353),\n",
       " (0.8392156862745098, 0.15294117647058825, 0.1568627450980392),\n",
       " (1.0, 0.596078431372549, 0.5882352941176471),\n",
       " (0.5803921568627451, 0.403921568627451, 0.7411764705882353),\n",
       " (0.7725490196078432, 0.6901960784313725, 0.8352941176470589),\n",
       " (0.5490196078431373, 0.33725490196078434, 0.29411764705882354),\n",
       " (0.7686274509803922, 0.611764705882353, 0.5803921568627451),\n",
       " (0.8901960784313725, 0.4666666666666667, 0.7607843137254902),\n",
       " (0.9686274509803922, 0.7137254901960784, 0.8235294117647058),\n",
       " (0.4980392156862745, 0.4980392156862745, 0.4980392156862745),\n",
       " (0.7803921568627451, 0.7803921568627451, 0.7803921568627451),\n",
       " (0.7372549019607844, 0.7411764705882353, 0.13333333333333333),\n",
       " (0.8588235294117647, 0.8588235294117647, 0.5529411764705883),\n",
       " (0.09019607843137255, 0.7450980392156863, 0.8117647058823529),\n",
       " (0.6196078431372549, 0.8549019607843137, 0.8980392156862745)]"
      ]
     },
     "execution_count": 2,
     "metadata": {},
     "output_type": "execute_result"
    }
   ],
   "source": [
    "color_palette = get_palette.classic_tab20().to_sn_palette()\n",
    "color_palette"
   ]
  },
  {
   "cell_type": "code",
   "execution_count": 3,
   "metadata": {},
   "outputs": [],
   "source": [
    "def get_area_weights(lat, lon, latname='latitude', lonname='longitude'):\n",
    "    '''\n",
    "    Get the area weights based on a lat/lon grid\n",
    "\n",
    "    Inputs\n",
    "    ------\n",
    "    lat : xr.DataArray\n",
    "        Latitude array\n",
    "    \n",
    "    Returns\n",
    "    -------\n",
    "    xr.DataArray\n",
    "        Area weights\n",
    "    '''\n",
    "\n",
    "    lat_rad = np.radians(lat).values  # Convert latitude to radians\n",
    "    weights = (np.cos(lat_rad))[np.newaxis, :] # Compute weights as cos(latitude)\n",
    "    # llat, llon = np.meshgrid(lat, lon) # Create meshgrid\n",
    "    weights_mesh = np.tile(weights, (len(lon), 1)).T # Tile weights to match meshgrid\n",
    "    \n",
    "    return xr.DataArray(weights_mesh, coords=[lat, lon], dims=[latname, lonname])\n"
   ]
  },
  {
   "cell_type": "code",
   "execution_count": 4,
   "metadata": {},
   "outputs": [],
   "source": [
    "def euclidean_distance(field,event):\n",
    "    '''\n",
    "    Calculate the euclidean distance between a field and an event.\n",
    "\n",
    "    Inputs\n",
    "    -------\n",
    "      field = single cube of psi.\n",
    "      event = cube of single day of event to match.\n",
    "      BOTH MUST HAVE SAME DIMENSIONS FOR LAT/LON\n",
    "\n",
    "    Outputs\n",
    "    -------\n",
    "        D = list of euclidean distances between field and event.\n",
    "    \n",
    "    Written by Vikki Thompson and Shirin Ermis.\n",
    "    '''\n",
    "    D = []  # to be list of all euclidean distances\n",
    "    \n",
    "    # if not event.coord('latitude').has_bounds():\n",
    "    #     event.coord('latitude').guess_bounds()\n",
    "    # if not event.coord('longitude').has_bounds():\n",
    "    #     event.coord('longitude').guess_bounds()\n",
    "    \n",
    "    weights = get_area_weights(event.latitude, event.longitude)\n",
    "    event = event * weights\n",
    "    members, lats, lons = np.shape(field.data) # get dimensions of field\n",
    "    field = field * np.array([weights] * members) \n",
    "    \n",
    "    XA = event.data.reshape(lats * lons, 1)\n",
    "    XB = field.data.reshape(members,lats * lons, 1)\n",
    "    \n",
    "    for Xb in XB:\n",
    "        D.append(np.sqrt(np.sum(np.square(XA - Xb))))\n",
    "    \n",
    "    return D"
   ]
  },
  {
   "cell_type": "code",
   "execution_count": 5,
   "metadata": {},
   "outputs": [],
   "source": [
    "# Import ERA5 data\n",
    "era5_dir = '/gf5/predict/AWH019_ERMIS_ATMICP/Babet/DATA/ERA5/EU025/sfc/'\n",
    "era5 = xr.open_mfdataset(os.path.join(era5_dir, '*.nc'))\n",
    "era5 = era5.sel(time=slice('2023-10-17 00', '2023-10-23 00'))"
   ]
  },
  {
   "cell_type": "code",
   "execution_count": 6,
   "metadata": {},
   "outputs": [],
   "source": [
    "# Define area, same as for analogues\n",
    "lat_min = 40\n",
    "lat_max = 65\n",
    "lon_min = -20\n",
    "lon_max = 20"
   ]
  },
  {
   "cell_type": "markdown",
   "metadata": {},
   "source": [
    "# For forecast-based runs"
   ]
  },
  {
   "cell_type": "code",
   "execution_count": 7,
   "metadata": {},
   "outputs": [],
   "source": [
    "# Import forecast data \n",
    "base_dir = '/gf5/predict/AWH019_ERMIS_ATMICP/Babet/DATA/MED-R/EXP/{}/EU025/sfc/pf'\n",
    "exp = {}\n",
    "for experiment in experiments:\n",
    "    exp[experiment] = xr.open_mfdataset(os.path.join(base_dir.format(experiment), '*.nc'), preprocess=bb.Data.preproc_ds)"
   ]
  },
  {
   "cell_type": "code",
   "execution_count": 8,
   "metadata": {},
   "outputs": [],
   "source": [
    "# test =exp['pi'].sel(time=slice('2023-10-20 00', '2023-10-21 00'), latitude=slice(lat_max, lat_min), longitude=slice(lon_min, lon_max), inidate='2023-10-17', number=1).mean(dim='time').msl\n",
    "# get_area_weights(test.latitude, test.longitude).shape"
   ]
  },
  {
   "cell_type": "code",
   "execution_count": 9,
   "metadata": {},
   "outputs": [],
   "source": [
    "era5_20 = era5.sel(time=slice('2023-10-20 00', '2023-10-21 00'), latitude=slice(lat_max, lat_min), longitude=slice(lon_min, lon_max)).mean(dim='time').msl\n",
    "exp20 = {exp_key: exp[exp_key].sel(time=slice('2023-10-20 00', '2023-10-21 00'), latitude=slice(lat_max, lat_min), longitude=slice(lon_min, lon_max), inidate=slice('2023-10-15', '2023-10-17')).mean(dim='time').msl for exp_key in exp.keys()}\n",
    "distance = {}\n",
    "inidates = ['2023-10-15', '2023-10-17']\n",
    "\n",
    "for inidate in inidates:\n",
    "    distance[inidate] = {}\n",
    "    for experiment in experiments:\n",
    "            ensemble = exp20[experiment].sel(inidate=inidate)\n",
    "            distance[inidate][experiment] = euclidean_distance(ensemble, era5_20)"
   ]
  },
  {
   "cell_type": "code",
   "execution_count": 10,
   "metadata": {},
   "outputs": [],
   "source": [
    "plot_data = []\n",
    "    \n",
    "for outer_key, inner_dict in distance.items():\n",
    "    for inner_key, dask_array in inner_dict.items():\n",
    "        values = dask.compute(*dask_array)  # Convert dask array to NumPy\n",
    "        for v in values:\n",
    "                plot_data.append({'inidate': outer_key, 'experiment': inner_key, 'euclidean_distance': v})\n",
    "    \n",
    "df = pd.DataFrame(plot_data)"
   ]
  },
  {
   "cell_type": "code",
   "execution_count": 11,
   "metadata": {},
   "outputs": [],
   "source": [
    "colors = [color_palette[0], color_palette[4], color_palette[1]]"
   ]
  },
  {
   "cell_type": "code",
   "execution_count": 12,
   "metadata": {},
   "outputs": [
    {
     "data": {
      "image/png": "[encoded data removed]",
      "text/plain": [
       "<Figure size 1000x600 with 1 Axes>"
      ]
     },
     "metadata": {},
     "output_type": "display_data"
    }
   ],
   "source": [
    "plt.figure(figsize=(10, 6))\n",
    "sns.boxplot(x='inidate', y='euclidean_distance', hue='experiment', data=df, palette=colors)\n",
    "plt.ylabel('Euclidean distance')\n",
    "plt.xlabel('Initialisation date')\n",
    "plt.title(\"Euclidean distance between ERA5 and FBA simulations\")\n",
    "plt.legend(title='experiment')\n",
    "plt.show()"
   ]
  },
  {
   "cell_type": "markdown",
   "metadata": {},
   "source": [
    "# For all methods"
   ]
  },
  {
   "cell_type": "code",
   "execution_count": 7,
   "metadata": {},
   "outputs": [],
   "source": [
    "def mean_euclidean_distance(field,event, latname='latitude', lonname='longitude'): # regridding to the field\n",
    "    '''\n",
    "    Calculate the euclidean distance between a field and an event.\n",
    "\n",
    "    Inputs\n",
    "    -------\n",
    "      field = single cube of psi.\n",
    "      event = cube of single day of event to match.\n",
    "      latname = name of latitude coordinate in field\n",
    "      lonname = name of longitude coordinate in field\n",
    "\n",
    "    Outputs\n",
    "    -------\n",
    "        D = list of euclidean distances between field and event.\n",
    "    \n",
    "    Written by Vikki Thompson and Shirin Ermis.\n",
    "    '''\n",
    "\n",
    "    event = event.interp(latitude=field[latname], longitude=field[lonname], method='linear')\n",
    "\n",
    "    weights = get_area_weights(event.latitude, event.longitude, latname=latname, lonname=lonname)\n",
    "    event = event * weights\n",
    "    members, lats, lons = np.shape(field.data) # get dimensions of field\n",
    "    field = field * np.array([weights]  * members) \n",
    "\n",
    "    XA = event.data.reshape(lats * lons, 1)\n",
    "    XB = field.data.reshape(members, lons * lats, 1)\n",
    "\n",
    "    D = []  # to be list of all euclidean distances\n",
    "\n",
    "    for Xb in XB:\n",
    "        D.append(np.sqrt(np.nanmean(np.square(XA - Xb))))\n",
    "    \n",
    "    return D"
   ]
  },
  {
   "cell_type": "code",
   "execution_count": 8,
   "metadata": {},
   "outputs": [],
   "source": [
    "def mean_euclidean_distance2(field,event, latname='latitude', lonname='longitude'): # regridding to era5\n",
    "    '''\n",
    "    Calculate the euclidean distance between a field and an event.\n",
    "\n",
    "    Inputs\n",
    "    -------\n",
    "      field = single cube of psi.\n",
    "      event = cube of single day of event to match.\n",
    "      latname = name of latitude coordinate in field\n",
    "      lonname = name of longitude coordinate in field\n",
    "\n",
    "    Outputs\n",
    "    -------\n",
    "        D = list of euclidean distances between field and event.\n",
    "    \n",
    "    Written by Vikki Thompson and Shirin Ermis.\n",
    "    '''\n",
    "\n",
    "    field = field.interp({latname: event.latitude, lonname: event.longitude}, method='linear')\n",
    "    \n",
    "    weights = get_area_weights(event.latitude, event.longitude, latname='latitude', lonname='longitude')\n",
    "    event = event * weights\n",
    "    members, lats, lons = np.shape(field.data) # get dimensions of field\n",
    "    field = field * np.array([weights]  * members) \n",
    "\n",
    "    XA = event.data.reshape(lats * lons, 1)\n",
    "    XB = field.data.reshape(members, lons * lats, 1)\n",
    "\n",
    "    D = []  # to be list of all euclidean distances\n",
    "\n",
    "    for Xb in XB:\n",
    "        D.append(np.sqrt(np.nanmean(np.square(XA - Xb))))\n",
    "    \n",
    "    return D"
   ]
  },
  {
   "cell_type": "markdown",
   "metadata": {},
   "source": [
    "compare the MSL mean state to that of the ERA5. This is different to what we have for the analogue definition."
   ]
  },
  {
   "cell_type": "code",
   "execution_count": 9,
   "metadata": {},
   "outputs": [],
   "source": [
    "era5_72 = era5.sel(time=slice('2023-10-19 00', '2023-10-22 00'), latitude=slice(lat_max, lat_min), longitude=slice(lon_min, lon_max)).mean(dim='time').msl/100"
   ]
  },
  {
   "cell_type": "code",
   "execution_count": 55,
   "metadata": {},
   "outputs": [
    {
     "name": "stdout",
     "output_type": "stream",
     "text": [
      "Importing data from pre-existing file\n",
      "Importing data from pre-existing file\n",
      "Importing data from pre-existing file\n",
      "Importing data from pre-existing file\n"
     ]
    }
   ],
   "source": [
    "# Data import\n",
    "\n",
    "# ERA5 analogues\n",
    "era5_analogues = bb.data.Data.get_era5_analogues()\n",
    "era5_analogues['msl'] = era5_analogues['msl'].sel(lat=slice(lat_max, lat_min), lon=slice(lon_min, lon_max))/100\n",
    "\n",
    "# RACMO analogues\n",
    "racmo_msl, racmo_tp = bb.data.Data.get_racmo_indiv_analogues()\n",
    "racmo_msl = racmo_msl.sel(lat=slice(lat_max, lat_min), lon=slice(lon_min, lon_max))/100\n",
    "\n",
    "# PGW \n",
    "pgw = bb.data.Data.get_pgw_ensemble()\n",
    "pgw['msl'] = (pgw.msl.sel(time=slice('2023-10-19 00', '2023-10-22 00'), lat=slice(lat_min, lat_max), lon=slice(lon_min, lon_max)).mean('time').squeeze())/100\n",
    "\n",
    "# FBA IFS\n",
    "ifs = bb.data.Data.get_fba_ifs()\n",
    "ifs['msl'] = ifs.msl.sel(time=slice('2023-10-19 00', '2023-10-22 00'), latitude=slice(lat_max, lat_min), longitude=slice(lon_min, lon_max)).mean(dim='time')/100\n",
    "\n",
    "# FBA MICAS \n",
    "micas = bb.data.Data.get_fba_micas()\n",
    "micas['msl'] = micas.msl.sel(time=slice('2023-10-19 12', '2023-10-21 12'), lat=slice(lat_min, lat_max), lon=slice(lon_min, lon_max)).mean(dim='time')/100\n",
    "\n",
    "# Probabilistic\n",
    "pea = xr.open_dataset('/gf5/predict/AWH019_ERMIS_ATMICP/Babet/DATA/PEA/mslp_era5_events_pea.nc')\n"
   ]
  },
  {
   "cell_type": "code",
   "execution_count": 122,
   "metadata": {},
   "outputs": [],
   "source": [
    "pea_dist = {}\n",
    "for clim in ['1950','present']:\n",
    "    if clim == '1950':\n",
    "        with_members = pea.sel(time=slice('1950-01-01 00', '1979-12-31 00')).msl\n",
    "    else:\n",
    "        with_members = pea.sel(time=slice('1991-12-21 00', '2020-12-31 00')).msl\n",
    "    pea_dist[clim] = np.array(dask.compute(mean_euclidean_distance2(with_members/100, era5_72, latname='lat', lonname='lon')))[0]"
   ]
  },
  {
   "cell_type": "code",
   "execution_count": 123,
   "metadata": {},
   "outputs": [],
   "source": [
    "# ERA5 analogues\n",
    "era5_analogues_dist = {}\n",
    "for clim in ['1950','present']:\n",
    "    with_members = era5_analogues.sel(climate=clim).msl\n",
    "    era5_analogues_dist[clim] = np.array(dask.compute(mean_euclidean_distance2(with_members, era5_72, latname='lat', lonname='lon')))[0]"
   ]
  },
  {
   "cell_type": "code",
   "execution_count": 124,
   "metadata": {},
   "outputs": [],
   "source": [
    "# RACMO analogues\n",
    "racmo_analogues_dist = {}\n",
    "for clim in ['1950','present', 'future1', 'future2']:\n",
    "    with_members = racmo_msl.sel(climate=clim).msl\n",
    "    racmo_analogues_dist[clim] = np.array(dask.compute(mean_euclidean_distance2(with_members, era5_72, latname='lat', lonname='lon')))[0]"
   ]
  },
  {
   "cell_type": "code",
   "execution_count": 125,
   "metadata": {},
   "outputs": [],
   "source": [
    "# PGW\n",
    "pgw_dist = {}\n",
    "for clim in ['1870', 'present', 'future1', 'future2']:\n",
    "    with_members = pgw.sel(climate=clim).msl\n",
    "    pgw_dist[clim] = np.array(dask.compute(mean_euclidean_distance2(with_members, era5_72, latname='lat', lonname='lon')))[0]"
   ]
  },
  {
   "cell_type": "code",
   "execution_count": 126,
   "metadata": {},
   "outputs": [],
   "source": [
    "# IFS\n",
    "ifs_dist = {}\n",
    "for ini in ['2023-10-15', '2023-10-17']:\n",
    "    ifs_dist[ini] = {}\n",
    "    for clim in ['1870', '1950', 'present', 'future1']:\n",
    "        with_members = ifs.sel(climate=clim, inidate=ini).msl\n",
    "        ifs_dist[ini][clim] = np.array(dask.compute(mean_euclidean_distance2(with_members, era5_72, latname='latitude', lonname='longitude')))[0]"
   ]
  },
  {
   "cell_type": "code",
   "execution_count": 127,
   "metadata": {},
   "outputs": [],
   "source": [
    "# MICAS\n",
    "micas_dist = {}\n",
    "for clim in ['1870', 'present', 'future1']:\n",
    "    with_members = micas.sel(climate=clim).msl\n",
    "    micas_dist[clim] = np.array(dask.compute(mean_euclidean_distance2(with_members, era5_72, latname='lat', lonname='lon')))[0]"
   ]
  },
  {
   "cell_type": "markdown",
   "metadata": {},
   "source": [
    "# Plot for all methods"
   ]
  },
  {
   "cell_type": "code",
   "execution_count": 128,
   "metadata": {},
   "outputs": [],
   "source": [
    "methods = ['ERA5', 'RACMO', 'PGW', 'IFS', 'MICAS']\n",
    "# ERA5\n",
    "era5_df = pd.concat(\n",
    "    [pd.DataFrame({\"distance\": arr}).assign(climate=key, method=\"ERA5 analogues\")\n",
    "     for key, arr in era5_analogues_dist.items()],\n",
    "    ignore_index=True\n",
    ")\n",
    "\n",
    "#pd.DataFrame(data=era5_analogues_dist, columns=['distance']).assign(climate=\"1950\", method=\"ERA5 analogues\")\n",
    "\n",
    "# RACMO\n",
    "racmo_df = pd.concat(\n",
    "    [pd.DataFrame({\"distance\": arr}).assign(climate=key, method=\"RACMO analogues\")\n",
    "     for key, arr in racmo_analogues_dist.items()],\n",
    "    ignore_index=True\n",
    ")\n",
    "# PGW\n",
    "pgw_df = pd.concat(\n",
    "    [pd.DataFrame({\"distance\": arr}).assign(climate=key, method=\"PGW\")\n",
    "     for key, arr in pgw_dist.items()],\n",
    "    ignore_index=True\n",
    ")\n",
    "# IFS\n",
    "# nested_dfs = [[pd.DataFrame({\"distance\": arr}).assign(climate=key_clim, inidate=inidate, method=\"FBA IFS\")\n",
    "#      for inidate, arr in inner_dict.items()] \n",
    "#      for key_clim, inner_dict in ifs_dist.items()]\n",
    "# flat_dfs = [df for sublist in nested_dfs for df in sublist]\n",
    "ifs15_df = pd.concat(\n",
    "    [pd.DataFrame({\"distance\": arr}).assign(climate=key, method=\"FBA IFS long lead time\")\n",
    "     for key, arr in ifs_dist['2023-10-15'].items()],\n",
    "    ignore_index=True\n",
    ")\n",
    "ifs17_df = pd.concat(\n",
    "    [pd.DataFrame({\"distance\": arr}).assign(climate=key, method=\"FBA IFS short lead time\")\n",
    "     for key, arr in ifs_dist['2023-10-17'].items()],\n",
    "    ignore_index=True\n",
    ")\n",
    "# MICAS\n",
    "micas_df = pd.concat(\n",
    "    [pd.DataFrame({\"distance\": arr}).assign(climate=key, method=\"FBA ACCESS-MICAS\")\n",
    "     for key, arr in micas_dist.items()],\n",
    "    ignore_index=True\n",
    ")\n",
    "\n",
    "# PEA\n",
    "pea_df = pd.concat(\n",
    "    [pd.DataFrame({\"distance\": arr}).assign(climate=key, method=\"Probabilistic\")\n",
    "     for key, arr in pea_dist.items()],\n",
    "    ignore_index=True\n",
    ")"
   ]
  },
  {
   "cell_type": "code",
   "execution_count": 129,
   "metadata": {},
   "outputs": [],
   "source": [
    "plot_df = pd.concat([pea_df, era5_df, racmo_df, pgw_df, micas_df, ifs15_df, ifs17_df], ignore_index=True)"
   ]
  },
  {
   "cell_type": "code",
   "execution_count": 130,
   "metadata": {},
   "outputs": [],
   "source": [
    "ifs_df = pd.concat(\n",
    "    [[pd.DataFrame({\"distance\": arr}).assign(climate=key_clim, inidate=inidate, method=\"FBA IFS\")\n",
    "     for inidate, arr in inner_dict.items()] \n",
    "     for key_clim, inner_dict in ifs_dist.items()][0],\n",
    "    ignore_index=True\n",
    ")"
   ]
  },
  {
   "cell_type": "code",
   "execution_count": 131,
   "metadata": {},
   "outputs": [
    {
     "data": {
      "text/html": [
       "<div>\n",
       "<style scoped>\n",
       "    .dataframe tbody tr th:only-of-type {\n",
       "        vertical-align: middle;\n",
       "    }\n",
       "\n",
       "    .dataframe tbody tr th {\n",
       "        vertical-align: top;\n",
       "    }\n",
       "\n",
       "    .dataframe thead th {\n",
       "        text-align: right;\n",
       "    }\n",
       "</style>\n",
       "<table border=\"1\" class=\"dataframe\">\n",
       "  <thead>\n",
       "    <tr style=\"text-align: right;\">\n",
       "      <th></th>\n",
       "      <th>distance</th>\n",
       "      <th>climate</th>\n",
       "      <th>method</th>\n",
       "    </tr>\n",
       "  </thead>\n",
       "  <tbody>\n",
       "    <tr>\n",
       "      <th>30</th>\n",
       "      <td>12.758952</td>\n",
       "      <td>present</td>\n",
       "      <td>Probabilistic</td>\n",
       "    </tr>\n",
       "    <tr>\n",
       "      <th>31</th>\n",
       "      <td>7.180241</td>\n",
       "      <td>present</td>\n",
       "      <td>Probabilistic</td>\n",
       "    </tr>\n",
       "    <tr>\n",
       "      <th>32</th>\n",
       "      <td>5.485812</td>\n",
       "      <td>present</td>\n",
       "      <td>Probabilistic</td>\n",
       "    </tr>\n",
       "    <tr>\n",
       "      <th>33</th>\n",
       "      <td>7.186005</td>\n",
       "      <td>present</td>\n",
       "      <td>Probabilistic</td>\n",
       "    </tr>\n",
       "    <tr>\n",
       "      <th>34</th>\n",
       "      <td>12.459776</td>\n",
       "      <td>present</td>\n",
       "      <td>Probabilistic</td>\n",
       "    </tr>\n",
       "    <tr>\n",
       "      <th>...</th>\n",
       "      <td>...</td>\n",
       "      <td>...</td>\n",
       "      <td>...</td>\n",
       "    </tr>\n",
       "    <tr>\n",
       "      <th>2308</th>\n",
       "      <td>1.150700</td>\n",
       "      <td>present</td>\n",
       "      <td>FBA IFS short lead time</td>\n",
       "    </tr>\n",
       "    <tr>\n",
       "      <th>2309</th>\n",
       "      <td>1.828856</td>\n",
       "      <td>present</td>\n",
       "      <td>FBA IFS short lead time</td>\n",
       "    </tr>\n",
       "    <tr>\n",
       "      <th>2310</th>\n",
       "      <td>1.214810</td>\n",
       "      <td>present</td>\n",
       "      <td>FBA IFS short lead time</td>\n",
       "    </tr>\n",
       "    <tr>\n",
       "      <th>2311</th>\n",
       "      <td>1.215051</td>\n",
       "      <td>present</td>\n",
       "      <td>FBA IFS short lead time</td>\n",
       "    </tr>\n",
       "    <tr>\n",
       "      <th>2312</th>\n",
       "      <td>0.809864</td>\n",
       "      <td>present</td>\n",
       "      <td>FBA IFS short lead time</td>\n",
       "    </tr>\n",
       "  </tbody>\n",
       "</table>\n",
       "<p>627 rows × 3 columns</p>\n",
       "</div>"
      ],
      "text/plain": [
       "       distance  climate                   method\n",
       "30    12.758952  present            Probabilistic\n",
       "31     7.180241  present            Probabilistic\n",
       "32     5.485812  present            Probabilistic\n",
       "33     7.186005  present            Probabilistic\n",
       "34    12.459776  present            Probabilistic\n",
       "...         ...      ...                      ...\n",
       "2308   1.150700  present  FBA IFS short lead time\n",
       "2309   1.828856  present  FBA IFS short lead time\n",
       "2310   1.214810  present  FBA IFS short lead time\n",
       "2311   1.215051  present  FBA IFS short lead time\n",
       "2312   0.809864  present  FBA IFS short lead time\n",
       "\n",
       "[627 rows x 3 columns]"
      ]
     },
     "execution_count": 131,
     "metadata": {},
     "output_type": "execute_result"
    }
   ],
   "source": [
    "plot_df[plot_df['climate'] == 'present']"
   ]
  },
  {
   "cell_type": "code",
   "execution_count": 132,
   "metadata": {},
   "outputs": [],
   "source": [
    "from tkinter import font\n",
    "from numpy import size"
   ]
  },
  {
   "cell_type": "code",
   "execution_count": 139,
   "metadata": {},
   "outputs": [
    {
     "data": {
      "image/png": "[encoded data removed]",
      "text/plain": [
       "<Figure size 900x600 with 1 Axes>"
      ]
     },
     "metadata": {},
     "output_type": "display_data"
    }
   ],
   "source": [
    "plot_df = plot_df[plot_df['climate'] != 'future2'] \n",
    "colors = [color_palette[0], color_palette[1], color_palette[14], color_palette[2]] # 1870, 1950, present, incr\n",
    "\n",
    "plt.figure(figsize=(9, 6))\n",
    "\n",
    "sns.set_theme(style=\"white\", palette=\"bright\")\n",
    "sns.boxplot(\n",
    "    y='method',\n",
    "    x='distance',\n",
    "    hue='climate',\n",
    "    data=plot_df,\n",
    "    palette=colors,\n",
    "    hue_order=['1870', '1950', 'present', 'future1'],\n",
    "    order=[\n",
    "        'PGW',\n",
    "        'FBA IFS short lead time',\n",
    "        'FBA IFS long lead time',\n",
    "        'FBA ACCESS-MICAS',\n",
    "        'RACMO analogues',\n",
    "        'ERA5 analogues',\n",
    "        'Probabilistic'\n",
    "    ],\n",
    "    boxprops=dict(linewidth=0),\n",
    "    saturation=1  # removes outline of boxes only\n",
    ")\n",
    "\n",
    "# Axis labels and ticks\n",
    "plt.xlabel('Average euclidean distance (hPa)', fontsize=20)\n",
    "plt.ylabel('')\n",
    "plt.xticks(fontsize=20)\n",
    "\n",
    "# Remove y tick labels\n",
    "plt.yticks([])\n",
    "\n",
    "# Legend\n",
    "plt.legend(\n",
    "    title='climate',\n",
    "    loc='upper right',\n",
    "    fontsize=20,\n",
    "    title_fontsize=20,\n",
    "    frameon=False  # optional: no frame for legend\n",
    ")\n",
    "\n",
    "# Styling\n",
    "sns.despine(left=True)  # removes left (y-axis) spine\n",
    "plt.grid(axis='x', linestyle=':', alpha=0.5)\n",
    "\n",
    "# plt.savefig('figures/13_euclidean_distance_all_methods.png', bbox_inches='tight', dpi=600)"
   ]
  },
  {
   "cell_type": "code",
   "execution_count": 134,
   "metadata": {},
   "outputs": [
    {
     "data": {
      "text/html": [
       "<svg  width=\"1100\" height=\"55\"><rect x=\"0\" y=\"0\" width=\"55\" height=\"55\" style=\"fill:#1f77b4;stroke-width:2;stroke:rgb(255,255,255)\"/><rect x=\"55\" y=\"0\" width=\"55\" height=\"55\" style=\"fill:#aec7e8;stroke-width:2;stroke:rgb(255,255,255)\"/><rect x=\"110\" y=\"0\" width=\"55\" height=\"55\" style=\"fill:#ff7f0e;stroke-width:2;stroke:rgb(255,255,255)\"/><rect x=\"165\" y=\"0\" width=\"55\" height=\"55\" style=\"fill:#ffbb78;stroke-width:2;stroke:rgb(255,255,255)\"/><rect x=\"220\" y=\"0\" width=\"55\" height=\"55\" style=\"fill:#2ca02c;stroke-width:2;stroke:rgb(255,255,255)\"/><rect x=\"275\" y=\"0\" width=\"55\" height=\"55\" style=\"fill:#98df8a;stroke-width:2;stroke:rgb(255,255,255)\"/><rect x=\"330\" y=\"0\" width=\"55\" height=\"55\" style=\"fill:#d62728;stroke-width:2;stroke:rgb(255,255,255)\"/><rect x=\"385\" y=\"0\" width=\"55\" height=\"55\" style=\"fill:#ff9896;stroke-width:2;stroke:rgb(255,255,255)\"/><rect x=\"440\" y=\"0\" width=\"55\" height=\"55\" style=\"fill:#9467bd;stroke-width:2;stroke:rgb(255,255,255)\"/><rect x=\"495\" y=\"0\" width=\"55\" height=\"55\" style=\"fill:#c5b0d5;stroke-width:2;stroke:rgb(255,255,255)\"/><rect x=\"550\" y=\"0\" width=\"55\" height=\"55\" style=\"fill:#8c564b;stroke-width:2;stroke:rgb(255,255,255)\"/><rect x=\"605\" y=\"0\" width=\"55\" height=\"55\" style=\"fill:#c49c94;stroke-width:2;stroke:rgb(255,255,255)\"/><rect x=\"660\" y=\"0\" width=\"55\" height=\"55\" style=\"fill:#e377c2;stroke-width:2;stroke:rgb(255,255,255)\"/><rect x=\"715\" y=\"0\" width=\"55\" height=\"55\" style=\"fill:#f7b6d2;stroke-width:2;stroke:rgb(255,255,255)\"/><rect x=\"770\" y=\"0\" width=\"55\" height=\"55\" style=\"fill:#7f7f7f;stroke-width:2;stroke:rgb(255,255,255)\"/><rect x=\"825\" y=\"0\" width=\"55\" height=\"55\" style=\"fill:#c7c7c7;stroke-width:2;stroke:rgb(255,255,255)\"/><rect x=\"880\" y=\"0\" width=\"55\" height=\"55\" style=\"fill:#bcbd22;stroke-width:2;stroke:rgb(255,255,255)\"/><rect x=\"935\" y=\"0\" width=\"55\" height=\"55\" style=\"fill:#dbdb8d;stroke-width:2;stroke:rgb(255,255,255)\"/><rect x=\"990\" y=\"0\" width=\"55\" height=\"55\" style=\"fill:#17becf;stroke-width:2;stroke:rgb(255,255,255)\"/><rect x=\"1045\" y=\"0\" width=\"55\" height=\"55\" style=\"fill:#9edae5;stroke-width:2;stroke:rgb(255,255,255)\"/></svg>"
      ],
      "text/plain": [
       "[(0.12156862745098039, 0.4666666666666667, 0.7058823529411765),\n",
       " (0.6823529411764706, 0.7803921568627451, 0.9098039215686274),\n",
       " (1.0, 0.4980392156862745, 0.054901960784313725),\n",
       " (1.0, 0.7333333333333333, 0.47058823529411764),\n",
       " (0.17254901960784313, 0.6274509803921569, 0.17254901960784313),\n",
       " (0.596078431372549, 0.8745098039215686, 0.5411764705882353),\n",
       " (0.8392156862745098, 0.15294117647058825, 0.1568627450980392),\n",
       " (1.0, 0.596078431372549, 0.5882352941176471),\n",
       " (0.5803921568627451, 0.403921568627451, 0.7411764705882353),\n",
       " (0.7725490196078432, 0.6901960784313725, 0.8352941176470589),\n",
       " (0.5490196078431373, 0.33725490196078434, 0.29411764705882354),\n",
       " (0.7686274509803922, 0.611764705882353, 0.5803921568627451),\n",
       " (0.8901960784313725, 0.4666666666666667, 0.7607843137254902),\n",
       " (0.9686274509803922, 0.7137254901960784, 0.8235294117647058),\n",
       " (0.4980392156862745, 0.4980392156862745, 0.4980392156862745),\n",
       " (0.7803921568627451, 0.7803921568627451, 0.7803921568627451),\n",
       " (0.7372549019607844, 0.7411764705882353, 0.13333333333333333),\n",
       " (0.8588235294117647, 0.8588235294117647, 0.5529411764705883),\n",
       " (0.09019607843137255, 0.7450980392156863, 0.8117647058823529),\n",
       " (0.6196078431372549, 0.8549019607843137, 0.8980392156862745)]"
      ]
     },
     "execution_count": 134,
     "metadata": {},
     "output_type": "execute_result"
    }
   ],
   "source": [
    "color_palette"
   ]
  },
  {
   "cell_type": "code",
   "execution_count": null,
   "metadata": {},
   "outputs": [],
   "source": []
  },
  {
   "cell_type": "code",
   "execution_count": null,
   "metadata": {},
   "outputs": [],
   "source": []
  }
 ],
 "metadata": {
  "kernelspec": {
   "display_name": "babet-3-7-12_new",
   "language": "python",
   "name": "python3"
  },
  "language_info": {
   "codemirror_mode": {
    "name": "ipython",
    "version": 3
   },
   "file_extension": ".py",
   "mimetype": "text/x-python",
   "name": "python",
   "nbconvert_exporter": "python",
   "pygments_lexer": "ipython3",
   "version": "3.7.12"
  }
 },
 "nbformat": 4,
 "nbformat_minor": 2
}
