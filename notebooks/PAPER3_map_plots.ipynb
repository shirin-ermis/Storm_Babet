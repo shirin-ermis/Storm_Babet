{
 "cells": [
  {
   "cell_type": "code",
   "execution_count": 2,
   "metadata": {},
   "outputs": [
    {
     "data": {
      "text/plain": [
       "<dask.config.set at 0x7f6875a23390>"
      ]
     },
     "execution_count": 2,
     "metadata": {},
     "output_type": "execute_result"
    }
   ],
   "source": [
    "import matplotlib.pyplot as plt\n",
    "import numpy as np\n",
    "import xarray as xr\n",
    "import pandas as pd\n",
    "import os\n",
    "import seaborn as sns\n",
    "import random \n",
    "import dask\n",
    "import babet as bb\n",
    "from moarpalettes import get_palette\n",
    "from cartopy import crs as ccrs\n",
    "import cartopy.feature as cfeature\n",
    "import matplotlib.patches as patches\n",
    "from cmcrameri import cm\n",
    "from matplotlib.ticker import FormatStrFormatter\n",
    "from matplotlib.ticker import FuncFormatter, ScalarFormatter\n",
    "from moarpalettes import get_palette\n",
    "\n",
    "sns.set_theme(style=\"white\")\n",
    "sns.set_style(\"white\")\n",
    "\n",
    "random.seed(10)\n",
    "# inidates = ['2023-10-11', '2023-10-15', '2023-10-17']\n",
    "inidates = ['2023-10-15', '2023-10-17']\n",
    "experiments = ['pi', 'curr', 'incr']\n",
    "\n",
    "dask.config.set(**{'array.slicing.split_large_chunks': True})"
   ]
  },
  {
   "cell_type": "code",
   "execution_count": 3,
   "metadata": {},
   "outputs": [
    {
     "data": {
      "text/html": [
       "<svg  width=\"330\" height=\"55\"><rect x=\"0\" y=\"0\" width=\"55\" height=\"55\" style=\"fill:#5790fc;stroke-width:2;stroke:rgb(255,255,255)\"/><rect x=\"55\" y=\"0\" width=\"55\" height=\"55\" style=\"fill:#f89c20;stroke-width:2;stroke:rgb(255,255,255)\"/><rect x=\"110\" y=\"0\" width=\"55\" height=\"55\" style=\"fill:#e42536;stroke-width:2;stroke:rgb(255,255,255)\"/><rect x=\"165\" y=\"0\" width=\"55\" height=\"55\" style=\"fill:#964a8b;stroke-width:2;stroke:rgb(255,255,255)\"/><rect x=\"220\" y=\"0\" width=\"55\" height=\"55\" style=\"fill:#9c9ca1;stroke-width:2;stroke:rgb(255,255,255)\"/><rect x=\"275\" y=\"0\" width=\"55\" height=\"55\" style=\"fill:#7a21dd;stroke-width:2;stroke:rgb(255,255,255)\"/></svg>"
      ],
      "text/plain": [
       "[(0.3411764705882353, 0.5647058823529412, 0.9882352941176471),\n",
       " (0.9725490196078431, 0.611764705882353, 0.12549019607843137),\n",
       " (0.8941176470588236, 0.1450980392156863, 0.21176470588235294),\n",
       " (0.5882352941176471, 0.2901960784313726, 0.5450980392156862),\n",
       " (0.611764705882353, 0.611764705882353, 0.6313725490196078),\n",
       " (0.47843137254901963, 0.12941176470588237, 0.8666666666666667)]"
      ]
     },
     "execution_count": 3,
     "metadata": {},
     "output_type": "execute_result"
    }
   ],
   "source": [
    "color_palette = get_palette.Petroff6().to_sn_palette()\n",
    "color_palette"
   ]
  },
  {
   "cell_type": "code",
   "execution_count": 4,
   "metadata": {},
   "outputs": [],
   "source": [
    "# Plot settings\n",
    "\n",
    "# UK\n",
    "lat_max = 62\n",
    "lat_min = 47\n",
    "lon_min = -12\n",
    "lon_max = 5\n",
    "\n",
    "euroatlantic = [lon_min-13, lon_max, lat_min-5, lat_max+6]\n",
    "uk = [-11, 10, 45, 65] # longitude min, longitude max, latitude min, latitude max\n",
    "northsea = [-17, 20, 40, 70]"
   ]
  },
  {
   "cell_type": "markdown",
   "metadata": {},
   "source": [
    "# Load data"
   ]
  },
  {
   "cell_type": "code",
   "execution_count": 5,
   "metadata": {},
   "outputs": [
    {
     "name": "stdout",
     "output_type": "stream",
     "text": [
      "Importing data from pre-existing file\n"
     ]
    }
   ],
   "source": [
    "# ERA5 analogues\n",
    "\n",
    "# check if file exists\n",
    "if not os.path.exists('/gf5/predict/AWH019_ERMIS_ATMICP/Babet/DATA/ERA5_analogues/analogues_72hour_mean.nc'):\n",
    "    # precip\n",
    "    tmp1 = xr.open_mfdataset('/gf5/predict/AWH019_ERMIS_ATMICP/Babet/DATA/ERA5_analogues/analogues72_tp_past2.nc').expand_dims(climate=[\"1950\"])\n",
    "    tmp2 = xr.open_mfdataset('/gf5/predict/AWH019_ERMIS_ATMICP/Babet/DATA/ERA5_analogues/analogues72_tp_prst2.nc').expand_dims(climate=[\"present\"])\n",
    "\n",
    "    tmp = xr.concat([tmp1, tmp2], dim=\"climate\")\n",
    "\n",
    "    # Find all variables that start with \"unknown\"\n",
    "    precip_vars = sorted([var for var in tmp.data_vars if var.startswith(\"unknown\")])\n",
    "\n",
    "    # Stack all precipitation variables along the new 'member' dimension\n",
    "    tp = xr.concat([tmp[var] for var in precip_vars], dim=\"member\")\n",
    "\n",
    "    # Assign member values from 1 to 27\n",
    "    tp = tp.assign_coords(member=np.arange(1, len(precip_vars) + 1))\n",
    "\n",
    "    # Create a new dataset with the combined variable\n",
    "    era5_analogues = xr.Dataset({\"tp\": tp}, coords={\"lat\": tmp.lat, \"lon\": tmp.lon, \"member\": tp.member})\n",
    "\n",
    "\n",
    "    # mean sea level pressure\n",
    "    tmp1 = xr.open_mfdataset('/gf5/predict/AWH019_ERMIS_ATMICP/Babet/DATA/ERA5_analogues/analogues72_slp_past2.nc').expand_dims(climate=[\"1950\"])\n",
    "    tmp2 = xr.open_mfdataset('/gf5/predict/AWH019_ERMIS_ATMICP/Babet/DATA/ERA5_analogues/analogues72_slp_prst2.nc').expand_dims(climate=[\"present\"])\n",
    "\n",
    "    tmp = xr.concat([tmp1, tmp2], dim=\"climate\")\n",
    "\n",
    "    # Find all variables that start with \"unknown\"\n",
    "    slp_vars = sorted([var for var in tmp.data_vars if var.startswith(\"msl\")])\n",
    "\n",
    "    # Stack all precipitation variables along the new 'member' dimension\n",
    "    msl = xr.concat([tmp[var] for var in slp_vars], dim=\"member\")\n",
    "\n",
    "    # Assign member values from 1 to 27\n",
    "    msl = msl.assign_coords(member=np.arange(1, len(slp_vars) + 1))\n",
    "\n",
    "    # Create a new dataset with the combined variable\n",
    "    era5_analogues = xr.merge([era5_analogues,\n",
    "                               xr.Dataset({\"msl\": msl}, coords={\"lat\": tmp.lat, \"lon\": tmp.lon, \"member\": msl.member})], compat=\"override\")\n",
    "\n",
    "    # 2m temperature\n",
    "    tmp1 = xr.open_mfdataset('/gf5/predict/AWH019_ERMIS_ATMICP/Babet/DATA/ERA5_analogues/analogues72_t2m_past2.nc').expand_dims(climate=[\"1950\"])\n",
    "    tmp2 = xr.open_mfdataset('/gf5/predict/AWH019_ERMIS_ATMICP/Babet/DATA/ERA5_analogues/analogues72_t2m_prst2.nc').expand_dims(climate=[\"present\"])\n",
    "\n",
    "    tmp = xr.concat([tmp1, tmp2], dim=\"climate\")\n",
    "\n",
    "    # Find all variables that start with \"unknown\"\n",
    "    t2m_vars = sorted([var for var in tmp.data_vars if var.startswith(\"unknown\")])\n",
    "\n",
    "    # Stack all precipitation variables along the new 'member' dimension\n",
    "    t2m = xr.concat([tmp[var] for var in t2m_vars], dim=\"member\")\n",
    "\n",
    "    # Assign member values from 1 to 27\n",
    "    t2m = t2m.assign_coords(member=np.arange(1, len(t2m_vars) + 1))\n",
    "\n",
    "    # Create a new dataset with the combined variable\n",
    "    era5_analogues = xr.merge([era5_analogues,\n",
    "                               xr.Dataset({\"t2m\": t2m}, coords={\"lat\": tmp.lat, \"lon\": tmp.lon, \"member\": t2m.member})], compat=\"override\")\n",
    "\n",
    "    # Save to netcdf\n",
    "    era5_analogues.to_netcdf('/gf5/predict/AWH019_ERMIS_ATMICP/Babet/DATA/ERA5_analogues/analogues_72hour_mean.nc')\n",
    "else:\n",
    "    print('Importing data from pre-existing file')\n",
    "    era5_analogues = xr.open_dataset('/gf5/predict/AWH019_ERMIS_ATMICP/Babet/DATA/ERA5_analogues/analogues_72hour_mean.nc')"
   ]
  },
  {
   "cell_type": "code",
   "execution_count": 6,
   "metadata": {},
   "outputs": [
    {
     "name": "stdout",
     "output_type": "stream",
     "text": [
      "Importing data from pre-existing file\n"
     ]
    }
   ],
   "source": [
    "# RACMO analogues\n",
    "\n",
    "# check if file exists\n",
    "if not os.path.exists('/gf5/predict/AWH019_ERMIS_ATMICP/Babet/DATA/RACMO_analogues/analogues_msl_72hour_mean.nc'):\n",
    "\n",
    "    # mslp\n",
    "    tmp1 = xr.open_dataset('/gf5/predict/AWH019_ERMIS_ATMICP/Babet/DATA/RACMO_analogues/analogs_RACMO_2023-10-20_use27_stat_AmeanprSCOT_NC_mslp_1951-1980.nc').expand_dims(climate=[\"1950\"])\n",
    "    tmp2 = xr.open_dataset('/gf5/predict/AWH019_ERMIS_ATMICP/Babet/DATA/RACMO_analogues/analogs_RACMO_2023-10-20_use27_stat_AmeanprSCOT_NC_mslp_1991-2020.nc').expand_dims(climate=[\"present\"])\n",
    "    tmp3 = xr.open_dataset('/gf5/predict/AWH019_ERMIS_ATMICP/Babet/DATA/RACMO_analogues/analogs_RACMO_2023-10-20_use27_stat_AmeanprSCOT_NC_mslp_2071-2100.nc').expand_dims(climate=[\"future1\"])\n",
    "    racmo_msl = xr.concat([tmp1, tmp2, tmp3], dim=\"climate\").rename({\"mslp\": \"msl\"})\n",
    "\n",
    "    # precip\n",
    "    tmp1 = xr.open_dataset('/gf5/predict/AWH019_ERMIS_ATMICP/Babet/DATA/RACMO_analogues/analogs_RACMO_2023-10-20_use27_stat_AmeanprSCOT_NC_precip_1951-1980.nc').expand_dims(climate=[\"1950\"])\n",
    "    tmp1_ = xr.Dataset({\"tp\": ((\"climate\", \"lat\", \"lon\"), tmp1.precip.values)},\n",
    "                 coords={\"lat\": tmp1.lat.values[:,0], \n",
    "                         \"lon\": tmp1.lon.values[0,:],\n",
    "                         \"climate\": tmp1.climate.values})\n",
    "    tmp2 = xr.open_dataset('/gf5/predict/AWH019_ERMIS_ATMICP/Babet/DATA/RACMO_analogues/analogs_RACMO_2023-10-20_use27_stat_AmeanprSCOT_NC_precip_1991-2020.nc').expand_dims(climate=[\"present\"])\n",
    "    tmp2_ = xr.Dataset({\"tp\": ((\"climate\", \"lat\", \"lon\"), tmp2.precip.values)},\n",
    "                 coords={\"lat\": tmp2.lat.values[:,0], \n",
    "                         \"lon\": tmp2.lon.values[0,:],\n",
    "                         \"climate\": tmp2.climate.values})\n",
    "    tmp3 = xr.open_dataset('/gf5/predict/AWH019_ERMIS_ATMICP/Babet/DATA/RACMO_analogues/analogs_RACMO_2023-10-20_use27_stat_AmeanprSCOT_NC_precip_2071-2100.nc').expand_dims(climate=[\"future1\"])\n",
    "    tmp3_= xr.Dataset({\"tp\": ((\"climate\", \"lat\", \"lon\"), tmp3.precip.values)},\n",
    "                 coords={\"lat\": tmp3.lat.values[:,0], \n",
    "                         \"lon\": tmp3.lon.values[0,:],\n",
    "                         \"climate\": tmp3.climate.values})\n",
    "    racmo_tp = xr.concat([tmp1_, tmp2_, tmp3_], dim=\"climate\")\n",
    "    \n",
    "    # t2m\n",
    "    # missing so far\n",
    "\n",
    "    # Save file in two parts because lat lon are not compatible\n",
    "    racmo_msl.to_netcdf('/gf5/predict/AWH019_ERMIS_ATMICP/Babet/DATA/RACMO_analogues/analogues_msl_72hour_mean.nc')\n",
    "    racmo_tp.to_netcdf('/gf5/predict/AWH019_ERMIS_ATMICP/Babet/DATA/RACMO_analogues/analogues_tp_72hour_mean.nc')\n",
    "else:\n",
    "    print('Importing data from pre-existing file')\n",
    "    racmo_msl = xr.open_dataset('/gf5/predict/AWH019_ERMIS_ATMICP/Babet/DATA/RACMO_analogues/analogues_msl_72hour_mean.nc')\n",
    "    racmo_tp = xr.open_dataset('/gf5/predict/AWH019_ERMIS_ATMICP/Babet/DATA/RACMO_analogues/analogues_tp_72hour_mean.nc')"
   ]
  },
  {
   "cell_type": "code",
   "execution_count": 7,
   "metadata": {},
   "outputs": [
    {
     "name": "stdout",
     "output_type": "stream",
     "text": [
      "Importing data from pre-existing file\n"
     ]
    }
   ],
   "source": [
    "# PGW ens members\n",
    "# check if file exists\n",
    "if not os.path.exists('/gf5/predict/AWH019_ERMIS_ATMICP/Babet/DATA/PGW_ensemble/pgw_clean_ensemble.nc'):\n",
    "    # mean sea level pressure\n",
    "    tmp1 = xr.open_dataset('/gf5/predict/AWH019_ERMIS_ATMICP/Babet/DATA/PGW_ensemble/pgw_slp_PGW+1.nc').expand_dims(climate=[\"1870\"])\n",
    "    tmp2 = xr.open_dataset('/gf5/predict/AWH019_ERMIS_ATMICP/Babet/DATA/PGW_ensemble/pgw_slp_CTL.nc').expand_dims(climate=[\"present\"])\n",
    "    tmp3 = xr.open_dataset('/gf5/predict/AWH019_ERMIS_ATMICP/Babet/DATA/PGW_ensemble/pgw_slp_PGW+1.nc').expand_dims(climate=[\"future1\"])\n",
    "    \n",
    "    tmp4dry = xr.open_dataset('/gf5/predict/AWH019_ERMIS_ATMICP/Babet/DATA/PGW_ensemble/pgw_slp_PGWdry+3.nc').expand_dims(dummy=[\"dry\"])\n",
    "    tmp4wet = xr.open_dataset('/gf5/predict/AWH019_ERMIS_ATMICP/Babet/DATA/PGW_ensemble/pgw_slp_PGWwet+3.nc').expand_dims(dummy=[\"wet\"])\n",
    "    tmp4 = xr.concat([tmp4dry, tmp4wet], dim=\"dummy\").mean(\"dummy\").squeeze().expand_dims(climate=[\"future2\"])\n",
    "\n",
    "    tmp1_ = bb.data.Data.clean_array_racmo(tmp1, var_name=\"msl\")\n",
    "    tmp2_ = bb.data.Data.clean_array_racmo(tmp2 , var_name=\"msl\")\n",
    "    tmp3_ = bb.data.Data.clean_array_racmo(tmp3, var_name=\"msl\")\n",
    "    tmp4_ = bb.data.Data.clean_array_racmo(tmp4, var_name=\"msl\")\n",
    "    pgw_ens = xr.concat([tmp1_, tmp2_, tmp3_, tmp4_], dim=\"climate\")\n",
    "\n",
    "    # precip\n",
    "    tmp1 = xr.open_dataset('/gf5/predict/AWH019_ERMIS_ATMICP/Babet/DATA/PGW_ensemble/pgw_pr_PGW-1.nc').expand_dims(climate=[\"1870\"])\n",
    "    tmp2 = xr.open_dataset('/gf5/predict/AWH019_ERMIS_ATMICP/Babet/DATA/PGW_ensemble/pgw_pr_CTL.nc').expand_dims(climate=[\"present\"])\n",
    "    tmp3 = xr.open_dataset('/gf5/predict/AWH019_ERMIS_ATMICP/Babet/DATA/PGW_ensemble/pgw_pr_PGW+1.nc').expand_dims(climate=[\"future1\"])\n",
    "    \n",
    "    tmp4dry = xr.open_dataset('/gf5/predict/AWH019_ERMIS_ATMICP/Babet/DATA/PGW_ensemble/pgw_pr_PGWdry+3.nc').expand_dims(dummy=[\"dry\"])\n",
    "    tmp4wet = xr.open_dataset('/gf5/predict/AWH019_ERMIS_ATMICP/Babet/DATA/PGW_ensemble/pgw_pr_PGWwet+3.nc').expand_dims(dummy=[\"wet\"])\n",
    "    tmp4 = xr.concat([tmp4dry, tmp4wet], dim=\"dummy\").mean(\"dummy\").squeeze().expand_dims(climate=[\"future2\"])\n",
    "\n",
    "    tmp1_ = bb.data.Data.clean_array_racmo(tmp1, var_name=\"unknown\")\n",
    "    tmp2_ = bb.data.Data.clean_array_racmo(tmp2, var_name=\"unknown\")\n",
    "    tmp3_ = bb.data.Data.clean_array_racmo(tmp3, var_name=\"unknown\")\n",
    "    tmp4_ = bb.data.Data.clean_array_racmo(tmp4, var_name=\"unknown\")\n",
    "    pgw_ens = xr.merge([pgw_ens, \n",
    "                        xr.concat([tmp1_, tmp2_, tmp3_, tmp4_], dim=\"climate\").rename({\"unknown\": \"tp\"})], \n",
    "                        compat=\"override\")\n",
    "    \n",
    "    # temperature\n",
    "    tmp1 = xr.open_dataset('/gf5/predict/AWH019_ERMIS_ATMICP/Babet/DATA/PGW_ensemble/pgw_t2m_PGW-1.nc').expand_dims(climate=[\"1870\"])\n",
    "    tmp2 = xr.open_dataset('/gf5/predict/AWH019_ERMIS_ATMICP/Babet/DATA/PGW_ensemble/pgw_t2m_CTL.nc').expand_dims(climate=[\"present\"])\n",
    "    tmp3 = xr.open_dataset('/gf5/predict/AWH019_ERMIS_ATMICP/Babet/DATA/PGW_ensemble/pgw_t2m_PGW+1.nc').expand_dims(climate=[\"future1\"])\n",
    "    \n",
    "    tmp4dry = xr.open_dataset('/gf5/predict/AWH019_ERMIS_ATMICP/Babet/DATA/PGW_ensemble/pgw_t2m_PGWdry+3.nc').expand_dims(dummy=[\"dry\"])\n",
    "    tmp4wet = xr.open_dataset('/gf5/predict/AWH019_ERMIS_ATMICP/Babet/DATA/PGW_ensemble/pgw_t2m_PGWwet+3.nc').expand_dims(dummy=[\"wet\"])\n",
    "    tmp4 = xr.concat([tmp4dry, tmp4wet], dim=\"dummy\").mean(\"dummy\").squeeze().expand_dims(climate=[\"future2\"])\n",
    "    \n",
    "    tmp1_ = bb.data.Data.clean_array_racmo(tmp1, var_name=\"t2m\")\n",
    "    tmp2_ = bb.data.Data.clean_array_racmo(tmp2, var_name=\"t2m\")\n",
    "    tmp3_ = bb.data.Data.clean_array_racmo(tmp3, var_name=\"t2m\")\n",
    "    tmp4_ = bb.data.Data.clean_array_racmo(tmp4, var_name=\"t2m\")\n",
    "    pgw_ens = xr.merge([pgw_ens, \n",
    "                        xr.concat([tmp1_, tmp2_, tmp3_, tmp4_], dim=\"climate\")], \n",
    "                        compat=\"override\")\n",
    "\n",
    "    # Save to netcdf\n",
    "    pgw_ens.to_netcdf('/gf5/predict/AWH019_ERMIS_ATMICP/Babet/DATA/PGW_ensemble/pgw_clean_ensemble.nc')\n",
    "else:\n",
    "    print('Importing data from pre-existing file')\n",
    "    pgw_ens = xr.open_dataset('/gf5/predict/AWH019_ERMIS_ATMICP/Babet/DATA/PGW_ensemble/pgw_clean_ensemble.nc')"
   ]
  },
  {
   "cell_type": "code",
   "execution_count": 8,
   "metadata": {},
   "outputs": [
    {
     "name": "stdout",
     "output_type": "stream",
     "text": [
      "Importing data from pre-existing file\n"
     ]
    }
   ],
   "source": [
    "# PGW\n",
    "# check if file exists\n",
    "if not os.path.exists('/gf5/predict/AWH019_ERMIS_ATMICP/Babet/DATA/PGW/pgw_clean.nc'):\n",
    "    # mean sea level pressure\n",
    "    tmp1 = xr.open_dataset('/gf5/predict/AWH019_ERMIS_ATMICP/Babet/DATA/PGW/pgw_slp_past.nc').expand_dims(climate=[\"1870\"])\n",
    "    tmp2 = xr.open_dataset('/gf5/predict/AWH019_ERMIS_ATMICP/Babet/DATA/PGW/pgw_slp_prst.nc').expand_dims(climate=[\"present\"])\n",
    "    tmp3 = xr.open_dataset('/gf5/predict/AWH019_ERMIS_ATMICP/Babet/DATA/PGW/pgw_slp_fut1.nc').expand_dims(climate=[\"future1\"])\n",
    "    tmp4 = xr.open_dataset('/gf5/predict/AWH019_ERMIS_ATMICP/Babet/DATA/PGW/pgw_slp_fut2.nc').expand_dims(climate=[\"future2\"])\n",
    "    \n",
    "\n",
    "    tmp1_ = bb.data.Data.clean_array_racmo(tmp1, var_name=\"unknown\")\n",
    "    tmp2_ = bb.data.Data.clean_array_racmo(tmp2, var_name=\"unknown\")\n",
    "    tmp3_ = bb.data.Data.clean_array_racmo(tmp3, var_name=\"unknown\")\n",
    "    tmp4_ = bb.data.Data.clean_array_racmo(tmp4, var_name=\"unknown\")\n",
    "    pgw = xr.concat([tmp1_, tmp2_, tmp3_, tmp4_], dim=\"climate\").rename({\"unknown\": \"msl\"})\n",
    "\n",
    "    # precip\n",
    "    tmp1 = xr.open_dataset('/gf5/predict/AWH019_ERMIS_ATMICP/Babet/DATA/PGW/pgw_tp_past.nc').expand_dims(climate=[\"1870\"])\n",
    "    tmp2 = xr.open_dataset('/gf5/predict/AWH019_ERMIS_ATMICP/Babet/DATA/PGW/pgw_tp_prst.nc').expand_dims(climate=[\"present\"])\n",
    "    tmp3 = xr.open_dataset('/gf5/predict/AWH019_ERMIS_ATMICP/Babet/DATA/PGW/pgw_tp_fut1.nc').expand_dims(climate=[\"future1\"])\n",
    "    tmp4 = xr.open_dataset('/gf5/predict/AWH019_ERMIS_ATMICP/Babet/DATA/PGW/pgw_tp_fut2.nc').expand_dims(climate=[\"future2\"])\n",
    "\n",
    "    tmp1_ = bb.data.Data.clean_array_racmo(tmp1, var_name=\"unknown\")\n",
    "    tmp2_ = bb.data.Data.clean_array_racmo(tmp2, var_name=\"unknown\")\n",
    "    tmp3_ = bb.data.Data.clean_array_racmo(tmp3, var_name=\"unknown\")\n",
    "    tmp4_ = bb.data.Data.clean_array_racmo(tmp4, var_name=\"unknown\")\n",
    "    pgw = xr.merge([pgw,\n",
    "                    xr.concat([tmp1_, tmp2_, tmp3_, tmp4_], dim=\"climate\").rename({\"unknown\": \"tp\"})])\n",
    "\n",
    "\n",
    "    # temperature\n",
    "    tmp1 = xr.open_dataset('/gf5/predict/AWH019_ERMIS_ATMICP/Babet/DATA/PGW/pgw_t2m_past.nc').expand_dims(climate=[\"1870\"])\n",
    "    tmp2 = xr.open_dataset('/gf5/predict/AWH019_ERMIS_ATMICP/Babet/DATA/PGW/pgw_t2m_prst.nc').expand_dims(climate=[\"present\"])\n",
    "    tmp3 = xr.open_dataset('/gf5/predict/AWH019_ERMIS_ATMICP/Babet/DATA/PGW/pgw_t2m_fut1.nc').expand_dims(climate=[\"future1\"])\n",
    "    tmp4 = xr.open_dataset('/gf5/predict/AWH019_ERMIS_ATMICP/Babet/DATA/PGW/pgw_t2m_fut2.nc').expand_dims(climate=[\"future2\"])\n",
    "\n",
    "    tmp1_ = bb.data.Data.clean_array_racmo(tmp1, var_name=\"unknown\")\n",
    "    tmp2_ = bb.data.Data.clean_array_racmo(tmp2, var_name=\"unknown\")\n",
    "    tmp3_ = bb.data.Data.clean_array_racmo(tmp3, var_name=\"unknown\")\n",
    "    tmp4_ = bb.data.Data.clean_array_racmo(tmp4, var_name=\"unknown\")\n",
    "    pgw = xr.merge([pgw,\n",
    "                    xr.concat([tmp1_, tmp2_, tmp3_, tmp4_], dim=\"climate\").rename({\"unknown\": \"t2m\"})])\n",
    "\n",
    "    # Save to netcdf\n",
    "    pgw.to_netcdf('/gf5/predict/AWH019_ERMIS_ATMICP/Babet/DATA/PGW/pgw_clean.nc')\n",
    "else:\n",
    "    print('Importing data from pre-existing file')\n",
    "    pgw = xr.open_dataset('/gf5/predict/AWH019_ERMIS_ATMICP/Babet/DATA/PGW/pgw_clean.nc')"
   ]
  },
  {
   "cell_type": "code",
   "execution_count": 9,
   "metadata": {},
   "outputs": [],
   "source": [
    "ifs = bb.data.Data.get_fba_ifs()"
   ]
  },
  {
   "cell_type": "code",
   "execution_count": 10,
   "metadata": {},
   "outputs": [],
   "source": [
    "# # FBA IFS\n",
    "# tmp = []\n",
    "# base_dir='/gf5/predict/AWH019_ERMIS_ATMICP/Babet/DATA/MED-R/EXP/{}/EU025/sfc/pf'\n",
    "# climates = ['1870', '1950', 'present', 'future1']\n",
    "# for e, exp in enumerate(['pi', 'pi_1950', 'curr', 'incr']):\n",
    "#     # print(os.path.join(base_dir.format(exp), '*.nc'))\n",
    "#     tmp.append(xr.open_mfdataset(os.path.join(base_dir.format(exp), '*.nc'), engine='netcdf4', preprocess=preproc_ds_v2).expand_dims(climate=[climates[e]]))\n",
    "# ifs = xr.concat(tmp, dim='climate')"
   ]
  },
  {
   "cell_type": "code",
   "execution_count": 11,
   "metadata": {},
   "outputs": [
    {
     "name": "stdout",
     "output_type": "stream",
     "text": [
      "Importing data from pre-existing file\n"
     ]
    }
   ],
   "source": [
    "# FBA ACCESS\n",
    "\n",
    "# check if file exists\n",
    "if not os.path.exists('/gf5/predict/AWH019_ERMIS_ATMICP/Babet/DATA/access-micas/micas_clean.nc'):\n",
    "    # precip\n",
    "    tmp1 = xr.open_dataset('/gf5/predict/AWH019_ERMIS_ATMICP/Babet/DATA/access-micas/micas_pr_highGHG.nc').expand_dims(climate=[\"future1\"])\n",
    "    tmp2 = xr.open_dataset('/gf5/predict/AWH019_ERMIS_ATMICP/Babet/DATA/access-micas/micas_pr_lowGHG.nc').expand_dims(climate=[\"1870\"])\n",
    "    tmp3 = xr.open_dataset('/gf5/predict/AWH019_ERMIS_ATMICP/Babet/DATA/access-micas/micas_pr_ctrl.nc').expand_dims(climate=[\"present\"])\n",
    "    ds = xr.concat([tmp1, tmp2, tmp3], dim=\"climate\").rename({\"pr\": \"tp\"})\n",
    "\n",
    "    # temperature\n",
    "    tmp1 = xr.open_dataset('/gf5/predict/AWH019_ERMIS_ATMICP/Babet/DATA/access-micas/micas_tas_highGHG.nc').expand_dims(climate=[\"future1\"])\n",
    "    tmp2 = xr.open_dataset('/gf5/predict/AWH019_ERMIS_ATMICP/Babet/DATA/access-micas/micas_tas_lowGHG.nc').expand_dims(climate=[\"1870\"])\n",
    "    tmp3 = xr.open_dataset('/gf5/predict/AWH019_ERMIS_ATMICP/Babet/DATA/access-micas/micas_tas_ctrl.nc').expand_dims(climate=[\"present\"])\n",
    "    ds = xr.merge([ds, xr.concat([tmp1, tmp2, tmp3], dim=\"climate\")], compat=\"override\")\n",
    "\n",
    "    # mean sea level pressure\n",
    "    tmp1 = xr.open_dataset('/gf5/predict/AWH019_ERMIS_ATMICP/Babet/DATA/access-micas/micas_psl_highGHG.nc').expand_dims(climate=[\"future1\"])\n",
    "    tmp2 = xr.open_dataset('/gf5/predict/AWH019_ERMIS_ATMICP/Babet/DATA/access-micas/micas_psl_lowGHG.nc').expand_dims(climate=[\"1870\"])\n",
    "    tmp3 = xr.open_dataset('/gf5/predict/AWH019_ERMIS_ATMICP/Babet/DATA/access-micas/micas_psl_ctrl.nc').expand_dims(climate=[\"present\"])\n",
    "    ds = xr.merge([ds, xr.concat([tmp1, tmp2, tmp3], dim=\"climate\").rename({'psl': 'msl'})], compat=\"override\")\n",
    "\n",
    "    # Save to netcdf\n",
    "    ds.to_netcdf('/gf5/predict/AWH019_ERMIS_ATMICP/Babet/DATA/access-micas/micas_clean.nc')\n",
    "else:\n",
    "    print('Importing data from pre-existing file')\n",
    "    micas = xr.open_dataset('/gf5/predict/AWH019_ERMIS_ATMICP/Babet/DATA/access-micas/micas_clean.nc')"
   ]
  },
  {
   "cell_type": "markdown",
   "metadata": {},
   "source": [
    "# Data processing"
   ]
  },
  {
   "cell_type": "markdown",
   "metadata": {},
   "source": [
    "Note that the order that the map extents have to be given to the ```.sel``` function differ from dataset to dataset. You will notice immediately if something is off becausde you will end up with only nans if you do it wrong."
   ]
  },
  {
   "cell_type": "code",
   "execution_count": 12,
   "metadata": {},
   "outputs": [],
   "source": [
    "# ERA5 analogues\n",
    "era5_analogues['tp'] = era5_analogues['tp'].sel(lat=slice(uk[3], uk[2]), lon=slice(uk[0], uk[1]))\n",
    "era5_analogues['msl'] = era5_analogues['msl'].sel(lat=slice(uk[3], uk[2]), lon=slice(uk[0], uk[1]))/100\n",
    "era5_analogues['t2m'] = era5_analogues['t2m'].sel(lat=slice(uk[3], uk[2]), lon=slice(uk[0], uk[1]))"
   ]
  },
  {
   "cell_type": "code",
   "execution_count": 13,
   "metadata": {},
   "outputs": [],
   "source": [
    "# RACMO analogues\n",
    "racmo_tp['tp'] = racmo_tp['tp'].sel(lat=slice(uk[2], uk[3]), lon=slice(uk[0], uk[1]))\n",
    "racmo_msl['msl'] = racmo_msl['msl'].sel(lat=slice(uk[3], uk[2]), lon=slice(uk[0], uk[1]))"
   ]
  },
  {
   "cell_type": "code",
   "execution_count": 14,
   "metadata": {},
   "outputs": [],
   "source": [
    "# PGW\n",
    "pgw['tp'] = (((pgw.tp.sel(time=slice('2023-10-19 00', '2023-10-22 00'))*3*3600).sum(dim='time'))/1e5).sel(lat=slice(uk[2], uk[3]), lon=slice(uk[0], uk[1]))\n",
    "pgw['msl'] = (pgw.msl.sel(time=slice('2023-10-19 00', '2023-10-22 00'), lat=slice(uk[2], uk[3]), lon=slice(uk[0], uk[1])).mean('time').squeeze())/100\n",
    "pgw['t2m'] = (pgw.t2m.sel(time=slice('2023-10-19 00', '2023-10-22 00'), lat=slice(uk[2], uk[3]), lon=slice(uk[0], uk[1])).mean('time').squeeze())\n",
    "\n",
    "pgw_ens['tp'] = (((pgw_ens.tp.sel(time=slice('2023-10-19 00', '2023-10-22 00'))*3*3600).sum(dim='time'))/1e5).sel(lat=slice(uk[2], uk[3]), lon=slice(uk[0], uk[1]))\n",
    "pgw_ens['msl'] = (pgw_ens.msl.sel(time=slice('2023-10-19 00', '2023-10-22 00'), lat=slice(uk[2], uk[3]), lon=slice(uk[0], uk[1])).mean('time').squeeze())/100\n",
    "pgw_ens['t2m'] = (pgw_ens.t2m.sel(time=slice('2023-10-19 00', '2023-10-22 00'), lat=slice(uk[2], uk[3]), lon=slice(uk[0], uk[1])).mean('time').squeeze())"
   ]
  },
  {
   "cell_type": "code",
   "execution_count": 15,
   "metadata": {},
   "outputs": [],
   "source": [
    "# FBA IFS\n",
    "ifs['tp'] = ((ifs.tp.sel(time='2023-10-22 00') - ifs.tp.sel(time='2023-10-19 00'))*1000).sel(latitude=slice(uk[3], uk[2]), longitude=slice(uk[0], uk[1]))\n",
    "ifs['msl'] = ifs.msl.sel(time=slice('2023-10-19 00', '2023-10-22 00'), latitude=slice(uk[3], uk[2]), longitude=slice(uk[0], uk[1])).mean(dim='time')/100\n",
    "ifs['t2m'] = ifs.t2m.sel(time=slice('2023-10-19 00', '2023-10-22 00'), latitude=slice(uk[3], uk[2]), longitude=slice(uk[0], uk[1])).mean(dim='time')"
   ]
  },
  {
   "cell_type": "code",
   "execution_count": 16,
   "metadata": {},
   "outputs": [],
   "source": [
    "# ACCESS MICAS\n",
    "micas['tp'] = micas.tp.sel(time=slice('2023-10-19 12', '2023-10-21 12'), lat=slice(uk[2], uk[3]), lon=slice(uk[0], uk[1])).sum(dim='time')*24*3600\n",
    "micas['msl'] = micas.msl.sel(time=slice('2023-10-19 12', '2023-10-21 12'), lat=slice(uk[2], uk[3]), lon=slice(uk[0], uk[1])).mean(dim='time')/100\n",
    "micas['tas'] = micas.tas.sel(time=slice('2023-10-19 12', '2023-10-21 12'), lat=slice(uk[2], uk[3]), lon=slice(uk[0], uk[1])).mean(dim='time')"
   ]
  },
  {
   "cell_type": "code",
   "execution_count": 17,
   "metadata": {},
   "outputs": [],
   "source": [
    "def is_significant(da):\n",
    "    \"\"\"\n",
    "    Function to determine if a variable is significantly different from zero\n",
    "    \"\"\"\n",
    "    return ((da.sel(percentile=2.5) <= 0) & (0 <= da.sel(percentile=97.5))) | ((da.sel(percentile=97.5) <= 0) & (0 <= da.sel(percentile=2.5)))"
   ]
  },
  {
   "cell_type": "code",
   "execution_count": 30,
   "metadata": {},
   "outputs": [],
   "source": [
    "base_dir = '/gf5/predict/AWH019_ERMIS_ATMICP/Babet/DATA/postproc/significance/'\n",
    "\n",
    "# ERA5 analogues\n",
    "tmp = xr.open_dataset(base_dir+'era5_analogues_tp_sign_map.nc')\n",
    "era5_analogues_sign = tmp.groupby('climate').apply(is_significant)\n",
    "\n",
    "# RACMO analogues\n",
    "\n",
    "# PGW\n",
    "pgw_sign = xr.open_dataset(base_dir+'pgw_tp_sign_map.nc')\n",
    "pgw_sign = pgw_sign.groupby('climate').apply(is_significant)\n",
    "\n",
    "# FBA IFS\n",
    "tmp = xr.open_dataset(base_dir+'ifs_tp_sign_map.nc')\n",
    "ifs_sign = tmp.groupby('climate').apply(is_significant)\n",
    "\n",
    "# ACCESS MICAS\n",
    "tmp = xr.open_dataset(base_dir+'micas_tp_sign_map.nc')\n",
    "micas_sign = tmp.groupby('climate').apply(is_significant)"
   ]
  },
  {
   "cell_type": "markdown",
   "metadata": {},
   "source": [
    "# Map plot"
   ]
  },
  {
   "cell_type": "code",
   "execution_count": 32,
   "metadata": {},
   "outputs": [],
   "source": [
    "uk = [-10.5, 9.5, 45.5, 61.3] # longitude min, longitude max, latitude min, latitude max"
   ]
  },
  {
   "cell_type": "code",
   "execution_count": null,
   "metadata": {},
   "outputs": [
    {
     "name": "stderr",
     "output_type": "stream",
     "text": [
      "/home/e/ermis/nobackups/miniforge3/envs/babet-3-7-12_new/lib/python3.7/site-packages/cartopy/mpl/geoaxes.py:1714: UserWarning: The following kwargs were not used by contour: 'add_colorbar'\n",
      "  result = matplotlib.axes.Axes.contourf(self, *args, **kwargs)\n",
      "/home/e/ermis/nobackups/miniforge3/envs/babet-3-7-12_new/lib/python3.7/site-packages/cartopy/mpl/geoaxes.py:1714: UserWarning: The following kwargs were not used by contour: 'add_colorbar'\n",
      "  result = matplotlib.axes.Axes.contourf(self, *args, **kwargs)\n",
      "/home/e/ermis/nobackups/miniforge3/envs/babet-3-7-12_new/lib/python3.7/site-packages/cartopy/mpl/geoaxes.py:1714: UserWarning: The following kwargs were not used by contour: 'add_colorbar'\n",
      "  result = matplotlib.axes.Axes.contourf(self, *args, **kwargs)\n",
      "/home/e/ermis/nobackups/miniforge3/envs/babet-3-7-12_new/lib/python3.7/site-packages/cartopy/mpl/geoaxes.py:1714: UserWarning: The following kwargs were not used by contour: 'add_colorbar'\n",
      "  result = matplotlib.axes.Axes.contourf(self, *args, **kwargs)\n",
      "/home/e/ermis/nobackups/miniforge3/envs/babet-3-7-12_new/lib/python3.7/site-packages/cartopy/mpl/geoaxes.py:1714: UserWarning: The following kwargs were not used by contour: 'add_colorbar'\n",
      "  result = matplotlib.axes.Axes.contourf(self, *args, **kwargs)\n",
      "/home/e/ermis/nobackups/miniforge3/envs/babet-3-7-12_new/lib/python3.7/site-packages/cartopy/mpl/geoaxes.py:1714: UserWarning: The following kwargs were not used by contour: 'add_colorbar'\n",
      "  result = matplotlib.axes.Axes.contourf(self, *args, **kwargs)\n",
      "/home/e/ermis/nobackups/miniforge3/envs/babet-3-7-12_new/lib/python3.7/site-packages/cartopy/mpl/geoaxes.py:1714: UserWarning: The following kwargs were not used by contour: 'add_colorbar'\n",
      "  result = matplotlib.axes.Axes.contourf(self, *args, **kwargs)\n",
      "/home/e/ermis/nobackups/miniforge3/envs/babet-3-7-12_new/lib/python3.7/site-packages/cartopy/mpl/geoaxes.py:1714: UserWarning: The following kwargs were not used by contour: 'add_colorbar'\n",
      "  result = matplotlib.axes.Axes.contourf(self, *args, **kwargs)\n",
      "/home/e/ermis/nobackups/miniforge3/envs/babet-3-7-12_new/lib/python3.7/site-packages/cartopy/mpl/geoaxes.py:1714: UserWarning: The following kwargs were not used by contour: 'add_colorbar'\n",
      "  result = matplotlib.axes.Axes.contourf(self, *args, **kwargs)\n",
      "/home/e/ermis/nobackups/miniforge3/envs/babet-3-7-12_new/lib/python3.7/site-packages/cartopy/mpl/geoaxes.py:1714: UserWarning: The following kwargs were not used by contour: 'add_colorbar'\n",
      "  result = matplotlib.axes.Axes.contourf(self, *args, **kwargs)\n",
      "/home/e/ermis/nobackups/miniforge3/envs/babet-3-7-12_new/lib/python3.7/site-packages/cartopy/mpl/geoaxes.py:1714: UserWarning: The following kwargs were not used by contour: 'add_colorbar'\n",
      "  result = matplotlib.axes.Axes.contourf(self, *args, **kwargs)\n",
      "/home/e/ermis/nobackups/miniforge3/envs/babet-3-7-12_new/lib/python3.7/site-packages/cartopy/mpl/geoaxes.py:1714: UserWarning: The following kwargs were not used by contour: 'add_colorbar'\n",
      "  result = matplotlib.axes.Axes.contourf(self, *args, **kwargs)\n"
     ]
    }
   ],
   "source": [
    "# Create figure with two subplots side by side\n",
    "fig, axes = plt.subplots(ncols=6, nrows=5, figsize=(15, 15), subplot_kw={'projection': ccrs.PlateCarree()})\n",
    "projection = ccrs.PlateCarree()\n",
    "\n",
    "# difference range\n",
    "pr_diff = 15\n",
    "pr_full = 150\n",
    "\n",
    "# Define column headers\n",
    "column_headers = [\"FBA IFS 15\", \"FBA IFS 17\", \"FBA ACCESS MICAS\", \"PGW\", \"ERA5\", \"RACMO\"]\n",
    "\n",
    "# FBA IFS 15 --------------\n",
    "\n",
    "# 1870\n",
    "(ifs.tp.sel(climate=\"present\") - ifs.tp.sel(climate=\"1870\")).sel(inidate='2023-10-15').mean('number').squeeze().plot.contourf(\n",
    "    cmap=cm.broc_r, vmin=-1*pr_diff, vmax=pr_diff, zorder=12,\n",
    "    add_labels=False,\n",
    "    levels=20, ax=axes[0, 0], add_colorbar=False, transform=projection\n",
    ")\n",
    "cs = axes[0,0].contour(ifs.longitude.values, ifs.latitude.values,ifs.msl.sel(inidate='2023-10-15', climate='1870').mean('number').squeeze(),\n",
    "                       zorder=17,\n",
    "                       colors='black', transform=projection)\n",
    "plt.clabel(cs, fmt='%d')\n",
    "axes[0,0].contourf(ifs_sign.longitude, ifs_sign.latitude, ifs_sign.sel(climate='1870', inidate='2023-10-15').tp, alpha=0, levels=[-0.5,0.5,1],hatches=['..', None], add_colorbar=False, zorder=17, transform=projection)\n",
    "\n",
    "# 1950\n",
    "(ifs.tp.sel(climate=\"present\") - ifs.tp.sel(climate=\"1950\")).sel(inidate='2023-10-15').mean('number').squeeze().plot.contourf(\n",
    "    cmap=cm.broc_r, vmin=-1*pr_diff, vmax=pr_diff, zorder=12,\n",
    "    add_labels=False,\n",
    "    levels=20, ax=axes[1, 0], add_colorbar=False, transform=projection\n",
    ")\n",
    "cs = axes[1,0].contour(ifs.longitude.values, ifs.latitude.values,ifs.msl.sel(inidate='2023-10-15', climate='1950').mean('number').squeeze(),\n",
    "                       zorder=17,\n",
    "                       colors='black', transform=projection)\n",
    "plt.clabel(cs, fmt='%d')\n",
    "axes[1,0].contourf(ifs_sign.longitude, ifs_sign.latitude, ifs_sign.sel(climate='1950', inidate='2023-10-15').tp, alpha=0, levels=[-0.5,0.5,1],hatches=['..', None], add_colorbar=False, zorder=17, transform=projection)\n",
    "\n",
    "# present\n",
    "(ifs.tp.sel(climate=\"present\")).sel(inidate='2023-10-15').mean('number').squeeze().plot.contourf(\n",
    "    cmap=cm.lapaz_r, vmin=0, vmax=pr_full, zorder=12,\n",
    "    add_labels=False,\n",
    "    levels=20, ax=axes[2, 0], add_colorbar=False, transform=projection\n",
    ")\n",
    "cs = axes[2,0].contour(ifs.longitude.values, ifs.latitude.values,ifs.msl.sel(inidate='2023-10-15', climate='present').mean('number').squeeze(),\n",
    "                       zorder=17,\n",
    "                       colors='black', transform=projection)\n",
    "plt.clabel(cs, fmt='%d')\n",
    "\n",
    "# future1\n",
    "(ifs.tp.sel(climate=\"future1\") - ifs.tp.sel(climate=\"present\")).sel(inidate='2023-10-15').squeeze().mean('number').plot.contourf(\n",
    "    cmap=cm.broc_r,  vmin=-1*pr_diff, vmax=pr_diff, zorder=12,\n",
    "    add_labels=False,\n",
    "    levels=20, ax=axes[3, 0], add_colorbar=False, transform=projection\n",
    ")\n",
    "cs = axes[3,0].contour(ifs.longitude.values, ifs.latitude.values,ifs.msl.sel(inidate='2023-10-15', climate='future1').mean('number').squeeze(),\n",
    "                       zorder=17,\n",
    "                       colors='black', transform=projection)\n",
    "plt.clabel(cs, fmt='%d')\n",
    "axes[3,0].contourf(ifs_sign.longitude, ifs_sign.latitude, ifs_sign.sel(climate='future1', inidate='2023-10-15').tp, alpha=0, levels=[-0.5,0.5,1],hatches=['..', None], add_colorbar=False, zorder=17, transform=projection)\n",
    "\n",
    "axes[4,0].axis('off')\n",
    "\n",
    "\n",
    "# FBA IFS 17 --------------\n",
    "\n",
    "# 1870\n",
    "(ifs.tp.sel(climate=\"present\") - ifs.tp.sel(climate=\"1870\")).sel(inidate='2023-10-17').mean('number').squeeze().plot.contourf(\n",
    "    cmap=cm.broc_r,  vmin=-1*pr_diff, vmax=pr_diff, zorder=12,\n",
    "    add_labels=False,\n",
    "    levels=20, ax=axes[0, 1], add_colorbar=False, transform=projection\n",
    ")\n",
    "cs = axes[0,1].contour(ifs.longitude.values, ifs.latitude.values,ifs.msl.sel(inidate='2023-10-17', climate='1870').mean('number').squeeze(),\n",
    "                       zorder=17,\n",
    "                       colors='black', transform=projection)\n",
    "plt.clabel(cs, fmt='%d')\n",
    "axes[0,1].contourf(ifs_sign.longitude, ifs_sign.latitude, ifs_sign.sel(climate='1870', inidate='2023-10-17').tp, alpha=0, levels=[-0.5,0.5,1],hatches=['..', None], add_colorbar=False, zorder=17, transform=projection)\n",
    "\n",
    "# 1950\n",
    "(ifs.tp.sel(climate=\"present\") - ifs.tp.sel(climate=\"1950\")).sel(inidate='2023-10-17').mean('number').squeeze().plot.contourf(\n",
    "    cmap=cm.broc_r,  vmin=-1*pr_diff, vmax=pr_diff, zorder=12,\n",
    "    add_labels=False,\n",
    "    levels=20, ax=axes[1, 1], add_colorbar=False, transform=projection\n",
    ")\n",
    "cs = axes[1,1].contour(ifs.longitude.values, ifs.latitude.values,ifs.msl.sel(inidate='2023-10-17', climate='1950').mean('number').squeeze(),\n",
    "                       zorder=17,\n",
    "                       colors='black', transform=projection)\n",
    "plt.clabel(cs, fmt='%d')\n",
    "axes[1,1].contourf(ifs_sign.longitude, ifs_sign.latitude, ifs_sign.sel(climate='1950', inidate='2023-10-17').tp, alpha=0, levels=[-0.5,0.5,1],hatches=['..', None], add_colorbar=False, zorder=17, transform=projection)\n",
    "\n",
    "# present\n",
    "(ifs.tp.sel(climate=\"present\")).sel(inidate='2023-10-17').mean('number').squeeze().plot.contourf(\n",
    "    cmap=cm.lapaz_r, vmin=0, vmax=pr_full, zorder=12,\n",
    "    add_labels=False,\n",
    "    levels=20, ax=axes[2, 1], add_colorbar=False, transform=projection\n",
    ")\n",
    "cs = axes[2,1].contour(ifs.longitude.values, ifs.latitude.values,ifs.msl.sel(inidate='2023-10-17', climate='present').mean('number').squeeze(),\n",
    "                       zorder=17,\n",
    "                       colors='black', transform=projection)\n",
    "plt.clabel(cs, fmt='%d')\n",
    "# future1\n",
    "(ifs.tp.sel(climate=\"future1\") - ifs.tp.sel(climate=\"present\")).sel(inidate='2023-10-17').squeeze().mean('number').plot.contourf(\n",
    "    cmap=cm.broc_r,  vmin=-1*pr_diff, vmax=pr_diff, zorder=12,\n",
    "    add_labels=False,\n",
    "    levels=20, ax=axes[3, 1], add_colorbar=False, transform=projection\n",
    ")\n",
    "cs = axes[3,1].contour(ifs.longitude.values, ifs.latitude.values,ifs.msl.sel(inidate='2023-10-17', climate='future1').mean('number').squeeze(),\n",
    "                       zorder=17,\n",
    "                       colors='black', transform=projection)\n",
    "plt.clabel(cs, fmt='%d')\n",
    "axes[3,1].contourf(ifs_sign.longitude, ifs_sign.latitude, ifs_sign.sel(climate='future1', inidate='2023-10-17').tp, alpha=0, levels=[-0.5,0.5,1],hatches=['..', None], add_colorbar=False, zorder=17, transform=projection)\n",
    "\n",
    "axes[4,1].axis('off')\n",
    "\n",
    "# FBA MICAS --------------\n",
    "\n",
    "# 1870\n",
    "(micas.tp.sel(climate=\"present\") - micas.tp.sel(climate=\"1870\")).mean('member').squeeze().plot.contourf(\n",
    "    cmap=cm.broc_r,  vmin=-1*pr_diff, vmax=pr_diff, zorder=12,\n",
    "    add_labels=False,\n",
    "    levels=20, ax=axes[0, 2], add_colorbar=False, transform=projection\n",
    ")\n",
    "cs = axes[0,2].contour(micas.lon.values, micas.lat.values,micas.msl.sel(climate='1870').mean('member').squeeze(),\n",
    "                       zorder=17,\n",
    "                       colors='black', transform=projection)\n",
    "plt.clabel(cs, fmt='%d')\n",
    "axes[0,2].contourf(micas_sign.lon, micas_sign.lat, micas_sign.sel(climate='1870').tp, alpha=0, levels=[-0.5,0.5,1],hatches=['..', None], add_colorbar=False, zorder=17, transform=projection)\n",
    "\n",
    "# present\n",
    "(micas.tp.sel(climate=\"present\")).mean('member').squeeze().plot.contourf(\n",
    "    cmap=cm.lapaz_r,  vmin=0, vmax=pr_full, zorder=12,\n",
    "    add_labels=False,\n",
    "    levels=20, ax=axes[2, 2], add_colorbar=False, transform=projection\n",
    ")\n",
    "cs = axes[2,2].contour(micas.lon.values, micas.lat.values,micas.msl.sel(climate='present').mean('member').squeeze(),\n",
    "                       zorder=17,\n",
    "                       colors='black', transform=projection)\n",
    "plt.clabel(cs, fmt='%d')\n",
    "# future1\n",
    "(micas.tp.sel(climate=\"future1\") - micas.tp.sel(climate=\"present\")).mean('member').squeeze().plot.contourf(\n",
    "    cmap=cm.broc_r,  vmin=-1*pr_diff, vmax=pr_diff, zorder=12,\n",
    "    add_labels=False,\n",
    "    levels=20, ax=axes[3, 2], add_colorbar=False, transform=projection\n",
    ")\n",
    "cs = axes[3,2].contour(micas.lon.values, micas.lat.values,micas.msl.sel(climate='future1').mean('member').squeeze(),\n",
    "                       zorder=17,\n",
    "                       colors='black', transform=projection)\n",
    "plt.clabel(cs, fmt='%d')\n",
    "axes[3,2].contourf(micas_sign.lon, micas_sign.lat, micas_sign.sel(climate='future1').tp, alpha=0, levels=[-0.5,0.5,1],hatches=['..', None], add_colorbar=False, zorder=17, transform=projection)\n",
    "\n",
    "axes[1,2].axis('off')\n",
    "axes[4,2].axis('off')\n",
    "\n",
    "# PGW ---------------------\n",
    "\n",
    "# 1870\n",
    "(pgw_ens.tp.sel(climate=\"present\") - pgw_ens.tp.sel(climate=\"1870\")).mean('member').squeeze().plot.contourf(\n",
    "    cmap=cm.broc_r,  vmin=-1*pr_diff, vmax=pr_diff, zorder=12,\n",
    "    add_labels=False,\n",
    "    levels=20, ax=axes[0, 3], add_colorbar=False, transform=projection\n",
    ")\n",
    "cs = axes[0,3].contour(pgw_ens.lon.values, pgw_ens.lat.values,pgw_ens.msl.sel(climate='1870').mean('member').squeeze(),\n",
    "                       zorder=17,\n",
    "                       colors='black', transform=projection)\n",
    "plt.clabel(cs, fmt='%d')\n",
    "axes[0,3].contourf(pgw_sign.lon, pgw_sign.lat, pgw_sign.sel(climate='1870').tp, alpha=0, levels=[-0.5,0.5,1],hatches=['..', None], add_colorbar=False, zorder=17, transform=projection)\n",
    "# present\n",
    "(pgw_ens.tp.sel(climate=\"present\")).mean('member').squeeze().plot.contourf(\n",
    "    cmap=cm.lapaz_r,  vmin=0, vmax=pr_full, zorder=12,\n",
    "    add_labels=False,\n",
    "    levels=20, ax=axes[2, 3], add_colorbar=False, transform=projection\n",
    ")\n",
    "cs = axes[2,3].contour(pgw_ens.lon.values, pgw_ens.lat.values,pgw_ens.msl.sel(climate='present').mean('member').squeeze(),\n",
    "                       zorder=17,\n",
    "                       colors='black', transform=projection)\n",
    "plt.clabel(cs, fmt='%d')\n",
    "# future1\n",
    "(pgw_ens.tp.sel(climate=\"future1\") - pgw_ens.tp.sel(climate=\"present\")).mean('member').squeeze().plot.contourf(\n",
    "    cmap=cm.broc_r,  vmin=-1*pr_diff, vmax=pr_diff, zorder=12,\n",
    "    add_labels=False,\n",
    "    levels=20, ax=axes[3, 3], add_colorbar=False, transform=projection\n",
    ")\n",
    "cs = axes[3,3].contour(pgw_ens.lon.values, pgw_ens.lat.values,pgw_ens.msl.sel(climate='future1').mean('member').squeeze(),\n",
    "                       zorder=17,\n",
    "                       colors='black', transform=projection)\n",
    "plt.clabel(cs, fmt='%d')\n",
    "axes[3,3].contourf(pgw_sign.lon, pgw_sign.lat, pgw_sign.sel(climate='future1').tp, alpha=0, levels=[-0.5,0.5,1],hatches=['..', None], add_colorbar=False, zorder=17, transform=projection)\n",
    "# future2\n",
    "(pgw_ens.tp.sel(climate=\"future2\") - pgw_ens.tp.sel(climate=\"present\")).mean('member').squeeze().plot.contourf(\n",
    "    cmap=cm.broc_r,  vmin=-1*pr_diff, vmax=pr_diff, zorder=12,\n",
    "    add_labels=False,\n",
    "    levels=20, ax=axes[4, 3], add_colorbar=False, transform=projection\n",
    ")\n",
    "cs = axes[4,3].contour(pgw_ens.lon.values, pgw_ens.lat.values,pgw_ens.msl.sel(climate='future2').mean('member').squeeze(),\n",
    "                       zorder=17,\n",
    "                       colors='black', transform=projection)\n",
    "plt.clabel(cs, fmt='%d')\n",
    "axes[4,3].contourf(pgw_sign.lon, pgw_sign.lat, pgw_sign.sel(climate='future2').tp, alpha=0, levels=[-0.5,0.5,1],hatches=['..', None], add_colorbar=False, zorder=17, transform=projection)\n",
    "\n",
    "axes[1,3].axis('off')\n",
    "\n",
    "# ERA5 --------------------\n",
    "\n",
    "# 1950\n",
    "(era5_analogues.tp.sel(climate=\"present\") - era5_analogues.tp.sel(climate=\"1950\")).mean('member').squeeze().plot.contourf(\n",
    "    cmap=cm.broc_r,  vmin=-1*pr_diff, vmax=pr_diff, zorder=12,\n",
    "    add_labels=False,\n",
    "    levels=20, ax=axes[1, 4], add_colorbar=False, transform=projection\n",
    ")\n",
    "cs = axes[1,4].contour(era5_analogues.lon.values, era5_analogues.lat.values,era5_analogues.msl.sel(climate='1950').mean('member').squeeze(),\n",
    "                       zorder=17,\n",
    "                       colors='black', transform=projection)\n",
    "plt.clabel(cs, fmt='%d')\n",
    "axes[1,4].contourf(era5_analogues_sign.lon, era5_analogues_sign.lat, era5_analogues_sign.sel(climate='1950').tp, alpha=0, levels=[-0.5,0.5,1],hatches=['..', None], add_colorbar=False, zorder=17, transform=projection)\n",
    "\n",
    "# present\n",
    "(era5_analogues.tp.sel(climate=\"present\")).mean('member').squeeze().plot.contourf(\n",
    "    cmap=cm.lapaz_r,  vmin=0, vmax=pr_full, zorder=12,\n",
    "    add_labels=False,\n",
    "    levels=20, ax=axes[2, 4], add_colorbar=False, transform=projection\n",
    ")\n",
    "cs = axes[2,4].contour(era5_analogues.lon.values, era5_analogues.lat.values,era5_analogues.msl.sel(climate='present').mean('member').squeeze(),\n",
    "                       zorder=17,\n",
    "                       colors='black', transform=projection)\n",
    "plt.clabel(cs, fmt='%d')\n",
    "axes[0,4].axis('off')\n",
    "axes[3,4].axis('off')\n",
    "axes[4,4].axis('off')\n",
    "\n",
    "# Make ERA5 current plot stand out\n",
    "# axes[2,4].outline_patch.set_linewidth(3)  # Make frame bold\n",
    "# axes[2,4].outline_patch.set_edgecolor(color_palette[2])  # Set frame color to red\n",
    "\n",
    "# RACMO -------------------\n",
    "\n",
    "# 1950\n",
    "(racmo_tp.tp.sel(climate=\"present\") - racmo_tp.tp.sel(climate=\"1950\")).squeeze().plot.contourf(\n",
    "    cmap=cm.broc_r,  vmin=-1*pr_diff, vmax=pr_diff, zorder=12,\n",
    "    add_labels=False,\n",
    "    levels=20, ax=axes[1, 5], add_colorbar=False, transform=projection\n",
    ")\n",
    "cs = axes[1,5].contour(racmo_msl.lon.values, racmo_msl.lat.values,racmo_msl.msl.sel(climate='1950').squeeze(),\n",
    "                       zorder=17,\n",
    "                       colors='black', transform=projection)\n",
    "plt.clabel(cs, fmt='%d')\n",
    "# axes[1,5].contourf(racmo_sign.lon, racmo_sign.lat, racmo_sign.sel(climate='1950').tp, alpha=0, levels=[-0.5,0.5,1],hatches=['..', None], add_colorbar=False, zorder=17, transform=projection)\n",
    "\n",
    "# present\n",
    "(racmo_tp.tp.sel(climate=\"present\")).squeeze().plot.contourf(\n",
    "    cmap=cm.lapaz_r,  vmin=0, vmax=pr_full, zorder=12,\n",
    "    add_labels=False,\n",
    "    levels=20, ax=axes[2, 5], add_colorbar=False, transform=projection\n",
    ")\n",
    "cs = axes[2,5].contour(racmo_msl.lon.values, racmo_msl.lat.values,racmo_msl.msl.sel(climate='present').squeeze(),\n",
    "                       zorder=17,\n",
    "                       colors='black', transform=projection)\n",
    "plt.clabel(cs, fmt='%d')\n",
    "\n",
    "# future1\n",
    "(racmo_tp.tp.sel(climate=\"future1\") - racmo_tp.tp.sel(climate=\"present\")).squeeze().plot.contourf(\n",
    "    cmap=cm.broc_r,  vmin=-1*pr_diff, vmax=pr_diff, zorder=12,\n",
    "    add_labels=False,\n",
    "    levels=20, ax=axes[3, 5], add_colorbar=False, transform=projection\n",
    ")\n",
    "cs = axes[3,5].contour(racmo_msl.lon.values, racmo_msl.lat.values, racmo_msl.msl.sel(climate='future1').squeeze(),\n",
    "                       zorder=17,\n",
    "                       colors='black', transform=projection)\n",
    "plt.clabel(cs, fmt='%d')\n",
    "\n",
    "axes[0,5].axis('off')\n",
    "axes[4,5].axis('off')\n",
    "\n",
    "\n",
    "# Figure settings ----------\n",
    "\n",
    "labels = ['a', 'b', 'c', 'd', 'e', 'f', 'g', 'h', 'i', 'j', 'k', 'l', 'm', 'n', 'o', 'p', 'q', 'r', 's', 't', 'u']\n",
    "axes_with_data = [axes[0,0], axes[1,0], axes[2,0], axes[3,0], # FBA IFS 15\n",
    "                  axes[0,1], axes[1,1], axes[2,1], axes[3,1], # FBA IFS 17\n",
    "                  axes[0,2], axes[2,2], axes[3,2], # FBA ACCESS\n",
    "                  axes[0,3], axes[2,3], axes[3,3], axes[4,3], # PGW\n",
    "                  axes[1,4], axes[2,4], # ERA5\n",
    "                  axes[1,5], axes[2,5], axes[3,5], # RACMO\n",
    "\n",
    "]\n",
    "\n",
    "# Apply Cartopy settings to both axes\n",
    "for ax, label in zip(axes_with_data, labels):\n",
    "    ax.set_extent(uk, crs=ccrs.PlateCarree())  # Set map extent\n",
    "    if ax in []:\n",
    "        ax.add_feature(cfeature.COASTLINE, edgecolor='grey', linewidth=0.8, zorder = 14)  # Add land borders\n",
    "    else:\n",
    "        ax.add_feature(cfeature.COASTLINE, edgecolor='black', linewidth=0.8, zorder = 14)  # Add land borders\n",
    "    ax.coastlines()  # Add coastlines\n",
    "    ax.text(0.03, 0.92, label, transform=ax.transAxes, fontsize=12, fontweight=\"bold\", zorder=20)\n",
    "\n",
    "    rectangle = patches.Rectangle((-4, 55.5), 2, 2, linewidth=1.5, \n",
    "                                edgecolor='k', \n",
    "                                facecolor='none',\n",
    "                                transform=projection)\n",
    "    ax.add_patch(rectangle)\n",
    "    rectangle.set_zorder(17)\n",
    "\n",
    "# Add column headers\n",
    "col_locs = np.linspace(0.1, 0.9, len(column_headers))\n",
    "for col_idx, col_name in enumerate(column_headers):\n",
    "    fig.text(col_locs[col_idx], 0.98, col_name, fontsize=12, ha='center',  fontweight='bold')\n",
    "\n",
    "# Define row headers\n",
    "row_headers = [\"preind\", \"1950\", \"present\", \"end of cent. medium\", \"end of cent. high\"]\n",
    "\n",
    "# Add row headers rotated by 90 degrees\n",
    "for i, label in enumerate(row_headers):\n",
    "    fig.text(0.00, 1 - (i + 0.5) / 5, label, va='center', ha='center', \n",
    "             fontsize=12, rotation=90, fontweight='bold')\n",
    "\n",
    "plt.tight_layout()\n",
    "\n",
    "# Save plot\n",
    "plt.savefig('figures/16_PAPER2_map_plots.png', dpi=600, bbox_inches='tight')\n",
    "plt.savefig('figures/16_PAPER2_map_plots.pdf')"
   ]
  },
  {
   "cell_type": "markdown",
   "metadata": {},
   "source": [
    "# Testing code for significance testing"
   ]
  },
  {
   "cell_type": "code",
   "execution_count": null,
   "metadata": {},
   "outputs": [],
   "source": [
    "def bootstrap_sample(data, n_iterations=10):\n",
    "    \"\"\"Bootstrap resampling with replacement.\"\"\"\n",
    "    means = np.array([\n",
    "        np.mean(np.random.choice(data, size=len(data), replace=True))\n",
    "        for _ in range(n_iterations)\n",
    "    ])\n",
    "    return np.percentile(means, [2.5, 97.5])  # 95% confidence interval"
   ]
  },
  {
   "cell_type": "code",
   "execution_count": 39,
   "metadata": {},
   "outputs": [],
   "source": [
    "# Apply bootstrap to each grid cell along a specific dimension (e.g., 'time')\n",
    "bootstrapped = xr.apply_ufunc(\n",
    "    bootstrap_sample, \n",
    "    era5_analogues.tp-era5_analogues.tp.sel(climate='present'), \n",
    "    input_core_dims=[['member']],  # Modify based on your data dimensions\n",
    "    vectorize=True,  # Ensures element-wise computation\n",
    "    dask=\"parallelized\",  # Enables parallel execution if data is chunked\n",
    "    output_core_dims=[[\"percentile\"]],  # Output contains percentiles\n",
    ")\n",
    "\n",
    "bootstrapped = bootstrapped.assign_coords(percentile=[2.5, 97.5])"
   ]
  },
  {
   "cell_type": "code",
   "execution_count": 40,
   "metadata": {},
   "outputs": [],
   "source": [
    "# bootstrapped.sel(climate='1950', percentile=97.5).plot.contourf(levels=20)\n",
    "zero_in_interval = ((bootstrapped.sel(climate='1950', percentile=2.5) <= 0) & (0 <= bootstrapped.sel(climate='1950', percentile=97.5))) | ((bootstrapped.sel(climate='1950', percentile=97.5) <= 0) & (0 <= bootstrapped.sel(climate='1950', percentile=2.5)))"
   ]
  },
  {
   "cell_type": "code",
   "execution_count": 41,
   "metadata": {},
   "outputs": [
    {
     "data": {
      "image/png": "[encoded data removed]",
      "text/plain": [
       "<Figure size 640x480 with 2 Axes>"
      ]
     },
     "metadata": {},
     "output_type": "display_data"
    }
   ],
   "source": [
    "fig, ax = plt.subplots(subplot_kw={'projection': ccrs.PlateCarree()})\n",
    "zero_in_interval.plot.contourf(levels=3, ax=ax, transform=ccrs.PlateCarree(), add_labels=False)\n",
    "ax.coastlines()\n",
    "ax.set_extent(uk, crs=ccrs.PlateCarree())"
   ]
  },
  {
   "cell_type": "code",
   "execution_count": 42,
   "metadata": {},
   "outputs": [],
   "source": [
    "bootstrapped = xr.apply_ufunc(\n",
    "    bootstrap_sample,\n",
    "    ifs.tp-ifs.tp.sel(climate='present'),\n",
    "    input_core_dims=[['number']],\n",
    "    vectorize=True,\n",
    "    dask=\"parallelized\",\n",
    "    output_core_dims=[[\"percentile\"]],\n",
    "    dask_gufunc_kwargs={\"output_sizes\": {\"percentile\": 2}}\n",
    "    )\n",
    "ifs_sign = bootstrapped.assign_coords(percentile=[2.5, 97.5])"
   ]
  },
  {
   "cell_type": "markdown",
   "metadata": {},
   "source": [
    "# Significance test for Aberdeenshire box -- KS tests"
   ]
  },
  {
   "cell_type": "code",
   "execution_count": 34,
   "metadata": {},
   "outputs": [],
   "source": [
    "import scipy as sc"
   ]
  },
  {
   "cell_type": "code",
   "execution_count": 35,
   "metadata": {},
   "outputs": [],
   "source": [
    "aberdeen = [-4, -2, 55.5, 57.2]"
   ]
  },
  {
   "cell_type": "code",
   "execution_count": 36,
   "metadata": {},
   "outputs": [
    {
     "name": "stdout",
     "output_type": "stream",
     "text": [
      "ERA5 ANALOGUES\n",
      "1950 v present:  0.9357\n"
     ]
    }
   ],
   "source": [
    "# ERA5 analogues\n",
    "print('ERA5 ANALOGUES')\n",
    "aberdeen_1950 = era5_analogues.tp.sel(climate='1950').sel(lat=slice(aberdeen[3], aberdeen[2]), lon=slice(aberdeen[0], aberdeen[1])).mean(['lat', 'lon']).values\n",
    "aberdeen_present = era5_analogues.tp.sel(climate='present').sel(lat=slice(aberdeen[3], aberdeen[2]), lon=slice(aberdeen[0], aberdeen[1])).mean(['lat', 'lon']).values\n",
    "\n",
    "print(f'1950 v present:  {sc.stats.kstest(aberdeen_1950, aberdeen_present).pvalue:.4f}')"
   ]
  },
  {
   "cell_type": "code",
   "execution_count": 37,
   "metadata": {},
   "outputs": [
    {
     "name": "stdout",
     "output_type": "stream",
     "text": [
      "FBA IFS 15\n",
      "1870 v 1950: 0.877\n",
      "1870 v present:  0.728\n",
      "1950 v present: 0.970\n",
      "present v future1: 0.877\n",
      "1870 v future1: 0.408\n"
     ]
    }
   ],
   "source": [
    "# FBA IFS 15\n",
    "print('FBA IFS 15')\n",
    "aberdeen_1870 = ifs.tp.sel(climate='1870').sel(latitude=slice(aberdeen[3], aberdeen[2]), \n",
    "                                               longitude=slice(aberdeen[0], aberdeen[1]), \n",
    "                                               inidate='2023-10-15').mean(['latitude', 'longitude']).values\n",
    "aberdeen_1950 = ifs.tp.sel(climate='1950').sel(latitude=slice(aberdeen[3], aberdeen[2]),\n",
    "                                               longitude=slice(aberdeen[0], aberdeen[1]), \n",
    "                                               inidate='2023-10-15').mean(['latitude', 'longitude']).values\n",
    "aberdeen_present = ifs.tp.sel(climate='present').sel(latitude=slice(aberdeen[3], aberdeen[2]),\n",
    "                                               longitude=slice(aberdeen[0], aberdeen[1]), \n",
    "                                               inidate='2023-10-15').mean(['latitude', 'longitude']).values\n",
    "aberdeen_future1 = ifs.tp.sel(climate='future1').sel(latitude=slice(aberdeen[3], aberdeen[2]),\n",
    "                                               longitude=slice(aberdeen[0], aberdeen[1]), \n",
    "                                               inidate='2023-10-15').mean(['latitude', 'longitude']).values\n",
    "\n",
    "print(f'1870 v 1950: {sc.stats.kstest(aberdeen_1870, aberdeen_1950).pvalue:.3f}')\n",
    "print(f'1870 v present:  {sc.stats.kstest(aberdeen_1870, aberdeen_present).pvalue:.3f}')\n",
    "print(f'1950 v present: {sc.stats.kstest(aberdeen_1950, aberdeen_present).pvalue:.3f}')\n",
    "print(f'present v future1: {sc.stats.kstest(aberdeen_present, aberdeen_future1).pvalue:.3f}')\n",
    "print(f'1870 v future1: {sc.stats.kstest(aberdeen_1870, aberdeen_future1).pvalue:.3f}')"
   ]
  },
  {
   "cell_type": "code",
   "execution_count": 47,
   "metadata": {},
   "outputs": [
    {
     "name": "stdout",
     "output_type": "stream",
     "text": [
      "FBA IFS 17\n",
      "1870 v 1950: 0.717\n",
      "1870 v present:  0.039\n",
      "1950 v present: 0.272\n",
      "present v future1: 0.039\n",
      "1870 v future1: 0.001\n"
     ]
    }
   ],
   "source": [
    "# FBA IFS 17\n",
    "print('FBA IFS 17')\n",
    "aberdeen_1870 = ifs.tp.sel(climate='1870').sel(latitude=slice(aberdeen[3], aberdeen[2]), \n",
    "                                               longitude=slice(aberdeen[0], aberdeen[1]), \n",
    "                                               inidate='2023-10-17').mean(['latitude', 'longitude']).values\n",
    "aberdeen_1950 = ifs.tp.sel(climate='1950').sel(latitude=slice(aberdeen[3], aberdeen[2]),\n",
    "                                               longitude=slice(aberdeen[0], aberdeen[1]), \n",
    "                                               inidate='2023-10-17').mean(['latitude', 'longitude']).values\n",
    "aberdeen_present = ifs.tp.sel(climate='present').sel(latitude=slice(aberdeen[3], aberdeen[2]),\n",
    "                                               longitude=slice(aberdeen[0], aberdeen[1]), \n",
    "                                               inidate='2023-10-17').mean(['latitude', 'longitude']).values\n",
    "aberdeen_future1 = ifs.tp.sel(climate='future1').sel(latitude=slice(aberdeen[3], aberdeen[2]),\n",
    "                                               longitude=slice(aberdeen[0], aberdeen[1]), \n",
    "                                               inidate='2023-10-17').mean(['latitude', 'longitude']).values\n",
    "\n",
    "print(f'1870 v 1950: {sc.stats.kstest(aberdeen_1870, aberdeen_1950).pvalue:.3f}')\n",
    "print(f'1870 v present:  {sc.stats.kstest(aberdeen_1870, aberdeen_present).pvalue:.3f}')\n",
    "print(f'1950 v present: {sc.stats.kstest(aberdeen_1950, aberdeen_present).pvalue:.3f}')\n",
    "print(f'present v future1: {sc.stats.kstest(aberdeen_present, aberdeen_future1).pvalue:.3f}')\n",
    "print(f'1870 v future1: {sc.stats.kstest(aberdeen_1870, aberdeen_future1).pvalue:.3f}')"
   ]
  },
  {
   "cell_type": "code",
   "execution_count": 38,
   "metadata": {},
   "outputs": [
    {
     "name": "stdout",
     "output_type": "stream",
     "text": [
      "1870 v present: 0.654\n",
      "1870 v future1: 0.654\n",
      "present v future1: 0.654\n"
     ]
    }
   ],
   "source": [
    "# FBA MICAS\n",
    "aberdeen_1870 = micas.tp.sel(climate='1870',\n",
    "                             lat=slice(aberdeen[2], aberdeen[3]),\n",
    "                             lon=slice(aberdeen[0], aberdeen[1])).mean(['lat', 'lon']).values\n",
    "aberdeen_present = micas.tp.sel(climate='present',\n",
    "                                lat=slice(aberdeen[2], aberdeen[3]),\n",
    "                                lon=slice(aberdeen[0], aberdeen[1])).mean(['lat', 'lon']).values\n",
    "aberdeen_future1 = micas.tp.sel(climate='future1',\n",
    "                                lat=slice(aberdeen[2], aberdeen[3]),\n",
    "                                lon=slice(aberdeen[0], aberdeen[1])).mean(['lat', 'lon']).values\n",
    "\n",
    "print(f'1870 v present: {sc.stats.kstest(aberdeen_1870, aberdeen_present).pvalue:.3f}')\n",
    "print(f'1870 v future1: {sc.stats.kstest(aberdeen_1870, aberdeen_future1).pvalue:.3f}')\n",
    "print(f'present v future1: {sc.stats.kstest(aberdeen_present, aberdeen_future1).pvalue:.3f}')"
   ]
  },
  {
   "cell_type": "code",
   "execution_count": 39,
   "metadata": {},
   "outputs": [
    {
     "name": "stdout",
     "output_type": "stream",
     "text": [
      "1870 v present: 0.771\n",
      "1870 v future1: 1.000\n",
      "present v future1: 1.000\n"
     ]
    }
   ],
   "source": [
    "# PGW\n",
    "aberdeen_1870 = pgw_ens.tp.sel(climate='1870',\n",
    "                             lat=slice(aberdeen[2], aberdeen[3]),\n",
    "                             lon=slice(aberdeen[0], aberdeen[1])).mean(['lat', 'lon']).values\n",
    "aberdeen_present = pgw_ens.tp.sel(climate='present',\n",
    "                                lat=slice(aberdeen[2], aberdeen[3]),\n",
    "                                lon=slice(aberdeen[0], aberdeen[1])).mean(['lat', 'lon']).values\n",
    "aberdeen_future1 = pgw_ens.tp.sel(climate='future1',\n",
    "                                lat=slice(aberdeen[2], aberdeen[3]),\n",
    "                                lon=slice(aberdeen[0], aberdeen[1])).mean(['lat', 'lon']).values\n",
    "\n",
    "print(f'1870 v present: {sc.stats.kstest(aberdeen_1870, aberdeen_present).pvalue:.3f}')\n",
    "print(f'1870 v future1: {sc.stats.kstest(aberdeen_1870, aberdeen_future1).pvalue:.3f}')\n",
    "print(f'present v future1: {sc.stats.kstest(aberdeen_present, aberdeen_future1).pvalue:.3f}')"
   ]
  },
  {
   "cell_type": "code",
   "execution_count": 18,
   "metadata": {},
   "outputs": [],
   "source": [
    "aberdeen = [-4, -2, 55.5, 57.5]\n",
    "\n",
    "def bootstrap_sample(data, n_iterations=100):\n",
    "    \"\"\"Bootstrap resampling with replacement.\"\"\" \n",
    "    means = np.array([\n",
    "        np.mean(np.random.choice(data, size=len(data), replace=True))\n",
    "        for _ in range(n_iterations)\n",
    "    ])\n",
    "    return np.percentile(means, [2.5, 97.5])  # 95% confidence interval\n"
   ]
  },
  {
   "cell_type": "code",
   "execution_count": 19,
   "metadata": {},
   "outputs": [],
   "source": [
    "def calc_precip_scaling(t2m, tp, latitude_name = 'latitude', longitude_name = 'longitude', climate='1950'):\n",
    "    \"\"\"\n",
    "    Function to calculate the scaling of precipitation with temperature. Averaging over area first\n",
    "\n",
    "    Parameters\n",
    "    ----------\n",
    "    t2m : xarray DataArray\n",
    "        Temperature data for the region of interest. Needs to have dimension climate.\n",
    "    tp : xarray DataArray\n",
    "        Precipitation data for the region of interest. Needs to have dimension climate.\n",
    "    latitude_name : str\n",
    "        Name of the latitude dimension in the DataArray. \n",
    "    longitude_name : str\n",
    "        Name of the longitude dimension in the DataArray.\n",
    "    climate : str, optional\n",
    "        Climate scenario to compare against. The default is '1950'.\n",
    "\n",
    "    Returns\n",
    "    -------\n",
    "    scaling_factor : xarray DataArray\n",
    "        Scaling factor for precipitation with temperature.\n",
    "    \"\"\"\n",
    "    \n",
    "    # Calculate the mean temperature and precipitation\n",
    "    mean_t2m = t2m.mean(dim=[latitude_name, longitude_name])\n",
    "    mean_tp = tp.mean(dim=[latitude_name, longitude_name])\n",
    "\n",
    "    # Calculate change in temperature over Aberdeenshire\n",
    "    t2m_present = mean_t2m.sel(climate='present')\n",
    "    t2m_climate = mean_t2m.sel(climate=climate)\n",
    "    delta_t2m = t2m_present - t2m_climate\n",
    "\n",
    "    # Calculate fractional precipitation change\n",
    "    tp_present = mean_tp.sel(climate='present')\n",
    "    tp_climate = mean_tp.sel(climate=climate)\n",
    "    delta_tp = (tp_present - tp_climate)/tp_present\n",
    "\n",
    "    # Calculate the scaling factor\n",
    "    scaling_factor = delta_tp / delta_t2m\n",
    "    return scaling_factor\n"
   ]
  },
  {
   "cell_type": "code",
   "execution_count": null,
   "metadata": {},
   "outputs": [
    {
     "name": "stdout",
     "output_type": "stream",
     "text": [
      "{'1870': array([0.00195692, 0.10936347], dtype=float32), '1950': array([-0.5045801 ,  0.09581669], dtype=float32), 'future1': array([18.029657  ,  0.12654911], dtype=float32)}\n"
     ]
    }
   ],
   "source": [
    "# European temperatures\n",
    "# Slice latitude and longitude just once\n",
    "region_t2m = ifs.t2m.sel(inidate=slice('2023-10-15', '2023-10-17'))\n",
    "region_tp = ifs.tp.sel(latitude=slice(aberdeen[3], aberdeen[2]),\n",
    "                       longitude=slice(aberdeen[0], aberdeen[1])).sel(inidate=slice('2023-10-15', '2023-10-17'))\n",
    "\n",
    "# Define list of climates to compare against 'present'\n",
    "climates = ['1870', '1950', 'future1']\n",
    "\n",
    "# Use dictionary comprehension, compute after loop to maximize parallelism\n",
    "scaling_factors = {\n",
    "    climate: calc_precip_scaling(region_t2m, region_tp, climate=climate).mean('number').values\n",
    "    for climate in climates\n",
    "}\n",
    "\n",
    "# Compute all at once (parallelized if using Dask)\n",
    "from dask import compute\n",
    "computed_values = compute(*scaling_factors.values())\n",
    "scaling_factors = dict(zip(climates, computed_values))\n",
    "\n",
    "print(scaling_factors)"
   ]
  },
  {
   "cell_type": "code",
   "execution_count": null,
   "metadata": {},
   "outputs": [
    {
     "name": "stdout",
     "output_type": "stream",
     "text": [
      "{'1870': array([5.401507  , 0.03213355], dtype=float32), '1950': array([-0.9181732 ,  0.05896278], dtype=float32), 'future1': array([0.95739   , 0.05651156], dtype=float32)}\n"
     ]
    }
   ],
   "source": [
    "# Aberdeenshire temperatures\n",
    "# Slice latitude and longitude just once\n",
    "region_t2m = ifs.t2m.sel(latitude=slice(aberdeen[3], aberdeen[2]),\n",
    "                       longitude=slice(aberdeen[0], aberdeen[1])).sel(inidate=slice('2023-10-15', '2023-10-17'))\n",
    "region_tp = ifs.tp.sel(latitude=slice(aberdeen[3], aberdeen[2]),\n",
    "                       longitude=slice(aberdeen[0], aberdeen[1])).sel(inidate=slice('2023-10-15', '2023-10-17'))\n",
    "\n",
    "# Define list of climates to compare against 'present'\n",
    "climates = ['1870', '1950', 'future1']\n",
    "\n",
    "# Use dictionary comprehension, compute after loop to maximize parallelism\n",
    "scaling_factors = {\n",
    "    climate: calc_precip_scaling(region_t2m, region_tp, climate=climate).mean('number').values\n",
    "    for climate in climates\n",
    "}\n",
    "\n",
    "# Compute all at once (parallelized if using Dask)\n",
    "from dask import compute\n",
    "computed_values = compute(*scaling_factors.values())\n",
    "scaling_factors = dict(zip(climates, computed_values))\n",
    "\n",
    "print(scaling_factors)"
   ]
  },
  {
   "cell_type": "code",
   "execution_count": null,
   "metadata": {},
   "outputs": [
    {
     "ename": "KeyError",
     "evalue": "'no index found for coordinate climate'",
     "output_type": "error",
     "traceback": [
      "\u001b[0;31m---------------------------------------------------------------------------\u001b[0m",
      "\u001b[0;31mKeyError\u001b[0m                                  Traceback (most recent call last)",
      "\u001b[0;32m~/nobackups/miniforge3/envs/babet-3-7-12_new/lib/python3.7/site-packages/xarray/core/indexing.py\u001b[0m in \u001b[0;36mgroup_indexers_by_index\u001b[0;34m(data_obj, indexers, method, tolerance)\u001b[0m\n\u001b[1;32m     71\u001b[0m         \u001b[0;32mtry\u001b[0m\u001b[0;34m:\u001b[0m\u001b[0;34m\u001b[0m\u001b[0;34m\u001b[0m\u001b[0m\n\u001b[0;32m---> 72\u001b[0;31m             \u001b[0mindex\u001b[0m \u001b[0;34m=\u001b[0m \u001b[0mxindexes\u001b[0m\u001b[0;34m[\u001b[0m\u001b[0mkey\u001b[0m\u001b[0;34m]\u001b[0m\u001b[0;34m\u001b[0m\u001b[0;34m\u001b[0m\u001b[0m\n\u001b[0m\u001b[1;32m     73\u001b[0m             \u001b[0mcoord\u001b[0m \u001b[0;34m=\u001b[0m \u001b[0mdata_obj\u001b[0m\u001b[0;34m.\u001b[0m\u001b[0mcoords\u001b[0m\u001b[0;34m[\u001b[0m\u001b[0mkey\u001b[0m\u001b[0;34m]\u001b[0m\u001b[0;34m\u001b[0m\u001b[0;34m\u001b[0m\u001b[0m\n",
      "\u001b[0;31mKeyError\u001b[0m: 'climate'",
      "\nDuring handling of the above exception, another exception occurred:\n",
      "\u001b[0;31mKeyError\u001b[0m                                  Traceback (most recent call last)",
      "\u001b[0;32m/tmp/user/27529/ipykernel_2414599/2525899116.py\u001b[0m in \u001b[0;36m<module>\u001b[0;34m\u001b[0m\n\u001b[1;32m     21\u001b[0m                                     climate=climate)\n\u001b[1;32m     22\u001b[0m                 \u001b[0;34m.\u001b[0m\u001b[0mmean\u001b[0m\u001b[0;34m(\u001b[0m\u001b[0;34m'number'\u001b[0m\u001b[0;34m)\u001b[0m\u001b[0;34m\u001b[0m\u001b[0;34m\u001b[0m\u001b[0m\n\u001b[0;32m---> 23\u001b[0;31m                 \u001b[0;32mfor\u001b[0m \u001b[0mclimate\u001b[0m \u001b[0;32min\u001b[0m \u001b[0;34m[\u001b[0m\u001b[0;34m'1870'\u001b[0m\u001b[0;34m,\u001b[0m \u001b[0;34m'1950'\u001b[0m\u001b[0;34m,\u001b[0m \u001b[0;34m'future1'\u001b[0m\u001b[0;34m]\u001b[0m\u001b[0;34m\u001b[0m\u001b[0;34m\u001b[0m\u001b[0m\n\u001b[0m\u001b[1;32m     24\u001b[0m     }\n\u001b[1;32m     25\u001b[0m     \u001b[0;31m# Trigger computation in parallel\u001b[0m\u001b[0;34m\u001b[0m\u001b[0;34m\u001b[0m\u001b[0;34m\u001b[0m\u001b[0m\n",
      "\u001b[0;32m/tmp/user/27529/ipykernel_2414599/2525899116.py\u001b[0m in \u001b[0;36m<dictcomp>\u001b[0;34m(.0)\u001b[0m\n\u001b[1;32m     21\u001b[0m                                     climate=climate)\n\u001b[1;32m     22\u001b[0m                 \u001b[0;34m.\u001b[0m\u001b[0mmean\u001b[0m\u001b[0;34m(\u001b[0m\u001b[0;34m'number'\u001b[0m\u001b[0;34m)\u001b[0m\u001b[0;34m\u001b[0m\u001b[0;34m\u001b[0m\u001b[0m\n\u001b[0;32m---> 23\u001b[0;31m                 \u001b[0;32mfor\u001b[0m \u001b[0mclimate\u001b[0m \u001b[0;32min\u001b[0m \u001b[0;34m[\u001b[0m\u001b[0;34m'1870'\u001b[0m\u001b[0;34m,\u001b[0m \u001b[0;34m'1950'\u001b[0m\u001b[0;34m,\u001b[0m \u001b[0;34m'future1'\u001b[0m\u001b[0;34m]\u001b[0m\u001b[0;34m\u001b[0m\u001b[0;34m\u001b[0m\u001b[0m\n\u001b[0m\u001b[1;32m     24\u001b[0m     }\n\u001b[1;32m     25\u001b[0m     \u001b[0;31m# Trigger computation in parallel\u001b[0m\u001b[0;34m\u001b[0m\u001b[0;34m\u001b[0m\u001b[0;34m\u001b[0m\u001b[0m\n",
      "\u001b[0;32m/tmp/user/27529/ipykernel_2414599/1024835634.py\u001b[0m in \u001b[0;36mcalc_precip_scaling\u001b[0;34m(t2m, tp, latitude_name, longitude_name, climate)\u001b[0m\n\u001b[1;32m     27\u001b[0m \u001b[0;34m\u001b[0m\u001b[0m\n\u001b[1;32m     28\u001b[0m     \u001b[0;31m# Calculate change in temperature over Aberdeenshire\u001b[0m\u001b[0;34m\u001b[0m\u001b[0;34m\u001b[0m\u001b[0;34m\u001b[0m\u001b[0m\n\u001b[0;32m---> 29\u001b[0;31m     \u001b[0mt2m_present\u001b[0m \u001b[0;34m=\u001b[0m \u001b[0mmean_t2m\u001b[0m\u001b[0;34m.\u001b[0m\u001b[0msel\u001b[0m\u001b[0;34m(\u001b[0m\u001b[0mclimate\u001b[0m\u001b[0;34m=\u001b[0m\u001b[0;34m'present'\u001b[0m\u001b[0;34m)\u001b[0m\u001b[0;34m\u001b[0m\u001b[0;34m\u001b[0m\u001b[0m\n\u001b[0m\u001b[1;32m     30\u001b[0m     \u001b[0mt2m_climate\u001b[0m \u001b[0;34m=\u001b[0m \u001b[0mmean_t2m\u001b[0m\u001b[0;34m.\u001b[0m\u001b[0msel\u001b[0m\u001b[0;34m(\u001b[0m\u001b[0mclimate\u001b[0m\u001b[0;34m=\u001b[0m\u001b[0mclimate\u001b[0m\u001b[0;34m)\u001b[0m\u001b[0;34m\u001b[0m\u001b[0;34m\u001b[0m\u001b[0m\n\u001b[1;32m     31\u001b[0m     \u001b[0mdelta_t2m\u001b[0m \u001b[0;34m=\u001b[0m \u001b[0mt2m_present\u001b[0m \u001b[0;34m-\u001b[0m \u001b[0mt2m_climate\u001b[0m\u001b[0;34m\u001b[0m\u001b[0;34m\u001b[0m\u001b[0m\n",
      "\u001b[0;32m~/nobackups/miniforge3/envs/babet-3-7-12_new/lib/python3.7/site-packages/xarray/core/dataarray.py\u001b[0m in \u001b[0;36msel\u001b[0;34m(self, indexers, method, tolerance, drop, **indexers_kwargs)\u001b[0m\n\u001b[1;32m   1335\u001b[0m             \u001b[0mmethod\u001b[0m\u001b[0;34m=\u001b[0m\u001b[0mmethod\u001b[0m\u001b[0;34m,\u001b[0m\u001b[0;34m\u001b[0m\u001b[0;34m\u001b[0m\u001b[0m\n\u001b[1;32m   1336\u001b[0m             \u001b[0mtolerance\u001b[0m\u001b[0;34m=\u001b[0m\u001b[0mtolerance\u001b[0m\u001b[0;34m,\u001b[0m\u001b[0;34m\u001b[0m\u001b[0;34m\u001b[0m\u001b[0m\n\u001b[0;32m-> 1337\u001b[0;31m             \u001b[0;34m**\u001b[0m\u001b[0mindexers_kwargs\u001b[0m\u001b[0;34m,\u001b[0m\u001b[0;34m\u001b[0m\u001b[0;34m\u001b[0m\u001b[0m\n\u001b[0m\u001b[1;32m   1338\u001b[0m         )\n\u001b[1;32m   1339\u001b[0m         \u001b[0;32mreturn\u001b[0m \u001b[0mself\u001b[0m\u001b[0;34m.\u001b[0m\u001b[0m_from_temp_dataset\u001b[0m\u001b[0;34m(\u001b[0m\u001b[0mds\u001b[0m\u001b[0;34m)\u001b[0m\u001b[0;34m\u001b[0m\u001b[0;34m\u001b[0m\u001b[0m\n",
      "\u001b[0;32m~/nobackups/miniforge3/envs/babet-3-7-12_new/lib/python3.7/site-packages/xarray/core/dataset.py\u001b[0m in \u001b[0;36msel\u001b[0;34m(self, indexers, method, tolerance, drop, **indexers_kwargs)\u001b[0m\n\u001b[1;32m   2503\u001b[0m         \u001b[0mindexers\u001b[0m \u001b[0;34m=\u001b[0m \u001b[0meither_dict_or_kwargs\u001b[0m\u001b[0;34m(\u001b[0m\u001b[0mindexers\u001b[0m\u001b[0;34m,\u001b[0m \u001b[0mindexers_kwargs\u001b[0m\u001b[0;34m,\u001b[0m \u001b[0;34m\"sel\"\u001b[0m\u001b[0;34m)\u001b[0m\u001b[0;34m\u001b[0m\u001b[0;34m\u001b[0m\u001b[0m\n\u001b[1;32m   2504\u001b[0m         pos_indexers, new_indexes = remap_label_indexers(\n\u001b[0;32m-> 2505\u001b[0;31m             \u001b[0mself\u001b[0m\u001b[0;34m,\u001b[0m \u001b[0mindexers\u001b[0m\u001b[0;34m=\u001b[0m\u001b[0mindexers\u001b[0m\u001b[0;34m,\u001b[0m \u001b[0mmethod\u001b[0m\u001b[0;34m=\u001b[0m\u001b[0mmethod\u001b[0m\u001b[0;34m,\u001b[0m \u001b[0mtolerance\u001b[0m\u001b[0;34m=\u001b[0m\u001b[0mtolerance\u001b[0m\u001b[0;34m\u001b[0m\u001b[0;34m\u001b[0m\u001b[0m\n\u001b[0m\u001b[1;32m   2506\u001b[0m         )\n\u001b[1;32m   2507\u001b[0m         \u001b[0;31m# TODO: benbovy - flexible indexes: also use variables returned by Index.query\u001b[0m\u001b[0;34m\u001b[0m\u001b[0;34m\u001b[0m\u001b[0;34m\u001b[0m\u001b[0m\n",
      "\u001b[0;32m~/nobackups/miniforge3/envs/babet-3-7-12_new/lib/python3.7/site-packages/xarray/core/coordinates.py\u001b[0m in \u001b[0;36mremap_label_indexers\u001b[0;34m(obj, indexers, method, tolerance, **indexers_kwargs)\u001b[0m\n\u001b[1;32m    420\u001b[0m \u001b[0;34m\u001b[0m\u001b[0m\n\u001b[1;32m    421\u001b[0m     pos_indexers, new_indexes = indexing.remap_label_indexers(\n\u001b[0;32m--> 422\u001b[0;31m         \u001b[0mobj\u001b[0m\u001b[0;34m,\u001b[0m \u001b[0mv_indexers\u001b[0m\u001b[0;34m,\u001b[0m \u001b[0mmethod\u001b[0m\u001b[0;34m=\u001b[0m\u001b[0mmethod\u001b[0m\u001b[0;34m,\u001b[0m \u001b[0mtolerance\u001b[0m\u001b[0;34m=\u001b[0m\u001b[0mtolerance\u001b[0m\u001b[0;34m\u001b[0m\u001b[0;34m\u001b[0m\u001b[0m\n\u001b[0m\u001b[1;32m    423\u001b[0m     )\n\u001b[1;32m    424\u001b[0m     \u001b[0;31m# attach indexer's coordinate to pos_indexers\u001b[0m\u001b[0;34m\u001b[0m\u001b[0;34m\u001b[0m\u001b[0;34m\u001b[0m\u001b[0m\n",
      "\u001b[0;32m~/nobackups/miniforge3/envs/babet-3-7-12_new/lib/python3.7/site-packages/xarray/core/indexing.py\u001b[0m in \u001b[0;36mremap_label_indexers\u001b[0;34m(data_obj, indexers, method, tolerance)\u001b[0m\n\u001b[1;32m    108\u001b[0m \u001b[0;34m\u001b[0m\u001b[0m\n\u001b[1;32m    109\u001b[0m     indexes, grouped_indexers = group_indexers_by_index(\n\u001b[0;32m--> 110\u001b[0;31m         \u001b[0mdata_obj\u001b[0m\u001b[0;34m,\u001b[0m \u001b[0mindexers\u001b[0m\u001b[0;34m,\u001b[0m \u001b[0mmethod\u001b[0m\u001b[0;34m,\u001b[0m \u001b[0mtolerance\u001b[0m\u001b[0;34m\u001b[0m\u001b[0;34m\u001b[0m\u001b[0m\n\u001b[0m\u001b[1;32m    111\u001b[0m     )\n\u001b[1;32m    112\u001b[0m \u001b[0;34m\u001b[0m\u001b[0m\n",
      "\u001b[0;32m~/nobackups/miniforge3/envs/babet-3-7-12_new/lib/python3.7/site-packages/xarray/core/indexing.py\u001b[0m in \u001b[0;36mgroup_indexers_by_index\u001b[0;34m(data_obj, indexers, method, tolerance)\u001b[0m\n\u001b[1;32m     81\u001b[0m         \u001b[0;32mexcept\u001b[0m \u001b[0mKeyError\u001b[0m\u001b[0;34m:\u001b[0m\u001b[0;34m\u001b[0m\u001b[0;34m\u001b[0m\u001b[0m\n\u001b[1;32m     82\u001b[0m             \u001b[0;32mif\u001b[0m \u001b[0mkey\u001b[0m \u001b[0;32min\u001b[0m \u001b[0mdata_obj\u001b[0m\u001b[0;34m.\u001b[0m\u001b[0mcoords\u001b[0m\u001b[0;34m:\u001b[0m\u001b[0;34m\u001b[0m\u001b[0;34m\u001b[0m\u001b[0m\n\u001b[0;32m---> 83\u001b[0;31m                 \u001b[0;32mraise\u001b[0m \u001b[0mKeyError\u001b[0m\u001b[0;34m(\u001b[0m\u001b[0;34mf\"no index found for coordinate {key}\"\u001b[0m\u001b[0;34m)\u001b[0m\u001b[0;34m\u001b[0m\u001b[0;34m\u001b[0m\u001b[0m\n\u001b[0m\u001b[1;32m     84\u001b[0m             \u001b[0;32melif\u001b[0m \u001b[0mkey\u001b[0m \u001b[0;32mnot\u001b[0m \u001b[0;32min\u001b[0m \u001b[0mdata_obj\u001b[0m\u001b[0;34m.\u001b[0m\u001b[0mdims\u001b[0m\u001b[0;34m:\u001b[0m\u001b[0;34m\u001b[0m\u001b[0;34m\u001b[0m\u001b[0m\n\u001b[1;32m     85\u001b[0m                 \u001b[0;32mraise\u001b[0m \u001b[0mKeyError\u001b[0m\u001b[0;34m(\u001b[0m\u001b[0;34mf\"{key} is not a valid dimension or coordinate\"\u001b[0m\u001b[0;34m)\u001b[0m\u001b[0;34m\u001b[0m\u001b[0;34m\u001b[0m\u001b[0m\n",
      "\u001b[0;31mKeyError\u001b[0m: 'no index found for coordinate climate'"
     ]
    }
   ],
   "source": [
    "# test function\n",
    "just_one_climate = False\n",
    "if just_one_climate:\n",
    "    calc_precip_scaling(\n",
    "        ifs.t2m.sel(latitude=slice(aberdeen[3], aberdeen[2]),longitude=slice(aberdeen[0], aberdeen[1])), \n",
    "        ifs.tp.sel(latitude=slice(aberdeen[3], aberdeen[2]),longitude=slice(aberdeen[0], aberdeen[1])),\n",
    "        climate='future1'\n",
    "        ).sel(inidate='2023-10-17').mean('number').compute()\n",
    "else:\n",
    "    # Slice latitude and longitude just once\n",
    "    region_t2m = ifs.t2m.sel(latitude=slice(aberdeen[3], aberdeen[2]),\n",
    "                            longitude=slice(aberdeen[0], aberdeen[1]))\n",
    "    region_tp = ifs.tp.sel(latitude=slice(aberdeen[3], aberdeen[2]),\n",
    "                        longitude=slice(aberdeen[0], aberdeen[1]))\n",
    "\n",
    "    # Define list of climates to compare against 'present'\n",
    "    climates = ['1870', '1950', 'future1']\n",
    "\n",
    "    # Use dictionary comprehension, compute after loop to maximize parallelism\n",
    "    scaling_factors = {\n",
    "        climate: calc_precip_scaling(region_t2m, region_tp, climate=climate).mean('number')\n",
    "        for climate in climates\n",
    "    }\n",
    "\n",
    "    # Compute all at once (parallelized if using Dask)\n",
    "    from dask import compute\n",
    "    computed_values = compute(*scaling_factors.values())\n",
    "    scaling_factors = dict(zip(climates, computed_values))\n",
    "\n",
    "    print(scaling_factors)"
   ]
  },
  {
   "cell_type": "code",
   "execution_count": null,
   "metadata": {},
   "outputs": [],
   "source": [
    "# test function\n",
    "test = False\n",
    "if test:\n",
    "      # IFS precip scaling\n",
    "      climate = 'future1'\n",
    "      inidate = '2023-10-17'\n",
    "\n",
    "      # area average first\n",
    "      ifs_aberdeen = ifs.get(['tp', 't2m']).sel(latitude=slice(aberdeen[3], aberdeen[2]),longitude=slice(aberdeen[0], aberdeen[1])).mean(dim=['latitude', 'longitude'])\n",
    "      delta_tp = (ifs_aberdeen.tp - ifs_aberdeen.tp.sel(climate='present'))/ifs_aberdeen.tp.sel(climate='present')\n",
    "      dt2m = (ifs_aberdeen.t2m - ifs_aberdeen.t2m.sel(climate='present'))\n",
    "      scaling = delta_tp/dt2m\n",
    "      print('Area average first', \n",
    "            scaling.sel(climate=climate, inidate=inidate).mean(dim='number').values) # should be 0.0565 for 2023-10-17 and future1, same as in function"
   ]
  },
  {
   "cell_type": "code",
   "execution_count": null,
   "metadata": {},
   "outputs": [],
   "source": []
  }
 ],
 "metadata": {
  "kernelspec": {
   "display_name": "babet-3-7-12_new",
   "language": "python",
   "name": "python3"
  },
  "language_info": {
   "codemirror_mode": {
    "name": "ipython",
    "version": 3
   },
   "file_extension": ".py",
   "mimetype": "text/x-python",
   "name": "python",
   "nbconvert_exporter": "python",
   "pygments_lexer": "ipython3",
   "version": "3.7.12"
  }
 },
 "nbformat": 4,
 "nbformat_minor": 2
}
