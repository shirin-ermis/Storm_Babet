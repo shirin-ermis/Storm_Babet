{
 "cells": [
  {
   "cell_type": "code",
   "execution_count": 3,
   "metadata": {},
   "outputs": [
    {
     "data": {
      "text/plain": [
       "<dask.config.set at 0x7fe5430850d0>"
      ]
     },
     "execution_count": 3,
     "metadata": {},
     "output_type": "execute_result"
    }
   ],
   "source": [
    "import matplotlib.pyplot as plt\n",
    "import matplotlib.patches as patches\n",
    "from matplotlib.collections import PatchCollection\n",
    "import numpy as np\n",
    "import xarray as xr\n",
    "import pandas as pd\n",
    "import os\n",
    "import seaborn as sns\n",
    "import random \n",
    "import scipy as sc\n",
    "import babet as bb\n",
    "import dask\n",
    "import cartopy.crs as ccrs\n",
    "import tqdm\n",
    "import cartopy.feature as cfeature\n",
    "from cmcrameri import cm\n",
    "\n",
    "sns.set_theme(style=\"white\")\n",
    "sns.set_style(\"white\")\n",
    "\n",
    "random.seed(10)\n",
    "dask.config.set(**{'array.slicing.split_large_chunks': True})"
   ]
  },
  {
   "cell_type": "markdown",
   "metadata": {},
   "source": [
    "# Import data"
   ]
  },
  {
   "cell_type": "code",
   "execution_count": 4,
   "metadata": {},
   "outputs": [],
   "source": [
    "base_dir = '/gf5/predict/AWH019_ERMIS_ATMICP/Babet/DATA/MED-R/EXP/{}/EU025/sfc/pf' # TODO: change as needed\n",
    "file_dir = {'curr': base_dir.format('curr'),\n",
    "            'pi': base_dir.format('pi'),\n",
    "            'incr': base_dir.format('incr')} # TODO: change as needed\n",
    "babet_exp = {}\n",
    "for exp in file_dir.keys():\n",
    "    babet_exp[exp] = xr.open_mfdataset(os.path.join(file_dir[exp], '*.nc'), preprocess=bb.Data.preproc_ds)"
   ]
  },
  {
   "cell_type": "code",
   "execution_count": 5,
   "metadata": {},
   "outputs": [],
   "source": [
    "# Import ERA5 data\n",
    "era5_dir = '/gf5/predict/AWH019_ERMIS_ATMICP/Babet/DATA/ERA5/EU025/sfc/' # TODO: change as needed\n",
    "era5 = xr.open_mfdataset(os.path.join(era5_dir, '*.nc'))\n",
    "era5 = era5.sel(time=slice('2023-10-17 00', '2023-10-22 00'))"
   ]
  },
  {
   "cell_type": "markdown",
   "metadata": {},
   "source": [
    "# Calculate cumulative total precipitation\n",
    "\n",
    "ERA5: sum up \n",
    "\n",
    "IFS: Already cumulative from initialisation, just need to subtract precip at start of window"
   ]
  },
  {
   "cell_type": "code",
   "execution_count": 6,
   "metadata": {},
   "outputs": [],
   "source": [
    "starttime = '2023-10-19 00' # used to be 18th # Same as Met Office, https://www.metoffice.gov.uk/binaries/content/assets/metofficegovuk/pdf/weather/learn-about/uk-past-events/interesting/2023/2023_08_storm_babet.pdf\n",
    "endtime = '2023-10-22 00' # Met Office uses 9 hours more"
   ]
  },
  {
   "cell_type": "code",
   "execution_count": 7,
   "metadata": {},
   "outputs": [],
   "source": [
    "# TODO: adjust method to calculate total precip in 72 hour time period as needed\n",
    "tp_era = bb.Data.hourly2accum(era5, start_day=starttime, end_day=endtime).tp.sel(time=endtime) # m2mm conversion in function\n",
    "tp_babet_exp = {key:(value.tp.sel(time=endtime)-value.tp.sel(time=starttime))*1000 for (key,value) in babet_exp.items()}"
   ]
  },
  {
   "cell_type": "code",
   "execution_count": 9,
   "metadata": {},
   "outputs": [],
   "source": [
    "# Plot settings\n",
    "\n",
    "# UK\n",
    "lat_max = 62\n",
    "lat_min = 47\n",
    "lon_min = -12\n",
    "lon_max = 5\n",
    "\n",
    "# #Europe\n",
    "# lat_max = 70\n",
    "# lat_min = 33\n",
    "# lon_min = -27\n",
    "# lon_max = 25\n",
    "\n",
    "tp_min = 0 # Precipitation in mm\n",
    "tp_max = 200\n",
    "\n",
    "p_min = 970 # Pressure in hPa\n",
    "p_max= 1030\n",
    "\n",
    "euroatlantic = [lon_min-13, lon_max, lat_min-5, lat_max+6]\n",
    "uk = [-11, 5, 48, 60]"
   ]
  },
  {
   "cell_type": "markdown",
   "metadata": {},
   "source": [
    "# Comparison between experiments"
   ]
  },
  {
   "cell_type": "code",
   "execution_count": null,
   "metadata": {},
   "outputs": [],
   "source": [
    "# figure and map setup\n",
    "experiments = ['pi', 'curr', 'incr']\n",
    "fs = 18\n",
    "projection = ccrs.PlateCarree()\n",
    "p_max = 1030\n",
    "p_min = 970\n",
    "\n",
    "tp_min = 0\n",
    "tp_max = 200\n",
    "\n",
    "fig = plt.figure(1, figsize=(20, 11))\n",
    "lead_times = ['inidate 2023-10-11', 'inidate 2023-10-13', 'inidate 2023-10-15', 'inidate 2023-10-17'] # TODO: change as needed\n",
    "inidates = ['2023-10-11', '2023-10-13', '2023-10-15', '2023-10-17'] # TODO: change as needed\n",
    "\n",
    "# EPS data ------------------    \n",
    "latitude = babet_exp['pi'].sel(inidate=inidates[0]).latitude.values\n",
    "longitude = babet_exp['pi'].sel(inidate=inidates[0]).longitude.values\n",
    "\n",
    "for i, inidate in enumerate(inidates):\n",
    "    for e, experiment in enumerate(experiments):\n",
    "        p_vals = (babet_exp[experiment].sel(inidate=inidate, time=slice(starttime, endtime))/100).mean(dim=['number', 'time']).msl.values\n",
    "\n",
    "        if experiment in ['pi', 'incr']:  # plot difference for counterfactual scenarios\n",
    "            tp_vals = (tp_babet_exp[experiment].sel(inidate=inidate).mean(dim='number') - tp_babet_exp['curr'].sel(inidate=inidate).mean(dim='number')).values\n",
    "        else: \n",
    "            tp_vals = tp_babet_exp[experiment].sel(inidate=inidate).mean(dim='number').values\n",
    "\n",
    "        ax = plt.subplot(3,5, i+1+e*5,projection = projection)\n",
    "        ax.set_extent(uk, projection)\n",
    "        ax.add_feature(cfeature.COASTLINE.with_scale('50m'), color = 'grey', zorder = 14)\n",
    "\n",
    "        # tp as shading\n",
    "        if experiment =='curr':\n",
    "            clevs_tp = np.linspace(tp_min, tp_max, 11)  # 17\n",
    "            cf = ax.contourf(longitude, latitude, tp_vals, clevs_tp, cmap=cm.lapaz_r,\n",
    "                            transform=projection, zorder = 10, extend = 'max')\n",
    "        else: \n",
    "            clevs_tp = np.linspace(-15, 15, 10)\n",
    "            cf_diff = ax.contourf(longitude, latitude, tp_vals, clevs_tp, cmap=cm.vik,\n",
    "                                  transform=projection, zorder = 10, extend = 'both')\n",
    "        \n",
    "        # isobars as contours\n",
    "        clevs_p =np.arange(p_min, p_max, 5)\n",
    "        cs = ax.contour(longitude, latitude, p_vals, clevs_p, colors='black',\n",
    "                        transform=projection, zorder = 16)\n",
    "        plt.clabel(cs, fmt='%d', fontsize=fs-3)\n",
    "        if experiment=='pi':\n",
    "            ax.set_title(lead_times[i], size = str(fs))\n",
    "        else:\n",
    "            ax.set_title('', size = str(fs))\n",
    "\n",
    "        # rectangle for Aberdeenshire box\n",
    "        rectangle = patches.Rectangle((-4, 55.5), 2, 2, linewidth=2, \n",
    "                                      edgecolor='k', \n",
    "                                      facecolor='none',\n",
    "                                      transform=projection)\n",
    "        ax.add_patch(rectangle)\n",
    "        rectangle.set_zorder(17)\n",
    "\n",
    "# ERA5 or analysis data ----------------------\n",
    "latitude = era5.latitude\n",
    "longitude = era5.longitude\n",
    "\n",
    "p_vals = era5.msl.sel( time=slice(starttime, endtime)).mean('time').values/100\n",
    "tp_vals = tp_era.values\n",
    "ax = plt.subplot(3,5,10,projection = projection)\n",
    "ax.set_extent(uk, projection)\n",
    "ax.add_feature(cfeature.COASTLINE.with_scale('50m'), color = 'grey', zorder = 14)\n",
    "\n",
    "# tp as shading\n",
    "clevs_tp = np.linspace(tp_min, tp_max, 11)  # 17\n",
    "cf = ax.contourf(longitude, latitude, tp_vals, clevs_tp, cmap=cm.lapaz_r,\n",
    "                transform=projection, zorder = 10, extend = 'max')\n",
    "\n",
    "# isobars as contours\n",
    "clevs_p = np.arange(p_min, p_max, 5)\n",
    "cs = ax.contour(longitude, latitude, p_vals, clevs_p, colors='black',\n",
    "                transform=projection, zorder = 16)\n",
    "plt.clabel(cs, fmt='%d', fontsize=fs-3)\n",
    "ax.set_title(\"ERA5\", size = fs)\n",
    "\n",
    "# rectangle for Aberdeenshire box\n",
    "rectangle = patches.Rectangle((-4, 55.5), 2, 2, linewidth=2, \n",
    "                                edgecolor='k', \n",
    "                                facecolor='none',\n",
    "                                transform=projection)\n",
    "ax.add_patch(rectangle)\n",
    "rectangle.set_zorder(17)\n",
    "\n",
    "# Other figure settings -----------------\n",
    "ax = plt.subplot(3,5,5)\n",
    "ax.axis('off')  # removes subplot frame\n",
    "cax = ax.inset_axes([0.2, 0.02, 0.1, 0.95])  # creates inset, [x0,y0, width, height]\n",
    "cbar = fig.colorbar(cf, cax=cax, label='tp (mm)', extend = 'max', shrink=0.8)\n",
    "cbar.set_label(label='tp (mm)', size=fs)\n",
    "cbar.ax.tick_params(labelsize=fs-3)\n",
    "\n",
    "cax_diff = ax.inset_axes([0.6, 0.02, 0.1, 0.95])  # creates inset, [x0,y0, width, height]\n",
    "cbar_diff = fig.colorbar(cf_diff, cax=cax_diff, label='tp difference (mm)', extend = 'both', shrink=0.8)\n",
    "cbar_diff.set_label(label='tp difference (mm)', size=fs)\n",
    "cbar_diff.ax.tick_params(labelsize=fs-3)\n",
    "plt.figtext(-0.02, 0.82, 'pi', rotation='vertical', size=fs)\n",
    "plt.figtext(-0.02, 0.48, 'curr', rotation='vertical', size=fs)\n",
    "plt.figtext(-0.02, 0.15, 'fut', rotation='vertical', size=fs)\n",
    "plt.suptitle('PGW total precipitation for 18th to 22nd Oct 2023, comparing ensemble mean', size = fs)\n",
    "plt.tight_layout()\n",
    "\n",
    "plt.savefig('../figures/A13_tp_all-inidates_all-experiments.png', dpi=300, bbox_inches='tight')\n",
    "plt.savefig('../figures/A13_tp_all-inidates_all-experiments.pdf')"
   ]
  }
 ],
 "metadata": {
  "kernelspec": {
   "display_name": "babet-3-7-12_new",
   "language": "python",
   "name": "python3"
  },
  "language_info": {
   "codemirror_mode": {
    "name": "ipython",
    "version": 3
   },
   "file_extension": ".py",
   "mimetype": "text/x-python",
   "name": "python",
   "nbconvert_exporter": "python",
   "pygments_lexer": "ipython3",
   "version": "3.7.12"
  }
 },
 "nbformat": 4,
 "nbformat_minor": 2
}
