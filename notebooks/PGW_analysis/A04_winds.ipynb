{
 "cells": [
  {
   "cell_type": "code",
   "execution_count": 1,
   "metadata": {},
   "outputs": [
    {
     "data": {
      "text/plain": [
       "<dask.config.set at 0x7f38688da650>"
      ]
     },
     "execution_count": 1,
     "metadata": {},
     "output_type": "execute_result"
    }
   ],
   "source": [
    "import matplotlib.pyplot as plt\n",
    "import numpy as np\n",
    "import xarray as xr\n",
    "import pandas as pd\n",
    "import os\n",
    "import seaborn as sns\n",
    "import random \n",
    "import dask\n",
    "import cartopy.crs as ccrs\n",
    "import cartopy.feature as cfeature\n",
    "from cmcrameri import cm\n",
    "import babet as bb\n",
    "import matplotlib.patches as patches\n",
    "from matplotlib.collections import PatchCollection\n",
    "import metpy.calc as mpcalc \n",
    "from metpy.units import units\n",
    "\n",
    "sns.set_theme(style=\"white\")\n",
    "sns.set_style(\"white\")\n",
    "\n",
    "random.seed(10)\n",
    "# inidates = ['2023-10-11', '2023-10-15', '2023-10-17']\n",
    "inidates = ['2023-10-11', '2023-10-13', '2023-10-15', '2023-10-17']\n",
    "experiments = ['pi', 'curr', 'incr']\n",
    "\n",
    "dask.config.set(**{'array.slicing.split_large_chunks': True})"
   ]
  },
  {
   "cell_type": "markdown",
   "metadata": {},
   "source": [
    "# Import data"
   ]
  },
  {
   "cell_type": "markdown",
   "metadata": {},
   "source": [
    "I import the data so that the different scenarios are entries in a dictionary and the initialisation dates are included in the xarray along with the other data dimensions. Overall, I will then have a xarray with dimensions\n",
    "- time\n",
    "- initialisation date (called 'inidate' in data)\n",
    "- longitude\n",
    "- latitude\n",
    "- pressure level (called 'level' in data)\n",
    "- ensemble members (called 'number' in data)\n",
    "\n",
    "Variables I need here are just the zonal winds u and geopotential height. I mostly plot the winds on 850hPa so only that pressure level should be necessary here."
   ]
  },
  {
   "cell_type": "code",
   "execution_count": 2,
   "metadata": {},
   "outputs": [],
   "source": [
    "# Import forecast data data\n",
    "base_dir = '/gf5/predict/AWH019_ERMIS_ATMICP/Babet/DATA/MED-R/EXP/{}/EU025/pl/pf'\n",
    "exp = {}\n",
    "for experiment in experiments:\n",
    "    exp[experiment] = xr.open_mfdataset(os.path.join(base_dir.format(experiment), '*.nc'), preprocess=bb.Data.preproc_ds)"
   ]
  },
  {
   "cell_type": "code",
   "execution_count": 3,
   "metadata": {},
   "outputs": [],
   "source": [
    "# Plot settings\n",
    "\n",
    "# UK\n",
    "lat_max = 62\n",
    "lat_min = 47\n",
    "lon_min = -12\n",
    "lon_max = 5\n",
    "\n",
    "# #Europe\n",
    "# lat_max = 70\n",
    "# lat_min = 33\n",
    "# lon_min = -27\n",
    "# lon_max = 25\n",
    "\n",
    "euroatlantic = [lon_min-13, lon_max, lat_min-5, lat_max+6]\n",
    "uk = [-11, 5, 48, 60]\n",
    "northsea = [-17, 20, 40, 70]"
   ]
  },
  {
   "cell_type": "markdown",
   "metadata": {},
   "source": [
    "# Time series"
   ]
  },
  {
   "cell_type": "code",
   "execution_count": null,
   "metadata": {},
   "outputs": [],
   "source": [
    "timesteps = ['2023-10-18 09', '2023-10-19 09', '2023-10-20 09', '2023-10-21 09'] \n",
    "inidate = '2023-10-17' # TODO: change as needed\n",
    "level_wind = 850\n",
    "\n",
    "plt.figure(1, figsize=(20, 5)) \n",
    "\n",
    "speed_min = 0\n",
    "speed_max = 50\n",
    "z_min = 11000\n",
    "z_max = 15000\n",
    "\n",
    "latitude = exp['curr'].sel(inidate=inidate).latitude.values\n",
    "longitude = exp['curr'].sel(inidate=inidate).longitude.values\n",
    "\n",
    "projection = ccrs.PlateCarree()\n",
    "fs = 15\n",
    "\n",
    "for i,t in enumerate(timesteps):\n",
    "        z_vals = (exp['curr'].sel(inidate=inidate, time=t, level=850)).mean(dim='number').z.values\n",
    "        u_vals = exp['curr'].u.sel(inidate=inidate, time=t, level=level_wind).mean('number').squeeze().values\n",
    "        v_vals = 0 #exp['curr'].v.sel(inidate=inidate, time=t, level=level_wind).mean('number').squeeze().values\n",
    "        speed = np.sqrt(u_vals**2 + v_vals**2)\n",
    "\n",
    "        ax = plt.subplot(1,5,i+1, projection=ccrs.PlateCarree())\n",
    "        ax.set_extent(northsea, projection)\n",
    "        ax.add_feature(cfeature.COASTLINE.with_scale('50m'), color = 'grey', zorder = 14)\n",
    "        # ax.add_feature(cfeature.OCEAN, zorder=12, color = 'white')\n",
    "\n",
    "        clevs_z =np.arange(z_min, z_max, 300)\n",
    "        cs = ax.contour(longitude, latitude, z_vals, clevs_z, colors='white',\n",
    "             transform=projection, zorder = 16)\n",
    "        plt.clabel(cs, fmt='%d', fontsize=fs-3)\n",
    "\n",
    "        clevs_speed = np.linspace(speed_min, speed_max, 11)  # 17\n",
    "        cf = ax.contourf(longitude, latitude, speed, clevs_speed, cmap=cm.devon,\n",
    "                transform=projection, zorder = 10, extend = 'max')\n",
    "        \n",
    "        plt.title(t, size=fs)\n",
    "\n",
    "ax = plt.subplot(1,5,5)\n",
    "ax.axis('off')  # removes subplot frame\n",
    "cax = ax.inset_axes([0.2, 0.02, 0.1, 0.95])  # creates inset, [x0,y0, width, height]\n",
    "cbar = plt.colorbar(cf, cax=cax, label='zonal wind (m/s)', extend = 'both', shrink=0.8)\n",
    "cbar.set_label(label='zonal wind (m/s)', size=fs) \n",
    "cbar.ax.tick_params(labelsize=fs-3)\n",
    "\n",
    "plt.suptitle(f'PGW zonal wind at {level_wind}hPa and geopotential at 850hPa, CURR, inidate {inidate}', size = fs)\n",
    "plt.tight_layout()\n",
    "\n",
    "plt.savefig(f'../figures/A14_zonal_winds_{inidate}_curr_timeseries.png', dpi=600)\n",
    "plt.savefig(f'../figures/A14_zonal_winds_{inidate}_curr_timeseries.pdf')   "
   ]
  },
  {
   "cell_type": "markdown",
   "metadata": {},
   "source": [
    "# Comparison"
   ]
  },
  {
   "cell_type": "code",
   "execution_count": null,
   "metadata": {},
   "outputs": [],
   "source": [
    "speed_min = -25\n",
    "speed_max = 25\n",
    "p_min = 11000\n",
    "p_max = 15000\n",
    "level_wind = 850\n",
    "\n",
    "latitude = exp['curr'].sel(inidate=inidates[0]).latitude.values\n",
    "longitude = exp['curr'].sel(inidate=inidates[0]).longitude.values\n",
    "\n",
    "projection = ccrs.PlateCarree()\n",
    "fs = 15 # fontsize\n",
    "\n",
    "starttime = '2023-10-20 00' # same as in Vikki's analysis\n",
    "endtime = '2023-10-21 00'\n",
    "\n",
    "for inidate in inidates:\n",
    "        fig = plt.figure(1, figsize=(20, 5)) \n",
    "\n",
    "        u_vals = exp['curr'].u.sel(inidate=inidate, time=slice(starttime, endtime), level=level_wind).mean(['number', 'time']).squeeze().values\n",
    "        curr_speed = u_vals\n",
    "\n",
    "        experiments = ['pi', 'curr', 'incr']\n",
    "        for i, e in enumerate(experiments):\n",
    "                if e in ['pi', 'incr']:\n",
    "                        u_vals = exp[e].u.sel(inidate=inidate, time=slice(starttime, endtime), level=level_wind).mean(['number', 'time']).squeeze().values\n",
    "                        speed = u_vals - curr_speed\n",
    "                else:\n",
    "                        speed = curr_speed\n",
    "\n",
    "                ax = plt.subplot(1,4,i+1, projection=ccrs.PlateCarree())\n",
    "                ax.set_extent(northsea, projection)\n",
    "                ax.add_feature(cfeature.COASTLINE.with_scale('50m'), color = 'grey', zorder = 14)\n",
    "\n",
    "                if e in ['pi', 'incr']:\n",
    "                        clevs_speed = np.linspace(-4, 4, 11)\n",
    "                        cf_diff = ax.contourf(longitude, latitude, speed, clevs_speed, cmap=cm.bam,\n",
    "                                transform=projection, zorder = 10, extend = 'both')\n",
    "                else:\n",
    "                        clevs_speed = np.linspace(speed_min, speed_max, 11)\n",
    "                        cf = ax.contourf(longitude, latitude, speed, clevs_speed, cmap=cm.tofino,\n",
    "                                transform=projection, zorder = 10, extend = 'max')\n",
    "\n",
    "                plt.title(e, size=fs)\n",
    "\n",
    "        ax = plt.subplot(1,4,4)\n",
    "        ax.axis('off')  # removes subplot frame\n",
    "        cax = ax.inset_axes([0.2, 0.02, 0.1, 0.95])  # creates inset, [x0,y0, width, height]\n",
    "        cbar = fig.colorbar(cf, cax=cax, label='Wind speed (m/s)', extend = 'both', shrink=0.8)\n",
    "        cbar.set_label(label='Wind speed (m/s)', size=fs) \n",
    "        cbar.ax.tick_params(labelsize=fs-3)\n",
    "\n",
    "        cax_diff = ax.inset_axes([0.6, 0.02, 0.1, 0.95])  # creates inset, [x0,y0, width, height]\n",
    "        cbar = fig.colorbar(cf_diff, cax=cax_diff, label='Zonal wind difference (m/s)', extend = 'both', shrink=0.8)\n",
    "        cbar.set_label(label='Zonal wind difference (m/s)', size=fs) \n",
    "        cbar.ax.tick_params(labelsize=fs-3)\n",
    "        plt.suptitle(f'PGW zonal wind at {level_wind}hPa, init {inidate}', size = fs)\n",
    "        plt.tight_layout()\n",
    "        plt.show()\n",
    "\n",
    "        plt.savefig(f'../figures/A14_zonal_winds_{inidate}_comparison.png', dpi=600)\n",
    "        plt.savefig(f'../figures/A14_zonal_winds_{inidate}_comparison.pdf') "
   ]
  },
  {
   "cell_type": "markdown",
   "metadata": {},
   "source": []
  }
 ],
 "metadata": {
  "kernelspec": {
   "display_name": "babet-3-7-12_new",
   "language": "python",
   "name": "python3"
  },
  "language_info": {
   "codemirror_mode": {
    "name": "ipython",
    "version": 3
   },
   "file_extension": ".py",
   "mimetype": "text/x-python",
   "name": "python",
   "nbconvert_exporter": "python",
   "pygments_lexer": "ipython3",
   "version": "3.7.12"
  }
 },
 "nbformat": 4,
 "nbformat_minor": 2
}
