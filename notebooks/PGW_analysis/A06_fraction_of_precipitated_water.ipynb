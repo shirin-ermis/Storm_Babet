{
 "cells": [
  {
   "cell_type": "code",
   "execution_count": null,
   "metadata": {},
   "outputs": [],
   "source": [
    "import matplotlib.pyplot as plt\n",
    "import numpy as np\n",
    "import xarray as xr\n",
    "import pandas as pd\n",
    "import os\n",
    "import seaborn as sns\n",
    "import random \n",
    "import dask\n",
    "import cartopy.crs as ccrs\n",
    "import cartopy.feature as cfeature\n",
    "from cmcrameri import cm\n",
    "import babet as bb\n",
    "import matplotlib.patches as patches\n",
    "from matplotlib.collections import PatchCollection\n",
    "import metpy.calc as mpcalc \n",
    "from metpy.units import units\n",
    "\n",
    "sns.set_theme(style=\"white\")\n",
    "sns.set_style(\"white\")\n",
    "\n",
    "random.seed(10)\n",
    "# inidates = ['2023-10-11', '2023-10-15', '2023-10-17']\n",
    "inidates = ['2023-10-11', '2023-10-13', '2023-10-15', '2023-10-17']\n",
    "experiments = ['pi', 'curr', 'incr']\n",
    "\n",
    "dask.config.set(**{'array.slicing.split_large_chunks': True})"
   ]
  },
  {
   "cell_type": "code",
   "execution_count": 1,
   "metadata": {},
   "outputs": [],
   "source": [
    "# Plot settings\n",
    "\n",
    "# UK\n",
    "lat_max = 60\n",
    "lat_min = 42\n",
    "lon_min = -12\n",
    "lon_max = 5\n",
    "\n",
    "# #Europe\n",
    "# lat_max = 70\n",
    "# lat_min = 33\n",
    "# lon_min = -27\n",
    "# lon_max = 25\n",
    "\n",
    "euroatlantic = [lon_min-13, lon_max, lat_min-5, lat_max+6]\n",
    "uk = [-11, 10, 48, 70]\n",
    "northsea = [-17, 20, 40, 70]"
   ]
  },
  {
   "cell_type": "markdown",
   "metadata": {},
   "source": [
    "# Import data etc"
   ]
  },
  {
   "cell_type": "code",
   "execution_count": null,
   "metadata": {},
   "outputs": [],
   "source": [
    "# Import forecast data \n",
    "base_dir = '/gf5/predict/AWH019_ERMIS_ATMICP/Babet/DATA/MED-R/EXP/{}/EU025/pl/pf'\n",
    "exp = {}\n",
    "for experiment in experiments:\n",
    "    exp[experiment] = xr.open_mfdataset(os.path.join(base_dir.format(experiment), '*.nc'), preprocess=bb.Data.preproc_ds)"
   ]
  },
  {
   "cell_type": "code",
   "execution_count": null,
   "metadata": {},
   "outputs": [],
   "source": [
    "# Import forecast data at surface\n",
    "base_dir = '/gf5/predict/AWH019_ERMIS_ATMICP/Babet/DATA/MED-R/EXP/{}/EU025/sfc/pf'\n",
    "exp_sfc = {}\n",
    "for experiment in experiments:\n",
    "    exp_sfc[experiment] = xr.open_mfdataset(os.path.join(base_dir.format(experiment), '*.nc'), preprocess=bb.Data.preproc_ds)"
   ]
  },
  {
   "cell_type": "code",
   "execution_count": null,
   "metadata": {},
   "outputs": [],
   "source": [
    "fpw = {key: (exp_sfc[key].tp/exp_sfc[key].tcw)*100 for key in exp_sfc.keys()}"
   ]
  },
  {
   "cell_type": "markdown",
   "metadata": {},
   "source": [
    "# Time series"
   ]
  },
  {
   "cell_type": "code",
   "execution_count": null,
   "metadata": {},
   "outputs": [],
   "source": [
    "times = ['2023-10-17 00', '2023-10-18 00', '2023-10-19 00', '2023-10-20 00', '2023-10-21 00', '2023-10-22 00']"
   ]
  },
  {
   "cell_type": "code",
   "execution_count": null,
   "metadata": {},
   "outputs": [],
   "source": [
    "inidate = '2023-10-15'\n",
    "experiment = 'curr' # TODO: change forcing experiment as needed\n",
    "\n",
    "latitude = exp_sfc['curr'].latitude.values\n",
    "longitude = exp_sfc['curr'].longitude.values\n",
    "\n",
    "fig, ax = plt.subplots(1, 6, figsize=(25, 3), subplot_kw={'projection': ccrs.PlateCarree()})\n",
    "\n",
    "\n",
    "for i, time in enumerate(times):\n",
    "    # ax[i].set_extent(uk, crs=ccrs.PlateCarree())\n",
    "    ax[i].add_feature(cfeature.COASTLINE.with_scale('50m'), edgecolor='gray', linewidth=0.5)\n",
    "\n",
    "    # Plot scalar advection\n",
    "    (fpw[experiment].sel(time=time, inidate=inidate).mean('number')).plot(vmin=0, vmax=1, \n",
    "                                                                    cmap=cm.devon_r, \n",
    "                                                                    ax=ax[i],\n",
    "                                                                    transform=ccrs.PlateCarree(),\n",
    "                                                                    cbar_kwargs={\"label\": \"Fraction of precipitated water [%]\"})\n",
    "\n",
    "    ax[i].set_title(f'{time}')\n",
    "plt.suptitle(f'Fraction of precipitated water {experiment}, ini {inidate}')"
   ]
  },
  {
   "cell_type": "code",
   "execution_count": null,
   "metadata": {},
   "outputs": [],
   "source": [
    "inidate = '2023-10-15'\n",
    "experiment = 'pi' # TODO: change forcing experiment as needed\n",
    "\n",
    "latitude = exp_sfc['curr'].latitude.values\n",
    "longitude = exp_sfc['curr'].longitude.values\n",
    "\n",
    "fig, ax = plt.subplots(1, 6, figsize=(25, 3), subplot_kw={'projection': ccrs.PlateCarree()})\n",
    "\n",
    "\n",
    "for i, time in enumerate(times):\n",
    "    # ax[i].set_extent(uk, crs=ccrs.PlateCarree())\n",
    "    ax[i].add_feature(cfeature.COASTLINE.with_scale('50m'), edgecolor='gray', linewidth=0.5)\n",
    "\n",
    "    # Plot scalar advection\n",
    "    (fpw[experiment].sel(time=time, inidate=inidate).mean('number')).plot(vmin=0, vmax=1, \n",
    "                                                                    cmap=cm.devon_r, \n",
    "                                                                    ax=ax[i],\n",
    "                                                                    transform=ccrs.PlateCarree(),\n",
    "                                                                    cbar_kwargs={\"label\": \"Fraction of precipitated water [%]\"})\n",
    "\n",
    "    ax[i].set_title(f'{time}')\n",
    "plt.suptitle(f'Fraction of precipitated water {experiment}, ini {inidate}')"
   ]
  },
  {
   "cell_type": "markdown",
   "metadata": {},
   "source": [
    "# Full period"
   ]
  },
  {
   "cell_type": "code",
   "execution_count": null,
   "metadata": {},
   "outputs": [],
   "source": [
    "avg_tcw = {key: exp_sfc[key].tcw.sel(time=slice(times[0], times[-1])).mean(dim=['time']) for key in exp_sfc.keys()}\n",
    "avg_fpw = {key: (exp_sfc[key].tp/avg_tcw[key]).sel(time=slice(times[0], times[-1])).mean(dim=['time'])*100 for key in exp_sfc.keys()}"
   ]
  },
  {
   "cell_type": "code",
   "execution_count": null,
   "metadata": {},
   "outputs": [],
   "source": [
    "inidate = '2023-10-15' # TODO: change inidate as needed\n",
    "\n",
    "latitude = exp_sfc['curr'].latitude.values # TODO: change forcing experiment as needed\n",
    "longitude = exp_sfc['curr'].longitude.values # TODO: change forcing experiment as needed\n",
    "\n",
    "fig, ax = plt.subplots(1, 3, figsize=(20, 4), subplot_kw={'projection': ccrs.PlateCarree()})\n",
    "\n",
    "\n",
    "for e, experiment in enumerate(experiments):\n",
    "    # ax[e].set_extent(uk, crs=ccrs.PlateCarree())\n",
    "    ax[e].add_feature(cfeature.COASTLINE.with_scale('50m'), edgecolor='gray', linewidth=0.5)\n",
    "\n",
    "    # Plot scalar advection\n",
    "    (avg_fpw[experiment].sel(inidate=inidate).mean('number')).plot(vmin=0, vmax=1, \n",
    "                                                                    cmap=cm.devon_r, \n",
    "                                                                    ax=ax[e],\n",
    "                                                                    transform=ccrs.PlateCarree(),\n",
    "                                                                    cbar_kwargs={\"label\": \"Fraction of precipitated water [%]\"})\n",
    "\n",
    "    ax[e].set_title(f'{experiment}')\n",
    "plt.suptitle(f'Fraction of precipitated water between {times[0]} and {times[-1]}, ini {inidate}')"
   ]
  },
  {
   "cell_type": "markdown",
   "metadata": {},
   "source": [
    "# Differences over full period "
   ]
  },
  {
   "cell_type": "code",
   "execution_count": null,
   "metadata": {},
   "outputs": [],
   "source": [
    "inidate = '2023-10-15' # TODO: change inidate as needed\n",
    "\n",
    "latitude = exp_sfc['curr'].latitude.values # TODO: change forcing experiment as needed\n",
    "longitude = exp_sfc['curr'].longitude.values # TODO: change forcing experiment as needed\n",
    "\n",
    "fig, ax = plt.subplots(1, 2, figsize=(20, 5), subplot_kw={'projection': ccrs.PlateCarree()})\n",
    "\n",
    "\n",
    "for e, experiment in enumerate(['pi', 'incr']):\n",
    "    # ax[e].set_extent(uk, crs=ccrs.PlateCarree())\n",
    "    ax[e].add_feature(cfeature.COASTLINE.with_scale('50m'), edgecolor='gray', linewidth=0.5)\n",
    "\n",
    "    # Plot scalar advection\n",
    "    ((avg_fpw[experiment]-avg_fpw['curr']).sel(inidate=inidate).mean('number')).plot(vmin=-0.1, vmax=0.1, \n",
    "                                                                    cmap=cm.broc_r, \n",
    "                                                                    ax=ax[e],\n",
    "                                                                    transform=ccrs.PlateCarree(),\n",
    "                                                                    cbar_kwargs={\"label\": \"Fraction of precipitated water [%]\"})\n",
    "\n",
    "    ax[e].set_title(f'{experiment}')\n",
    "plt.suptitle(f'Fraction of precipitated water between {times[0]} and {times[-1]}, ini {inidate}')"
   ]
  }
 ],
 "metadata": {
  "kernelspec": {
   "display_name": "babet-3-7-12_new",
   "language": "python",
   "name": "python3"
  },
  "language_info": {
   "codemirror_mode": {
    "name": "ipython",
    "version": 3
   },
   "file_extension": ".py",
   "mimetype": "text/x-python",
   "name": "python",
   "nbconvert_exporter": "python",
   "pygments_lexer": "ipython3",
   "version": "3.7.12"
  }
 },
 "nbformat": 4,
 "nbformat_minor": 2
}
