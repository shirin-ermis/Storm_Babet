{
 "cells": [
  {
   "cell_type": "code",
   "execution_count": 1,
   "metadata": {},
   "outputs": [],
   "source": [
    "import matplotlib.pyplot as plt\n",
    "import numpy as np\n",
    "import xarray as xr\n",
    "import pandas as pd\n",
    "import os\n",
    "import seaborn as sns\n",
    "import random \n",
    "import scipy as sc\n",
    "# import babet as bb\n",
    "import netCDF4\n",
    "import dask\n",
    "import cartopy.crs as ccrs\n",
    "import tqdm\n",
    "import cartopy.feature as cfeature\n",
    "\n",
    "sns.set_theme(style=\"white\")\n",
    "sns.set_style(\"white\")\n",
    "\n",
    "random.seed(10)"
   ]
  },
  {
   "cell_type": "code",
   "execution_count": 2,
   "metadata": {},
   "outputs": [
    {
     "data": {
      "text/plain": [
       "<dask.config.set at 0x7f15c5fb5050>"
      ]
     },
     "execution_count": 2,
     "metadata": {},
     "output_type": "execute_result"
    }
   ],
   "source": [
    "dask.config.set(**{'array.slicing.split_large_chunks': True})"
   ]
  },
  {
   "cell_type": "code",
   "execution_count": 3,
   "metadata": {},
   "outputs": [],
   "source": [
    "def accum2rate(ds):\n",
    "    \"\"\"\n",
    "    Function to convert accumulated variables to conventional ones.\n",
    "    Definition to convert accumulated variables to instantaneous.\n",
    "    Written by Nick Leach.\n",
    "\n",
    "    Input:\n",
    "    ------\n",
    "\n",
    "    Output:\n",
    "    -------\n",
    "    \"\"\"\n",
    "\n",
    "    dnew = ds.copy(deep=True)\n",
    "    oindex = dnew.time\n",
    "    dnew = dnew.diff('time') / (dnew.time.diff('time').astype(float) / 1e9 )\n",
    "    dnew = dnew.reindex(time=oindex)\n",
    "    return dnew[1:]"
   ]
  },
  {
   "cell_type": "code",
   "execution_count": 4,
   "metadata": {},
   "outputs": [],
   "source": [
    "def preproc_ds(ds):\n",
    "    \"\"\"\n",
    "    Main pre-processing function\n",
    "    Writtten by Nick Leach and Shirin Ermis.\n",
    "\n",
    "    Input:\n",
    "    ------\n",
    "    ds: xarray dataset\n",
    "\n",
    "    Output:\n",
    "    -------\n",
    "    \"\"\"\n",
    "\n",
    "    # accumulated variables & scaling factors\n",
    "    accumulated_vars = {'tp': 60 * 60 * 24 * 1e3,\n",
    "                        'ttr': 1,\n",
    "                        'tsr': 1,\n",
    "                        'str': 1,\n",
    "                        'ssr': 1,\n",
    "                        'e': 1}\n",
    "    accumulated_var_newunits = {'tp': 'mm day$^{-1}$',\n",
    "                                'ttr': 'W m$^{-2}$',\n",
    "                                'tsr': 'W m$^{-2}$',\n",
    "                                'str': 'W m$^{-2}$',\n",
    "                                'ssr': 'W m$^{-2}$',\n",
    "                                'e': 'm s$^{-1}$'}\n",
    "    ds1 = ds.copy().squeeze()\n",
    "    # set up aux data\n",
    "    inidate = pd.to_datetime(ds1.time[0].values)\n",
    "    # expand dimensions to include extra info\n",
    "    if not 'hDate' in ds1:\n",
    "        ds1 = ds1.expand_dims({'inidate': [inidate]}).copy()\n",
    "\n",
    "    if not 'number' in ds1:\n",
    "        ds1 = ds1.expand_dims({'number': [0]}).copy()\n",
    "\n",
    "    # put time dimension at front\n",
    "    ds1 = ds1.transpose('time', ...)\n",
    "    ds2 = ds1.copy(deep=True)\n",
    "\n",
    "    # convert accumulated variables into instantaneous\n",
    "    for var, sf in accumulated_vars.items():\n",
    "        if var in ds2.keys():\n",
    "            var_name = var+\"_rate\" \n",
    "            ds2 = ds2.assign(new=lambda x: accum2rate(x[var]) * sf)\n",
    "            ds2 = ds2.rename_vars({'new':str(var_name)})\n",
    "            ds2[var_name].loc[dict(time=ds2.time[1:])] = accum2rate(ds2[var]) * sf\n",
    "            # set first value to equal zero,\n",
    "            # should be zero but isn't always\n",
    "            ds2[var_name].loc[dict(time=ds2.time[0])] = 0\n",
    "            ds2[var_name].attrs['units'] = accumulated_var_newunits[var]\n",
    "    return ds2"
   ]
  },
  {
   "cell_type": "code",
   "execution_count": 5,
   "metadata": {},
   "outputs": [],
   "source": [
    "def hourly2accum(ds, start_day='2023-10-19 00', end_day='2023-10-22 00', m2mm=True):\n",
    "    \"\"\"\n",
    "    Function to convert hourly precipitation to accumulated precipitation in mm.\n",
    "    Also truncates the data to the desired time period.\n",
    "\n",
    "    Input:\n",
    "    ------\n",
    "    ds: xarray dataset\n",
    "\n",
    "    Output:\n",
    "    -------\n",
    "    ds_out: xarray dataset with precipitation accumulated in mm.\n",
    "    \"\"\"\n",
    "    if m2mm:\n",
    "        factor = 1000\n",
    "    else:\n",
    "        factor = 1\n",
    "    ds_out = ds.copy(deep=True).sel(time=slice(start_day, end_day))\n",
    "    ds_out['tp'] = ds_out.tp.cumsum(dim='time')*factor  # sum and convert to mm\n",
    "\n",
    "    return ds_out"
   ]
  },
  {
   "cell_type": "markdown",
   "metadata": {},
   "source": [
    "# Import data"
   ]
  },
  {
   "cell_type": "code",
   "execution_count": 7,
   "metadata": {},
   "outputs": [],
   "source": [
    "base_dir = '/home/e/ermis/Storm_Babet/data/'"
   ]
  },
  {
   "cell_type": "code",
   "execution_count": null,
   "metadata": {},
   "outputs": [],
   "source": []
  }
 ],
 "metadata": {
  "kernelspec": {
   "display_name": "babet-3-7-12",
   "language": "python",
   "name": "python3"
  },
  "language_info": {
   "codemirror_mode": {
    "name": "ipython",
    "version": 3
   },
   "file_extension": ".py",
   "mimetype": "text/x-python",
   "name": "python",
   "nbconvert_exporter": "python",
   "pygments_lexer": "ipython3",
   "version": "3.7.12"
  }
 },
 "nbformat": 4,
 "nbformat_minor": 2
}
